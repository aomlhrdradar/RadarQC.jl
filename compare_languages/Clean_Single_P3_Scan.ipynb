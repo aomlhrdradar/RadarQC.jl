{
 "cells": [
  {
   "cell_type": "markdown",
   "id": "93c97009",
   "metadata": {},
   "source": [
    "# Clean a single P3 TDR Scan"
   ]
  },
  {
   "cell_type": "markdown",
   "id": "f7239e73",
   "metadata": {},
   "source": [
    "### Import Statements"
   ]
  },
  {
   "cell_type": "code",
   "execution_count": 3,
   "id": "2a0bba31",
   "metadata": {},
   "outputs": [],
   "source": [
    "import math\n",
    "import os, sys\n",
    "import numpy as np\n",
    "#Workarounds for new numpy install - Uncomment Below if needed\n",
    "#np.object = object\n",
    "#np.int = int\n",
    "#np.float = float\n",
    "#np.bool = bool\n",
    "#np.typeDict = np.sctypeDict\n",
    "from scipy import ndimage\n",
    "import netCDF4 as nc4\n",
    "import re\n",
    "import h5py\n",
    "import glob\n",
    "\n",
    "import sys, argparse\n",
    "import pandas as pd\n",
    "import pickle\n",
    "\n",
    "# from keras.models import Sequential\n",
    "# from keras.layers import Dense, Dropout, BatchNormalization, LeakyReLU\n",
    "# from keras.models import model_from_yaml\n",
    "# from keras.callbacks import EarlyStopping, ModelCheckpoint\n",
    "# from keras.callbacks import TensorBoard\n",
    "\n",
    "# from sklearn.model_selection import train_test_split\n",
    "# from sklearn import svm\n",
    "# from sklearn import metrics\n",
    "# from sklearn.metrics import confusion_matrix\n",
    "# from sklearn.metrics import classification_report\n",
    "\n",
    "from sklearn.ensemble import RandomForestClassifier\n",
    "from sklearn.datasets import make_classification\n",
    "\n",
    "import matplotlib as mpl\n",
    "import matplotlib.pyplot as plt\n",
    "from tensorflow import keras\n",
    "\n",
    "from utils import *\n",
    "\n",
    "\n",
    "##Isaac module additions\n",
    "from os import listdir "
   ]
  },
  {
   "cell_type": "code",
   "execution_count": 10,
   "id": "892743d5",
   "metadata": {},
   "outputs": [],
   "source": [
    "fill_val = int(-32768)\n",
    "\n",
    "def write_to_cfrad(path, variable, var_name):\n",
    "    cfrad = nc4.Dataset(path, 'r+')\n",
    "    try:\n",
    "        currvar = cfrad.createVariable(var_name, 'i2', ('time','range',), fill_value=fill_val)\n",
    "        currvar[:,:] = variable\n",
    "    except RuntimeError:\n",
    "        cfrad[var_name] = variable\n",
    "    finally: \n",
    "        print(\"BRUH\")\n",
    "        cfrad.close()\n",
    "\n"
   ]
  },
  {
   "cell_type": "code",
   "execution_count": 4,
   "metadata": {},
   "outputs": [],
   "source": [
    "###Function for calculating PGG and AHT \n",
    "def get_PGG(cfrad):\n",
    "\n",
    "    max_time = cfrad.dimensions['time'].size\n",
    "    max_range = cfrad.dimensions['range'].size\n",
    "\n",
    "    rnge = cfrad.variables['range']\n",
    "    plane_alts = cfrad.variables['altitude']\n",
    "    ray_angles = cfrad.variables['elevation']\n",
    "    ranges = cfrad.variables['range']\n",
    "    azimuths = cfrad.variables['azimuth']\n",
    "\n",
    "    \n",
    "\n",
    "    heights = np.empty( (max_time, max_range) )\n",
    "    pgg = np.empty( (max_time, max_range) )\n",
    "\n",
    "    for time_idx in range(max_time):\n",
    "        for range_idx in range(max_range):\n",
    "            tangle = float(ray_angles[time_idx].data)\n",
    "            trange = float(ranges[range_idx].data)\n",
    "            talt = float(plane_alts[time_idx].data)\n",
    "            taz = float(azimuths[time_idx].data)\n",
    "            \n",
    "            heights[time_idx, range_idx] = computeHtKmAirborn(tangle, trange, talt)\n",
    "\n",
    "            pgg[time_idx, range_idx] = probGroundGates(tangle, trange, talt, taz, max_range)\n",
    "            \n",
    "\n",
    "    return(heights, pgg)\n"
   ]
  },
  {
   "cell_type": "code",
   "execution_count": 5,
   "id": "f8a7c50a",
   "metadata": {},
   "outputs": [
    {
     "ename": "NameError",
     "evalue": "name 'cfrad_loc' is not defined",
     "output_type": "error",
     "traceback": [
      "\u001b[0;31m---------------------------------------------------------------------------\u001b[0m",
      "\u001b[0;31mNameError\u001b[0m                                 Traceback (most recent call last)",
      "Cell \u001b[0;32mIn[5], line 1\u001b[0m\n\u001b[0;32m----> 1\u001b[0m cfrad \u001b[39m=\u001b[39m nc4\u001b[39m.\u001b[39mDataset(cfrad_loc)\n\u001b[1;32m      2\u001b[0m SVEL \u001b[39m=\u001b[39m compute_std(cfrad[\u001b[39m\"\u001b[39m\u001b[39mVEL\u001b[39m\u001b[39m\"\u001b[39m][:,:], \u001b[39m-\u001b[39m\u001b[39m32800\u001b[39m)\n\u001b[1;32m      3\u001b[0m IVV \u001b[39m=\u001b[39m compute_isolation(cfrad[\u001b[39m\"\u001b[39m\u001b[39mVEL\u001b[39m\u001b[39m\"\u001b[39m][:,:], \u001b[39m-\u001b[39m\u001b[39m32800\u001b[39m)\n",
      "\u001b[0;31mNameError\u001b[0m: name 'cfrad_loc' is not defined"
     ]
    }
   ],
   "source": [
    "cfrad = nc4.Dataset(cfrad_loc)\n",
    "SVEL = compute_std(cfrad[\"VEL\"][:,:], -32800)\n",
    "IVV = compute_isolation(cfrad[\"VEL\"][:,:], -32800)\n",
    "cfrad.close()"
   ]
  },
  {
   "cell_type": "code",
   "execution_count": 69,
   "id": "27121f5b",
   "metadata": {},
   "outputs": [
    {
     "name": "stdout",
     "output_type": "stream",
     "text": [
      "BRUH\n",
      "BRUH\n",
      "BRUH\n",
      "BRUH\n"
     ]
    }
   ],
   "source": [
    "write_to_cfrad(cfrad_loc, heights, \"AHT\")\n",
    "write_to_cfrad(cfrad_loc, pgg, \"PGG\")\n",
    "write_to_cfrad(cfrad_loc, SVEL, \"SVV\")\n",
    "write_to_cfrad(cfrad_loc, IVV, \"ISO(VEL)\")"
   ]
  },
  {
   "cell_type": "code",
   "execution_count": 18,
   "id": "ebc29df0",
   "metadata": {},
   "outputs": [
    {
     "data": {
      "text/plain": [
       "'/Users/ischluesche/Documents/Grad_School/Research/RadarQC/ALEX_VERIFICATION/Walkthrough_notebook'"
      ]
     },
     "execution_count": 18,
     "metadata": {},
     "output_type": "execute_result"
    }
   ],
   "source": [
    "os.getcwd()"
   ]
  },
  {
   "cell_type": "code",
   "execution_count": 28,
   "id": "9ba60b3b",
   "metadata": {},
   "outputs": [],
   "source": [
    "cfrad = nc4.Dataset(\"./cfrad/cfrad.20220918_124128.197_to_20220918_124132.176_N42RF-TS_AIR.nc\")"
   ]
  },
  {
   "cell_type": "code",
   "execution_count": 12,
   "id": "a091346d",
   "metadata": {},
   "outputs": [],
   "source": [
    "def load_single_netcdf_p3_new(loc, pattern = None, vars_to_calc=['VEL', 'DBZ', 'AVEL', 'ADBZ', 'SVEL', 'ISO', 'PGG', 'RG', 'NRG']):\n",
    "    # The first variable is the original (pre-clean) key\n",
    "    # The \"result' variabe is the cleaned up field.\n",
    "    # To create Y, we compare the \"key\" to the \"cleaned\" variable.\n",
    "\n",
    "    # ALT and all the AVGs/SDs are added by the script.\n",
    "    # Note that once we compute Y, we remove the cleaned up field\n",
    "    #     because it isn't needed anymore for training or testing.\n",
    "\n",
    "\n",
    "    my_vars = [ 'VEL', 'DBZ', 'SQI']\n",
    "    my_avgs = [ 'AVEL', 'ADBZ', 'ASQI' ]\n",
    "    my_stds = [ 'SVEL', 'SDBZ', 'SSQI' ]\n",
    "    my_iso = ['ISO']\n",
    "    my_PGG = ['PGG']\n",
    "    my_RG = ['RG']\n",
    "    my_NRG = ['NRG']\n",
    "\n",
    "\n",
    "    ISO_VAR = 'DBZ' \n",
    "\n",
    "    alt_index = len(my_vars)        # Index of altitude\n",
    "    avg_offset = alt_index + 1      # Averages will be after the altitude\n",
    "    std_offset = avg_offset + len(my_avgs)\n",
    "    iso_index = std_offset + len(my_stds)\n",
    "    PGG_index = iso_index + 1\n",
    "    RG_index = PGG_index + 1\n",
    "    NRG_index = RG_index + 1\n",
    "\n",
    "\n",
    "\n",
    "    #ELEV_index = NRG_index + 1\n",
    "\n",
    "\n",
    "    file_list = expand_path(loc, pattern)\n",
    "    print(file_list)\n",
    "    num_files = len(file_list)\n",
    "\n",
    "    max_x, max_y = get_dim(file_list)\n",
    "    flat_size = max_x * max_y\n",
    "    num_cols = num_files * flat_size\n",
    "    dim = (len(vars_to_calc), num_cols)\n",
    "\n",
    "    X = np.empty(dim)\n",
    "    ob_index = 0\n",
    "    fill_val = None\n",
    "\n",
    "    ###ISAAC MODIFICATIONS \n",
    "\n",
    "    for path in file_list:\n",
    "\n",
    "        ALT_COMPLETE = False \n",
    "\n",
    "        PGG_matrix = [[]]\n",
    "        ALT_matrix = [[]]\n",
    "\n",
    "        print(\"OK\")\n",
    "        print ('Reading ', path)\n",
    "        nc_ds = nc4.Dataset(path, 'r')\n",
    "\n",
    "        # read the variables we need to compute altitude\n",
    "        max_time = nc_ds.dimensions['time'].size\n",
    "        max_range = nc_ds.dimensions['range'].size\n",
    "        rnge = nc_ds.variables['range']\n",
    "        plane_alts = nc_ds.variables['altitude'] # (time)\n",
    "        ray_angles = nc_ds.variables['elevation'] # (time)\n",
    "        ranges = nc_ds.variables['range'] # (time)\n",
    "        azimuths = nc_ds.variables['azimuth'] # (time)\n",
    "\n",
    "\n",
    "        ###Isaac modifications \n",
    "        ###This is clunky as heck but just wanted to get something working \n",
    "        for i, var in enumerate(vars_to_calc): \n",
    "\n",
    "            if var in my_vars: \n",
    "\n",
    "                currmoment = nc_ds.variables[var]\n",
    "                fill_val = getattr(currmoment, '_FillValue')\n",
    "\n",
    "                # Flatten it and append to the X array\n",
    "                one_d = (currmoment[:]).reshape(-1)\n",
    "                X[i, range(ob_index, ob_index + one_d.size)] = one_d\n",
    "\n",
    "            elif var in my_avgs:\n",
    "\n",
    "                print('Computing averages for ', var)\n",
    "                var_avrg = compute_avgs(nc_ds.variables[var[1:]], fill_val)\n",
    "                one_d = (var_avrg[:]).reshape(-1)\n",
    "                X[i, range(ob_index, ob_index + one_d.size)] = one_d\n",
    "\n",
    "            elif var in my_stds:\n",
    "\n",
    "                print('Computing stds for ', var)\n",
    "                var_std = compute_std(nc_ds.variables[var[1:]], fill_val)\n",
    "                one_d = (var_std[:]).reshape(-1)\n",
    "                X[i, range(ob_index, ob_index + one_d.size)] = one_d \n",
    "            \n",
    "            elif var == 'ISO': \n",
    "\n",
    "                #This section calculates the isolation of radar gates\n",
    "                print('Computing isolation of ', var)\n",
    "                var_iso = compute_isolation(nc_ds.variables[ISO_VAR], fill_val)\n",
    "                one_d_iso = (var_iso[:]).reshape(-1)\n",
    "                X[i, range(ob_index, ob_index + one_d.size)] = one_d_iso\n",
    "\n",
    "            elif var == 'PGG' or var == 'ALT': \n",
    "                \n",
    "                if ALT_COMPLETE: \n",
    "                    if var == 'PGG': \n",
    "                        one_d_pgg = (PGG_matrix[:]).reshape(-1)\n",
    "                        X[i, range(ob_index, ob_index + one_d_pgg.size)] = one_d_pgg\n",
    "                    else: \n",
    "                        one_d_alt = (ALT_matrix[:]).reshape(-1)\n",
    "                        X[i, range(ob_index, ob_index + one_d_alt.size)] = one_d_alt \n",
    "\n",
    "                    continue \n",
    "                else: \n",
    "                    heights = np.empty( (max_time, max_range) )\n",
    "                    probgg = np.empty( (max_time, max_range) )\n",
    "                \n",
    "                    for time_idx in range(max_time):\n",
    "                        for range_idx in range(max_range):\n",
    "                            tangle = float(ray_angles[time_idx].data)\n",
    "                            trange = float(ranges[range_idx].data)\n",
    "                            talt   = float(plane_alts[time_idx].data)\n",
    "                            taz    = float(azimuths[time_idx].data)\n",
    "\n",
    "                            heights[time_idx, range_idx] = computeHtKmAirborn(\n",
    "                                tangle, trange, talt)\n",
    "\n",
    "                            probgg[time_idx, range_idx] = probGroundGates(\n",
    "                                tangle, trange, talt, taz, max_range)\n",
    "\n",
    "                    ALT_matrix = heights\n",
    "                    PGG_matrix = probgg\n",
    "                    if var == 'PGG': \n",
    "                        one_d = (PGG_matrix[:]).reshape(-1)\n",
    "                        X[i, range(ob_index, ob_index + one_d.size)] = one_d\n",
    "                    else:   \n",
    "                        one_d = (ALT_matrix[:]).reshape(-1) \n",
    "                        X[i, range(ob_index, ob_index + one_d.size)] = one_d\n",
    "\n",
    "            elif var == 'RG': \n",
    "                rg = np.empty( (max_time, max_range) )\n",
    "\n",
    "                for time_idx in range(max_time):\n",
    "                    for range_idx in range(max_range):\n",
    "                        rg[time_idx, range_idx] = rnge[range_idx]\n",
    "                        #elev[time_idx, range_idx] = rnge[time_idx]\n",
    "                        ralt = float(plane_alts[time_idx].data)\n",
    "\n",
    "                one_d = (rg[:]).reshape(-1)\n",
    "                X[i, range(ob_index, ob_index + one_d.size)] = one_d\n",
    "\n",
    "            elif var == 'NRG': \n",
    "\n",
    "                nrg = np.empty( (max_time, max_range) )\n",
    "                #elevat = np.empty( (max_time, max_range) )\n",
    "                for time_idx in range(max_time):\n",
    "                    for range_idx in range(max_range):\n",
    "                        rg[time_idx, range_idx] = rnge[range_idx]\n",
    "                        #elev[time_idx, range_idx] = rnge[time_idx]\n",
    "                        ralt = float(plane_alts[time_idx].data)\n",
    "                        nrg[time_idx, range_idx] = (rnge[range_idx])/ralt\n",
    "\n",
    "                one_d = (nrg[:]).reshape(-1)\n",
    "                X[i, range(ob_index, ob_index + one_d.size)] = one_d\n",
    "                # Read the \"feature\" variables\n",
    "\n",
    "\n",
    "            else: \n",
    "                raise Exception(\"UNKNOWN VARIABLE NAME\" + str(var)) \n",
    "            \n",
    "\n",
    "        nc_ds.close()\n",
    "        #The line below is vital to continued operation with multiple files\n",
    "        ob_index += one_d.size\n",
    "        \n",
    "        # for var in range(len(my_vars)):\n",
    "        #     my_var = nc_ds.variables[my_vars[var]]\n",
    "        #     fill_val = getattr(my_var, '_FillValue')\n",
    "        #     print(np.shape(my_var))\n",
    "\n",
    "        #     # Flatten it and append to the X array\n",
    "        #     one_d = (my_var[:]).reshape(-1)\n",
    "        #     X[var, range(ob_index, ob_index + one_d.size)] = one_d\n",
    "\n",
    "        #     # Compute the neighbor average, and append it to X\n",
    "\n",
    "        #     if var >= 3:        # Don't average VG since we will remove it\n",
    "        #         continue\n",
    "\n",
    "        #     print('Computing averages for ', my_vars[var])\n",
    "        #     var_avrg = compute_avgs(my_var, fill_val)\n",
    "        #     one_d = (var_avrg[:]).reshape(-1)\n",
    "        #     X[var + avg_offset, range(ob_index, ob_index + one_d.size)] = one_d\n",
    "\n",
    "        #     print('Computing std deviations for ', my_vars[var])\n",
    "        #     var_std = compute_std(my_var, fill_val)\n",
    "        #     one_d = (var_std[:]).reshape(-1)\n",
    "        #     X[var + std_offset, range(ob_index, ob_index + one_d.size)] = one_d\n",
    "\n",
    "        # #This section calculates the isolation of radar gates\n",
    "        # print('Computing isolation of ', my_vars[1])\n",
    "        # var_iso = compute_isolation(nc_ds.variables[my_vars[1]], fill_val)\n",
    "        # one_d_iso = (var_iso[:]).reshape(-1)\n",
    "        # X[iso_index, range(ob_index, ob_index + one_d.size)] = one_d_iso\n",
    "\n",
    "        # # Compute and add the height\n",
    "        \n",
    "        # print('Computing altitudes and probability of ground gates for ', max_time * max_range, ' entries')\n",
    "\n",
    "        # #This is where altitude is computed and how probability of ground gates should be implemented\n",
    "        # heights = np.empty( (max_time, max_range) )\n",
    "        # probgg = np.empty( (max_time, max_range) )\n",
    "    \n",
    "        # for time_idx in range(max_time):\n",
    "        #      for range_idx in range(max_range):\n",
    "        #          tangle = float(ray_angles[time_idx].data)\n",
    "        #          trange = float(ranges[range_idx].data)\n",
    "        #          talt   = float(plane_alts[time_idx].data)\n",
    "        #          taz    = float(azimuths[time_idx].data)\n",
    "\n",
    "        #          heights[time_idx, range_idx] = computeHtKmAirborn(\n",
    "        #             tangle, trange, talt)\n",
    "\n",
    "        #          probgg[time_idx, range_idx] = probGroundGates(\n",
    "        #             tangle, trange, talt, taz, max_range)\n",
    "\n",
    "        # one_d = (heights[:]).reshape(-1)\n",
    "        # X[alt_index, range(ob_index, ob_index + one_d.size)] = one_d\n",
    "\n",
    "        # one_d = (probgg[:]).reshape(-1)\n",
    "        # X[PGG_index, range(ob_index, ob_index + one_d.size)] = one_d\n",
    "\n",
    "        # print('Computing Range and Normalized Range')\n",
    "        # rg = np.empty( (max_time, max_range) )\n",
    "        # nrg = np.empty( (max_time, max_range) )\n",
    "        # #elevat = np.empty( (max_time, max_range) )\n",
    "        # for time_idx in range(max_time):\n",
    "        #      for range_idx in range(max_range):\n",
    "        #          rg[time_idx, range_idx] = rnge[range_idx]\n",
    "        #          #elev[time_idx, range_idx] = rnge[time_idx]\n",
    "        #          ralt = float(plane_alts[time_idx].data)\n",
    "        #          nrg[time_idx, range_idx] = (rnge[range_idx])/ralt\n",
    "\n",
    "        # one_d = (rg[:]).reshape(-1)\n",
    "        # X[RG_index, range(ob_index, ob_index + one_d.size)] = one_d\n",
    "\n",
    "        # one_d = (nrg[:]).reshape(-1)\n",
    "        # X[NRG_index, range(ob_index, ob_index + one_d.size)] = one_d\n",
    "        \n",
    "        # #one_d = (elevat[:]).reshape(-1)\n",
    "        # #X[ELEV_index, range(ob_index, ob_index + one_d.size)] = one_d\n",
    "        \n",
    "        # nc_ds.close()\n",
    "        # #The line below is vital to continued operation with multiple files\n",
    "        # ob_index += one_d.size\n",
    "\n",
    "    print(np.shape(X))\n",
    "    return X"
   ]
  },
  {
   "cell_type": "code",
   "execution_count": 13,
   "id": "150bec0b",
   "metadata": {},
   "outputs": [
    {
     "name": "stdout",
     "output_type": "stream",
     "text": [
      "/Users/ischluesche/Documents/Grad_School/Research/RadarQC/NOAA/TESTING/cfrad.20220918_125122.944_to_20220918_125126.918_N42RF-TS_AIR.nc\n",
      "['/Users/ischluesche/Documents/Grad_School/Research/RadarQC/NOAA/TESTING/cfrad.20220918_125122.944_to_20220918_125126.918_N42RF-TS_AIR.nc']\n",
      "OK\n",
      "Reading  /Users/ischluesche/Documents/Grad_School/Research/RadarQC/NOAA/TESTING/cfrad.20220918_125122.944_to_20220918_125126.918_N42RF-TS_AIR.nc\n",
      "Computing averages for  AVEL\n",
      "Computing averages for  ADBZ\n",
      "Computing stds for  SVEL\n",
      "Computing isolation of  ISO\n"
     ]
    },
    {
     "ename": "UnboundLocalError",
     "evalue": "local variable 'nrg' referenced before assignment",
     "output_type": "error",
     "traceback": [
      "\u001b[0;31m---------------------------------------------------------------------------\u001b[0m",
      "\u001b[0;31mUnboundLocalError\u001b[0m                         Traceback (most recent call last)",
      "Cell \u001b[0;32mIn[13], line 9\u001b[0m\n\u001b[1;32m      7\u001b[0m \u001b[39mfor\u001b[39;00m file \u001b[39min\u001b[39;00m curr_files: \n\u001b[1;32m      8\u001b[0m     \u001b[39mprint\u001b[39m(path \u001b[39m+\u001b[39m file)\n\u001b[0;32m----> 9\u001b[0m     get_ipython()\u001b[39m.\u001b[39;49mrun_line_magic(\u001b[39m'\u001b[39;49m\u001b[39mtimeit\u001b[39;49m\u001b[39m'\u001b[39;49m, \u001b[39m'\u001b[39;49m\u001b[39mload_single_netcdf_p3_new(path + file)\u001b[39;49m\u001b[39m'\u001b[39;49m)\n",
      "File \u001b[0;32m~/miniconda3/envs/P3_MLQC/lib/python3.9/site-packages/IPython/core/interactiveshell.py:2456\u001b[0m, in \u001b[0;36mInteractiveShell.run_line_magic\u001b[0;34m(self, magic_name, line, _stack_depth)\u001b[0m\n\u001b[1;32m   2454\u001b[0m     kwargs[\u001b[39m'\u001b[39m\u001b[39mlocal_ns\u001b[39m\u001b[39m'\u001b[39m] \u001b[39m=\u001b[39m \u001b[39mself\u001b[39m\u001b[39m.\u001b[39mget_local_scope(stack_depth)\n\u001b[1;32m   2455\u001b[0m \u001b[39mwith\u001b[39;00m \u001b[39mself\u001b[39m\u001b[39m.\u001b[39mbuiltin_trap:\n\u001b[0;32m-> 2456\u001b[0m     result \u001b[39m=\u001b[39m fn(\u001b[39m*\u001b[39;49margs, \u001b[39m*\u001b[39;49m\u001b[39m*\u001b[39;49mkwargs)\n\u001b[1;32m   2458\u001b[0m \u001b[39m# The code below prevents the output from being displayed\u001b[39;00m\n\u001b[1;32m   2459\u001b[0m \u001b[39m# when using magics with decorator @output_can_be_silenced\u001b[39;00m\n\u001b[1;32m   2460\u001b[0m \u001b[39m# when the last Python token in the expression is a ';'.\u001b[39;00m\n\u001b[1;32m   2461\u001b[0m \u001b[39mif\u001b[39;00m \u001b[39mgetattr\u001b[39m(fn, magic\u001b[39m.\u001b[39mMAGIC_OUTPUT_CAN_BE_SILENCED, \u001b[39mFalse\u001b[39;00m):\n",
      "File \u001b[0;32m~/miniconda3/envs/P3_MLQC/lib/python3.9/site-packages/IPython/core/magics/execution.py:1185\u001b[0m, in \u001b[0;36mExecutionMagics.timeit\u001b[0;34m(self, line, cell, local_ns)\u001b[0m\n\u001b[1;32m   1183\u001b[0m \u001b[39mfor\u001b[39;00m index \u001b[39min\u001b[39;00m \u001b[39mrange\u001b[39m(\u001b[39m0\u001b[39m, \u001b[39m10\u001b[39m):\n\u001b[1;32m   1184\u001b[0m     number \u001b[39m=\u001b[39m \u001b[39m10\u001b[39m \u001b[39m*\u001b[39m\u001b[39m*\u001b[39m index\n\u001b[0;32m-> 1185\u001b[0m     time_number \u001b[39m=\u001b[39m timer\u001b[39m.\u001b[39;49mtimeit(number)\n\u001b[1;32m   1186\u001b[0m     \u001b[39mif\u001b[39;00m time_number \u001b[39m>\u001b[39m\u001b[39m=\u001b[39m \u001b[39m0.2\u001b[39m:\n\u001b[1;32m   1187\u001b[0m         \u001b[39mbreak\u001b[39;00m\n",
      "File \u001b[0;32m~/miniconda3/envs/P3_MLQC/lib/python3.9/site-packages/IPython/core/magics/execution.py:173\u001b[0m, in \u001b[0;36mTimer.timeit\u001b[0;34m(self, number)\u001b[0m\n\u001b[1;32m    171\u001b[0m gc\u001b[39m.\u001b[39mdisable()\n\u001b[1;32m    172\u001b[0m \u001b[39mtry\u001b[39;00m:\n\u001b[0;32m--> 173\u001b[0m     timing \u001b[39m=\u001b[39m \u001b[39mself\u001b[39;49m\u001b[39m.\u001b[39;49minner(it, \u001b[39mself\u001b[39;49m\u001b[39m.\u001b[39;49mtimer)\n\u001b[1;32m    174\u001b[0m \u001b[39mfinally\u001b[39;00m:\n\u001b[1;32m    175\u001b[0m     \u001b[39mif\u001b[39;00m gcold:\n",
      "File \u001b[0;32m<magic-timeit>:1\u001b[0m, in \u001b[0;36minner\u001b[0;34m(_it, _timer)\u001b[0m\n",
      "Cell \u001b[0;32mIn[12], line 151\u001b[0m, in \u001b[0;36mload_single_netcdf_p3_new\u001b[0;34m(loc, pattern, vars_to_calc)\u001b[0m\n\u001b[1;32m    149\u001b[0m         \u001b[39m#elev[time_idx, range_idx] = rnge[time_idx]\u001b[39;00m\n\u001b[1;32m    150\u001b[0m         ralt \u001b[39m=\u001b[39m \u001b[39mfloat\u001b[39m(plane_alts[time_idx]\u001b[39m.\u001b[39mdata)\n\u001b[0;32m--> 151\u001b[0m         nrg[time_idx, range_idx] \u001b[39m=\u001b[39m (rnge[range_idx])\u001b[39m/\u001b[39mralt\n\u001b[1;32m    153\u001b[0m one_d \u001b[39m=\u001b[39m (rg[:])\u001b[39m.\u001b[39mreshape(\u001b[39m-\u001b[39m\u001b[39m1\u001b[39m)\n\u001b[1;32m    154\u001b[0m X[i, \u001b[39mrange\u001b[39m(ob_index, ob_index \u001b[39m+\u001b[39m one_d\u001b[39m.\u001b[39msize)] \u001b[39m=\u001b[39m one_d\n",
      "\u001b[0;31mUnboundLocalError\u001b[0m: local variable 'nrg' referenced before assignment"
     ]
    }
   ],
   "source": [
    "DATA_PATH = [str(\"/Users/ischluesche/Documents/Grad_School/Research/RadarQC/NOAA/TESTING/\")]\n",
    "#CASE_PATHS = [DATA_PATH + \"/BAMEX/\", DATA_PATH + \"/HAGUPIT/\", \n",
    "#              DATA_PATH + \"/RITA/\", DATA_PATH + \"/VORTEX/\"]\n",
    "\n",
    "for path in DATA_PATH:\n",
    "    curr_files = os.listdir(path)\n",
    "    for file in curr_files: \n",
    "        print(path + file)\n",
    "        %timeit load_single_netcdf_p3_new(path + file)"
   ]
  },
  {
   "cell_type": "markdown",
   "id": "410643a5",
   "metadata": {},
   "source": [
    "## Load the model"
   ]
  },
  {
   "cell_type": "code",
   "execution_count": 7,
   "id": "8bd62c08",
   "metadata": {},
   "outputs": [],
   "source": [
    "## For now this uses pickle, but I need to migrate to a new method, feel free to replace with your own\n",
    "\n",
    "#Load the rf Model that will process all the data - this is where you change the model you want to use\n",
    "rf_pkl_filename = './rf_model/rf_21_14_firstcut_NOAA_P3.pkl'\n",
    "\n",
    "#This part of the model loading code stays constant\n",
    "load_rf_model_pkl = open(rf_pkl_filename, 'rb')\n",
    "stored_rf_model = pickle.load(load_rf_model_pkl)"
   ]
  },
  {
   "cell_type": "code",
   "execution_count": 7,
   "id": "86e179a6",
   "metadata": {},
   "outputs": [
    {
     "name": "stdout",
     "output_type": "stream",
     "text": [
      "ALT INDEX3\n",
      "ISO_INDEX: 10\n",
      "PGG_INDEX: 11\n",
      "RG_INDEX: 12\n",
      "Reading  ./cfrad/cfrad.20220918_124128.197_to_20220918_124132.176_N42RF-TS_AIR.nc\n",
      "(360, 721)\n",
      "Computing averages for  VEL\n",
      "Computing std deviations for  VEL\n",
      "(360, 721)\n",
      "Computing averages for  DBZ\n",
      "Computing std deviations for  DBZ\n",
      "(360, 721)\n",
      "Computing averages for  SQI\n",
      "Computing std deviations for  SQI\n",
      "Computing isolation of  DBZ\n",
      "Computing altitudes and probability of ground gates for  259560  entries\n",
      "Computing Range and Normalized Range\n",
      "(15, 259560)\n"
     ]
    }
   ],
   "source": [
    "###Grab calculated paramters and output it to an h5 files \n",
    "\n",
    "file_array = [\"./cfrad/cfrad.20220918_124128.197_to_20220918_124132.176_N42RF-TS_AIR.nc\"]\n",
    "X = load_single_netcdf_p3_new(file_array[0]) \n"
   ]
  },
  {
   "cell_type": "code",
   "execution_count": 8,
   "id": "6477ef13",
   "metadata": {},
   "outputs": [],
   "source": [
    "header = [ 'VEL', 'DBZ', 'SQI', 'ALT', 'AVEL', 'ADBZ', 'ASQI', 'SVEL', 'SDBZ', 'SSQI', 'ISO', 'PGG', 'RG', 'NRG', 'EMPTY']\n"
   ]
  },
  {
   "cell_type": "code",
   "execution_count": 33,
   "id": "cb894a1d",
   "metadata": {},
   "outputs": [
    {
     "data": {
      "text/plain": [
       "masked_array(\n",
       "  data=[[ 0.  ,  0.  ,  0.03, ...,  0.  ,  0.  ,  0.  ],\n",
       "        [ 0.  ,  0.  ,  0.04, ...,  0.  ,  0.  ,  0.  ],\n",
       "        [ 0.  , -0.01, -0.06, ...,  0.  ,  0.  ,  0.  ],\n",
       "        ...,\n",
       "        [ 0.  ,  0.  ,  0.03, ...,  0.  ,  0.  ,  0.  ],\n",
       "        [ 0.  ,  0.  ,  0.  , ...,  0.  ,  0.  ,  0.  ],\n",
       "        [ 0.  ,  0.01,  0.06, ...,  0.  ,  0.  ,  0.  ]],\n",
       "  mask=False,\n",
       "  fill_value=1e+20)"
      ]
     },
     "execution_count": 33,
     "metadata": {},
     "output_type": "execute_result"
    }
   ],
   "source": [
    "cfrad[\"VEL\"][:,:]"
   ]
  },
  {
   "cell_type": "code",
   "execution_count": 51,
   "id": "2861b4db",
   "metadata": {},
   "outputs": [
    {
     "data": {
      "text/plain": [
       "array([[ 8.67361738e-17,  1.07272727e+01,  3.45714286e+01,\n",
       "         3.61818182e+01,  4.72500000e+01],\n",
       "       [ 3.63636364e-01,  1.20666667e+01,  3.88421053e+01,\n",
       "         4.64666667e+01,  5.08181818e+01],\n",
       "       [ 4.28571429e-01,  1.20000000e+01,  3.71666667e+01,\n",
       "         4.74736842e+01,  5.80000000e+01],\n",
       "       [ 2.72727273e-01,  9.00000000e+00,  3.57894737e+01,\n",
       "         4.16666667e+01,  4.48181818e+01],\n",
       "       [-1.25000000e-01,  7.81818182e+00,  3.20714286e+01,\n",
       "         3.70000000e+01,  4.42500000e+01]])"
      ]
     },
     "execution_count": 51,
     "metadata": {},
     "output_type": "execute_result"
    }
   ],
   "source": [
    "compute_avgs(cfrad[\"VEL\"][0:5,0:5], fill_val=-3222) * 100"
   ]
  },
  {
   "cell_type": "code",
   "execution_count": 47,
   "id": "cfa34b1a",
   "metadata": {},
   "outputs": [
    {
     "data": {
      "text/plain": [
       "0.113125"
      ]
     },
     "execution_count": 47,
     "metadata": {},
     "output_type": "execute_result"
    }
   ],
   "source": [
    "np.nanmean(cfrad[\"VEL\"][0:4, 0:4])"
   ]
  },
  {
   "cell_type": "code",
   "execution_count": 43,
   "id": "897e7e51",
   "metadata": {},
   "outputs": [],
   "source": [
    "toy_arr = cfrad[\"VEL\"][0:4, 0:4]"
   ]
  },
  {
   "cell_type": "code",
   "execution_count": 27,
   "id": "f7f3491a",
   "metadata": {},
   "outputs": [
    {
     "data": {
      "text/plain": [
       "array([[ 8.67361738e-19,  1.07272727e-01,  3.45714286e-01, ...,\n",
       "        -2.40714286e-01, -3.90000000e-01, -5.88571429e-01],\n",
       "       [-9.05714286e-01, -8.83571429e-01, -7.00714286e-01, ...,\n",
       "         0.00000000e+00,  0.00000000e+00,  0.00000000e+00],\n",
       "       [ 0.00000000e+00,  3.63636364e-03,  1.20666667e-01, ...,\n",
       "         6.30526316e-01,  2.74210526e-01,  2.10526316e-02],\n",
       "       ...,\n",
       "       [-1.21773684e+01, -1.08489474e+01, -1.16205263e+01, ...,\n",
       "         0.00000000e+00,  0.00000000e+00,  1.25000000e-02],\n",
       "       [ 2.17272727e-01,  6.23571429e-01,  1.07500000e+00, ...,\n",
       "        -1.30635714e+01, -1.19614286e+01, -1.32921429e+01],\n",
       "       [-1.47264286e+01, -1.08992857e+01, -9.37714286e+00, ...,\n",
       "         0.00000000e+00,  0.00000000e+00,  0.00000000e+00]])"
      ]
     },
     "execution_count": 27,
     "metadata": {},
     "output_type": "execute_result"
    }
   ],
   "source": [
    "X[4, :].reshape(721,360)"
   ]
  },
  {
   "cell_type": "code",
   "execution_count": 11,
   "id": "92455939",
   "metadata": {},
   "outputs": [
    {
     "ename": "NameError",
     "evalue": "name 'utils' is not defined",
     "output_type": "error",
     "traceback": [
      "\u001b[0;31m---------------------------------------------------------------------------\u001b[0m",
      "\u001b[0;31mNameError\u001b[0m                                 Traceback (most recent call last)",
      "Cell \u001b[0;32mIn[11], line 1\u001b[0m\n\u001b[0;32m----> 1\u001b[0m utils\u001b[39m.\u001b[39mcompute_avg\n",
      "\u001b[0;31mNameError\u001b[0m: name 'utils' is not defined"
     ]
    }
   ],
   "source": [
    "utils.compute_avg"
   ]
  },
  {
   "cell_type": "code",
   "execution_count": null,
   "id": "a4412c14",
   "metadata": {},
   "outputs": [],
   "source": [
    "\n"
   ]
  },
  {
   "cell_type": "code",
   "execution_count": 9,
   "id": "9db54a4e",
   "metadata": {},
   "outputs": [
    {
     "ename": "OSError",
     "evalue": "[Errno -101] NetCDF: HDF error: b'./cfrad/cfrad.20220918_124128.197_to_20220918_124132.176_N42RF-TS_AIR.nc'",
     "output_type": "error",
     "traceback": [
      "\u001b[0;31m---------------------------------------------------------------------------\u001b[0m",
      "\u001b[0;31mOSError\u001b[0m                                   Traceback (most recent call last)",
      "Cell \u001b[0;32mIn[9], line 1\u001b[0m\n\u001b[0;32m----> 1\u001b[0m currset \u001b[39m=\u001b[39m nc4\u001b[39m.\u001b[39;49mDataset(file_array[\u001b[39m0\u001b[39;49m], \u001b[39m'\u001b[39;49m\u001b[39mr+\u001b[39;49m\u001b[39m'\u001b[39;49m)\n\u001b[1;32m      2\u001b[0m timedim \u001b[39m=\u001b[39m currset\u001b[39m.\u001b[39mdimensions[\u001b[39m'\u001b[39m\u001b[39mtime\u001b[39m\u001b[39m'\u001b[39m]\n\u001b[1;32m      3\u001b[0m rangedim \u001b[39m=\u001b[39m currset\u001b[39m.\u001b[39mdimensions[\u001b[39m'\u001b[39m\u001b[39mrange\u001b[39m\u001b[39m'\u001b[39m]\n",
      "File \u001b[0;32msrc/netCDF4/_netCDF4.pyx:2463\u001b[0m, in \u001b[0;36mnetCDF4._netCDF4.Dataset.__init__\u001b[0;34m()\u001b[0m\n",
      "File \u001b[0;32msrc/netCDF4/_netCDF4.pyx:2026\u001b[0m, in \u001b[0;36mnetCDF4._netCDF4._ensure_nc_success\u001b[0;34m()\u001b[0m\n",
      "\u001b[0;31mOSError\u001b[0m: [Errno -101] NetCDF: HDF error: b'./cfrad/cfrad.20220918_124128.197_to_20220918_124132.176_N42RF-TS_AIR.nc'"
     ]
    }
   ],
   "source": [
    "currset = nc4.Dataset(file_array[0], 'r+')\n",
    "timedim = currset.dimensions['time']\n",
    "rangedim = currset.dimensions['range']\n",
    "\n",
    "for i, variable in enumerate(header): \n",
    "\n",
    "    try: \n",
    "        currset.createVariable(variable, 'f8', ('time', 'range'))\n",
    "    ##If already defined, just overwrite \n",
    "    except RuntimeError as e:\n",
    "        currset[variable][:, :] = X[i].reshape([len(timedim), len(rangedim)])\n",
    "\n",
    "    \n",
    "    currset[variable].long_name = 'New ML edited VG field'\n",
    "    currset[variable].units = 'm/s'\n",
    "    currset[variable].add_offset = -0.0\n",
    "    #currset[variable].scale_factor = 0.01\n",
    "    currset[variable].grid_mapping = 'grid_mapping'\n",
    "    currset[variable].sampling_ratio = 1.0\n",
    "    currset[variable].coordinates = 'time range'\n",
    "\n",
    "currset.close() \n",
    "    \n"
   ]
  },
  {
   "cell_type": "code",
   "execution_count": 39,
   "id": "7c0734ad",
   "metadata": {},
   "outputs": [],
   "source": [
    "nc4.Dataset(file_array[0], 'r+').set_fill_off()"
   ]
  },
  {
   "cell_type": "code",
   "execution_count": 40,
   "id": "f827ed7b",
   "metadata": {},
   "outputs": [
    {
     "data": {
      "text/plain": [
       "<class 'netCDF4._netCDF4.Dataset'>\n",
       "root group (NETCDF4 data model, file format HDF5):\n",
       "    Conventions: CF-1.7\n",
       "    Sub_conventions: CF-Radial instrument_parameters radar_parameters radar_calibration platform_velocity geometry_correction\n",
       "    version: CF-Radial-1.4\n",
       "    title: RAW-ALL\n",
       "    institution: \n",
       "    references: Conversi\n",
       "    source: Sigmet I\n",
       "    history: !   time-now 11/03/2023 17:19:20.000 GMT\n",
       "    sweep-directory \"./\"\n",
       "    radar-names N42RF-TS\n",
       "    first-sweep first\n",
       "    last-sweep last\n",
       "    version last\n",
       "no-new-version\n",
       "optimal-beamwidth is 2.0 degrees\n",
       "a-speckle is 3 gates\n",
       "! for-each-ray\n",
       "copy DBZ to DT\n",
       "copy VEL to VG\n",
       "clear-bad-flags\n",
       "copy-bad-flags from DT\n",
       "assert-bad-flags in VG\n",
       "clear-bad-flags\n",
       "remove-aircraft-motion in VG\n",
       "remove-ring in VG from 0.0 to 0.275 km.\n",
       "remove-ring in VG from 51.8 to 55.0 km.\n",
       "threshold VG on SQI below 0.3\n",
       "remove-only-surface in VG\n",
       "copy-bad-flags from VG\n",
       "assert-bad-flags in DT\n",
       "copy DT to SLA\n",
       "assign-value 9.0 to SLA\n",
       "copy-bad-flags from DT\n",
       "assert-bad-flags in SLA\n",
       "remove-ring in SLA from 5.7 to 55.0 km.\n",
       "add-field SLA to DT put-in ZZ\n",
       "set-bad-flags when ZZ below -20.0\n",
       "assert-bad-flags in ZZ\n",
       "assert-bad-flags in VG\n",
       "set-bad-flags when WIDTH above 8.0\n",
       "assert-bad-flags in ZZ\n",
       "assert-bad-flags in VG\n",
       "despeckle VG\n",
       "copy-bad-flags from VG\n",
       "assert-bad-flags in ZZ\n",
       "ignore-field DT\n",
       "ignore-field SLA\n",
       "copy ZZ to DZ\n",
       "copy VG to VE\n",
       "remove-ring in DZ from 0.0 to 0.275 km.\n",
       "remove-ring in DZ from 51.8 to 55.0 km.\n",
       "remove-ring in VE from 0.0 to 0.275 km.\n",
       "remove-ring in VE from 51.8 to 55.0 km.\n",
       "\n",
       "\n",
       "    comment: Written by DoradeRadxFile object\n",
       "    original_format: DORADE\n",
       "    driver: RadxConvert(NCAR)\n",
       "    created: 2023/11/09 21:18:21.428\n",
       "    start_datetime: 2022-09-18T12:41:28Z\n",
       "    time_coverage_start: 2022-09-18T12:41:28Z\n",
       "    start_time: 2022-09-18 12:41:28.197\n",
       "    end_datetime: 2022-09-18T12:41:32Z\n",
       "    time_coverage_end: 2022-09-18T12:41:32Z\n",
       "    end_time: 2022-09-18 12:41:32.176\n",
       "    instrument_name: N42RF-TS\n",
       "    site_name: \n",
       "    scan_name: \n",
       "    scan_id: 0\n",
       "    platform_is_mobile: true\n",
       "    n_gates_vary: false\n",
       "    ray_times_increase: true\n",
       "    dimensions(sizes): time(360), range(721), sweep(1), string_length_8(8), string_length_32(32), status_xml_length(1), r_calib(1), frequency(1)\n",
       "    variables(dimensions): int32 volume_number(), |S1 platform_type(string_length_32), |S1 primary_axis(string_length_32), |S1 status_xml(status_xml_length), |S1 instrument_type(string_length_32), float32 radar_antenna_gain_h(), float32 radar_antenna_gain_v(), float32 radar_beam_width_h(), float32 radar_beam_width_v(), float32 radar_rx_bandwidth(), |S1 time_coverage_start(string_length_32), |S1 time_coverage_end(string_length_32), float32 frequency(frequency), float32 azimuth_correction(), float32 elevation_correction(), float32 range_correction(), float32 longitude_correction(), float32 latitude_correction(), float32 pressure_altitude_correction(), float32 altitude_correction(), float32 eastward_velocity_correction(), float32 northward_velocity_correction(), float32 vertical_velocity_correction(), float32 heading_correction(), float32 roll_correction(), float32 pitch_correction(), float32 drift_correction(), float32 rotation_correction(), float32 tilt_correction(), int32 grid_mapping(), int32 sweep_number(sweep), |S1 sweep_mode(sweep, string_length_32), |S1 polarization_mode(sweep, string_length_32), |S1 prt_mode(sweep, string_length_32), |S1 follow_mode(sweep, string_length_32), float32 fixed_angle(sweep), float32 target_scan_rate(sweep), int32 sweep_start_ray_index(sweep), int32 sweep_end_ray_index(sweep), |S1 rays_are_indexed(sweep, string_length_8), float32 ray_angle_res(sweep), |S1 r_calib_time(r_calib, string_length_32), float32 r_calib_pulse_width(r_calib), float32 r_calib_xmit_power_h(r_calib), float32 r_calib_xmit_power_v(r_calib), float32 r_calib_two_way_waveguide_loss_h(r_calib), float32 r_calib_two_way_waveguide_loss_v(r_calib), float32 r_calib_two_way_radome_loss_h(r_calib), float32 r_calib_two_way_radome_loss_v(r_calib), float32 r_calib_receiver_mismatch_loss(r_calib), float32 r_calib_k_squared_water(r_calib), float32 r_calib_radar_constant_h(r_calib), float32 r_calib_radar_constant_v(r_calib), float32 r_calib_antenna_gain_h(r_calib), float32 r_calib_antenna_gain_v(r_calib), float32 r_calib_noise_hc(r_calib), float32 r_calib_noise_vc(r_calib), float32 r_calib_noise_hx(r_calib), float32 r_calib_noise_vx(r_calib), float32 r_calib_i0_dbm_hc(r_calib), float32 r_calib_i0_dbm_vc(r_calib), float32 r_calib_i0_dbm_hx(r_calib), float32 r_calib_i0_dbm_vx(r_calib), float32 r_calib_receiver_gain_hc(r_calib), float32 r_calib_receiver_gain_vc(r_calib), float32 r_calib_receiver_gain_hx(r_calib), float32 r_calib_receiver_gain_vx(r_calib), float32 r_calib_receiver_slope_hc(r_calib), float32 r_calib_receiver_slope_vc(r_calib), float32 r_calib_receiver_slope_hx(r_calib), float32 r_calib_receiver_slope_vx(r_calib), float32 r_calib_dynamic_range_db_hc(r_calib), float32 r_calib_dynamic_range_db_vc(r_calib), float32 r_calib_dynamic_range_db_hx(r_calib), float32 r_calib_dynamic_range_db_vx(r_calib), float32 r_calib_base_dbz_1km_hc(r_calib), float32 r_calib_base_dbz_1km_vc(r_calib), float32 r_calib_base_dbz_1km_hx(r_calib), float32 r_calib_base_dbz_1km_vx(r_calib), float32 r_calib_sun_power_hc(r_calib), float32 r_calib_sun_power_vc(r_calib), float32 r_calib_sun_power_hx(r_calib), float32 r_calib_sun_power_vx(r_calib), float32 r_calib_noise_source_power_h(r_calib), float32 r_calib_noise_source_power_v(r_calib), float32 r_calib_power_measure_loss_h(r_calib), float32 r_calib_power_measure_loss_v(r_calib), float32 r_calib_coupler_forward_loss_h(r_calib), float32 r_calib_coupler_forward_loss_v(r_calib), float32 r_calib_dbz_correction(r_calib), float32 r_calib_zdr_correction(r_calib), float32 r_calib_ldr_correction_h(r_calib), float32 r_calib_ldr_correction_v(r_calib), float32 r_calib_system_phidp(r_calib), float32 r_calib_test_power_h(r_calib), float32 r_calib_test_power_v(r_calib), float64 time(time), float32 range(range), float32 ray_start_range(time), float32 ray_gate_spacing(time), float32 azimuth(time), float32 elevation(time), float32 pulse_width(time), float32 prt(time), float32 prt_ratio(time), float32 nyquist_velocity(time), float32 unambiguous_range(time), int8 antenna_transition(time), int8 georefs_applied(time), int32 n_samples(time), int32 r_calib_index(time), float32 measured_transmit_power_h(time), float32 measured_transmit_power_v(time), float32 scan_rate(time), float64 georef_time(time), int32 georef_unit_num(time), int32 georef_unit_id(time), float64 latitude(time), float64 longitude(time), float64 altitude(time), float64 altitude_agl(time), float32 heading(time), float32 roll(time), float32 pitch(time), float32 drift(time), float32 rotation(time), float32 tilt(time), float32 eastward_velocity(time), float32 northward_velocity(time), float32 vertical_velocity(time), float32 eastward_wind(time), float32 northward_wind(time), float32 vertical_wind(time), float32 heading_change_rate(time), float32 pitch_change_rate(time), int16 DBZ_TOT(time, range), int16 DBZ(time, range), int16 VEL(time, range), int16 WIDTH(time, range), int16 SQI(time, range), int16 DZ(time, range), int16 VG(time, range), int16 VE(time, range), int16 ZZ(time, range), int16 VU(time, range), int16 ZE1(time, range), int16 VGE1(time, range), int16 ALT1(time, range), int16 PGG1(time, range), float64 VEL1(time, range), float64 DBZ1(time, range), float64 SQI1(time, range), float64 VEL2(time, range), float64 DBZ2(time, range), float64 SQI2(time, range), float64 ALT2(time, range), float64 ALT(time, range), float64 AVEL(time, range), float64 ADBZ(time, range), float64 ASQI(time, range), float64 SVEL(time, range), float64 SDBZ(time, range), float64 SSQI(time, range), float64 ISO(time, range), float64 PGG(time, range), float64 RG(time, range), float64 NRG(time, range), float64 EMPTY(time, range)\n",
       "    groups: "
      ]
     },
     "execution_count": 40,
     "metadata": {},
     "output_type": "execute_result"
    }
   ],
   "source": [
    "nc4.Dataset(file_array[0], 'r+')"
   ]
  },
  {
   "cell_type": "code",
   "execution_count": 27,
   "id": "dbbbdc26",
   "metadata": {},
   "outputs": [],
   "source": [
    "currset = nc4.Dataset(file_array[0], 'r+')\n",
    "range_dim = currset[\"range\"].size\n",
    "time_dim = currset[\"time\"].size"
   ]
  },
  {
   "cell_type": "code",
   "execution_count": 26,
   "id": "a6ab1b98",
   "metadata": {},
   "outputs": [
    {
     "data": {
      "text/plain": [
       "721"
      ]
     },
     "execution_count": 26,
     "metadata": {},
     "output_type": "execute_result"
    }
   ],
   "source": [
    "currset.crea"
   ]
  },
  {
   "cell_type": "markdown",
   "id": "6d93ba91",
   "metadata": {},
   "source": [
    "## Run the QC: Should ttake ~ 5 mins"
   ]
  },
  {
   "cell_type": "code",
   "execution_count": 12,
   "id": "161473a4",
   "metadata": {},
   "outputs": [
    {
     "name": "stdout",
     "output_type": "stream",
     "text": [
      "./cfrad/cfrad.20220918_124128.197_to_20220918_124132.176_N42RF-TS_AIR.nc\n",
      "ALT INDEX3\n",
      "ISO_INDEX: 10\n",
      "PGG_INDEX: 11\n",
      "RG_INDEX: 12\n",
      "Reading  ./cfrad/cfrad.20220918_124128.197_to_20220918_124132.176_N42RF-TS_AIR.nc\n",
      "(360, 721)\n",
      "Computing averages for  VEL\n",
      "Computing std deviations for  VEL\n",
      "(360, 721)\n",
      "Computing averages for  DBZ\n",
      "Computing std deviations for  DBZ\n",
      "(360, 721)\n",
      "Computing averages for  SQI\n",
      "Computing std deviations for  SQI\n",
      "Computing isolation of  DBZ\n",
      "Computing altitudes and probability of ground gates for  259560  entries\n",
      "Computing Range and Normalized Range\n",
      "(15, 259560)\n",
      "(6, 259560)\n",
      "PREDICTING USING X OF SHAPE (6, 259560)\n",
      "57572\n",
      "144877\n",
      "80067\n",
      "110500\n",
      "57534\n",
      "202026\n"
     ]
    },
    {
     "ename": "RuntimeError",
     "evalue": "NetCDF: String match to name in use",
     "output_type": "error",
     "traceback": [
      "\u001b[0;31m---------------------------------------------------------------------------\u001b[0m",
      "\u001b[0;31mRuntimeError\u001b[0m                              Traceback (most recent call last)",
      "Cell \u001b[0;32mIn[12], line 67\u001b[0m\n\u001b[1;32m     65\u001b[0m PGG \u001b[39m=\u001b[39m PGG\u001b[39m.\u001b[39mreshape([\u001b[39mlen\u001b[39m(timedim), \u001b[39mlen\u001b[39m(rangedim)])\n\u001b[1;32m     66\u001b[0m \u001b[39m#At this step the new fields are created in the cfradial file to become the new ML edited versions of the data\u001b[39;00m\n\u001b[0;32m---> 67\u001b[0m ze \u001b[39m=\u001b[39m nc_ds\u001b[39m.\u001b[39;49mcreateVariable(\u001b[39m'\u001b[39;49m\u001b[39mZE1\u001b[39;49m\u001b[39m'\u001b[39;49m, \u001b[39m'\u001b[39;49m\u001b[39mi2\u001b[39;49m\u001b[39m'\u001b[39;49m, (\u001b[39m'\u001b[39;49m\u001b[39mtime\u001b[39;49m\u001b[39m'\u001b[39;49m,\u001b[39m'\u001b[39;49m\u001b[39mrange\u001b[39;49m\u001b[39m'\u001b[39;49m,), fill_value\u001b[39m=\u001b[39;49m fill_val)\n\u001b[1;32m     68\u001b[0m ze\u001b[39m.\u001b[39mlong_name \u001b[39m=\u001b[39m \u001b[39m'\u001b[39m\u001b[39mNew ML edited DBZ field\u001b[39m\u001b[39m'\u001b[39m\n\u001b[1;32m     69\u001b[0m ze\u001b[39m.\u001b[39munits \u001b[39m=\u001b[39m \u001b[39m'\u001b[39m\u001b[39mdBz\u001b[39m\u001b[39m'\u001b[39m\n",
      "File \u001b[0;32msrc/netCDF4/_netCDF4.pyx:2962\u001b[0m, in \u001b[0;36mnetCDF4._netCDF4.Dataset.createVariable\u001b[0;34m()\u001b[0m\n",
      "File \u001b[0;32msrc/netCDF4/_netCDF4.pyx:4193\u001b[0m, in \u001b[0;36mnetCDF4._netCDF4.Variable.__init__\u001b[0;34m()\u001b[0m\n",
      "File \u001b[0;32msrc/netCDF4/_netCDF4.pyx:2028\u001b[0m, in \u001b[0;36mnetCDF4._netCDF4._ensure_nc_success\u001b[0;34m()\u001b[0m\n",
      "\u001b[0;31mRuntimeError\u001b[0m: NetCDF: String match to name in use"
     ]
    }
   ],
   "source": [
    "#An iterator to loop through all files in the pass - for now it is just 1\n",
    "file_array = glob.glob('./cfrad/cfrad.*')\n",
    "#This loop will pull fields from the cfradial, clean them with the ml model, and write them back into the file\n",
    "for j in file_array:\n",
    "    print(j)\n",
    "    #Predictors from the radar file are fed in to allow the model to work\n",
    "    X = load_single_netcdf_p3_new(j)\n",
    "\n",
    "    # Create a copies of relevant fields to write into the file\n",
    "    ZE = np.copy(X[1])\n",
    "    VGE = np.copy(X[0])\n",
    "    ALT = np.copy(X[3])\n",
    "    PGG = np.copy(X[11])\n",
    "    \n",
    "    #Because the model was not trained on null data, this tells you where predictions need to be autoassigned\n",
    "    #Doing this before the X array gets trimmed\n",
    "    NCP_idx = np.argwhere(X[2,:] <= 0.2)\n",
    "    NCP_idx = np.squeeze(NCP_idx)\n",
    "    PGG_idx = np.argwhere(X[11,:] >= 1)\n",
    "    PGG_idx = np.squeeze(PGG_idx)\n",
    "\n",
    "    #Cut out predictors that were eliminated by Lasso Logistic Regression - MOVED HERE SO CORRECT FIELD IS COPIED\n",
    "    good_idx = np.array([1,2,3,4,11,13])\n",
    "    X = np.array(X)[good_idx.astype(int),:]\n",
    "    print(np.shape(X))\n",
    "\n",
    "    #This is where the model makes predictions on your radar data\n",
    "    print(\"PREDICTING USING X OF SHAPE \" + str(np.shape(X)))\n",
    "    preds = stored_rf_model.predict(X.T).reshape(-1)\n",
    "    print(len(np.argwhere(preds==1)))\n",
    "    #This sets a fill value that will be assigned to bad data when being written back into cfradial format\n",
    "    fill_val = int(-32768)\n",
    "    fill_val = np.float64(fill_val)\n",
    "    fvid = np.argwhere(ZE == fill_val)\n",
    "    fvid = np.squeeze(fvid)\n",
    "    #Missing data is automatically given a bad prediction\n",
    "    print(len(fvid))\n",
    "    print(len(NCP_idx))\n",
    "    print(len(PGG_idx))\n",
    "    for i in fvid:\n",
    "        preds[i] = 0\n",
    "    for i in NCP_idx:\n",
    "        preds[i] = 0\n",
    "    for i in PGG_idx:\n",
    "        preds[i] = 0\n",
    "    #These are the indices where the model has predicted bad data\n",
    "    print(len(np.argwhere(preds==1)))\n",
    "    idx = np.argwhere(preds == 0)\n",
    "    print(len(idx))\n",
    "    #At each instance of bad data predicition, the fill_val is assigned\n",
    "    ZE[idx] = fill_val\n",
    "    VGE[idx] = fill_val\n",
    "    #This step sets the bad data, marked by fill value, to missing using a masked array\n",
    "    ZE = np.ma.masked_equal(ZE, fill_val)\n",
    "    VGE = np.ma.masked_equal(VGE, fill_val)\n",
    "    PGG = np.ma.masked_equal(PGG, fill_val)\n",
    "    #OPEN THE CFRADIAL FILE\n",
    "    nc_ds = nc4.Dataset(j, 'r+')\n",
    "    timedim = nc_ds.dimensions['time']\n",
    "    rangedim = nc_ds.dimensions['range']\n",
    "    #This step reshapes the edited array into the proper format for the cfradial file\n",
    "    ZE = ZE.reshape([len(timedim), len(rangedim)])\n",
    "    VGE = VGE.reshape([len(timedim), len(rangedim)])\n",
    "    ALT = ALT.reshape([len(timedim), len(rangedim)])\n",
    "    PGG = PGG.reshape([len(timedim), len(rangedim)])\n",
    "    #At this step the new fields are created in the cfradial file to become the new ML edited versions of the data\n",
    "    ze = nc_ds.createVariable('ZE1', 'i2', ('time','range',), fill_value= fill_val)\n",
    "    ze.long_name = 'New ML edited DBZ field'\n",
    "    ze.units = 'dBz'\n",
    "    ze.add_offset = -0.0\n",
    "    ze.scale_factor = 0.01\n",
    "    ze.grid_mapping = 'grid_mapping'\n",
    "    ze.sampling_ratio = 1.0\n",
    "    ze.coordinates = 'time range'\n",
    "    ze[:,:] = ZE\n",
    "\n",
    "    vge = nc_ds.createVariable('VGE1', 'i2', ('time','range',), fill_value= fill_val)\n",
    "    vge.long_name = 'New ML edited VG field'\n",
    "    vge.units = 'm/s'\n",
    "    vge.add_offset = -0.0\n",
    "    vge.scale_factor = 0.01\n",
    "    vge.grid_mapping = 'grid_mapping'\n",
    "    vge.sampling_ratio = 1.0\n",
    "    vge.coordinates = 'time range'\n",
    "    vge[:,:] = VGE\n",
    "    \n",
    "    alt = nc_ds.createVariable('ALT1', 'i2', ('time','range',), fill_value= fill_val)\n",
    "    alt.long_name = 'Alt field'\n",
    "    alt.units = 'm/s'\n",
    "    alt.add_offset = -0.0\n",
    "    alt.scale_factor = 0.01\n",
    "    alt.grid_mapping = 'grid_mapping'\n",
    "    alt.sampling_ratio = 1.0\n",
    "    alt.coordinates = 'time range'\n",
    "    alt[:,:] = ALT\n",
    "    \n",
    "    pgg = nc_ds.createVariable('PGG1', 'i2', ('time','range',), fill_value= fill_val)\n",
    "    pgg.long_name = 'New PGG field'\n",
    "    pgg.units = 'unitless'\n",
    "    pgg.add_offset = -0.0\n",
    "    pgg.scale_factor = 0.01\n",
    "    pgg.grid_mapping = 'grid_mapping'\n",
    "    pgg.sampling_ratio = 1.0\n",
    "    pgg.coordinates = 'time range'\n",
    "    pgg[:,:] = PGG\n",
    "    \n",
    "    #The cfradial file must be closed to complete the process\n",
    "    nc_ds.close()\n",
    "print('done')"
   ]
  },
  {
   "cell_type": "markdown",
   "id": "d01840fd",
   "metadata": {},
   "source": [
    "## Examine the Output"
   ]
  },
  {
   "cell_type": "markdown",
   "id": "23b7e9c7",
   "metadata": {},
   "source": [
    "### I don't have PyArt installed locally, so I left an image of the QCed Output in the Folder using HawkEdit"
   ]
  },
  {
   "cell_type": "markdown",
   "id": "ff5f4f7b",
   "metadata": {},
   "source": [
    "### If you have PyArt installed, try working with these plotting commands"
   ]
  },
  {
   "cell_type": "code",
   "execution_count": null,
   "id": "c0ee3ed6",
   "metadata": {},
   "outputs": [],
   "source": [
    "# Plot the Raw and QCed Velocity\n",
    "import matplotlib.pyplot as plt\n",
    "import pyart\n",
    "#from pyart.testing import get_test_data\n",
    "path = './cfrad/cfrad.20220918_124128.197_to_20220918_124132.176_N42RF-TS_AIR.nc'\n",
    "radar = pyart.io.read(path)\n",
    "radar.scan_type = 'rhi' \n",
    "\n",
    "# Setup the display\n",
    "display = pyart.graph.AirborneRadarDisplay(radar)\n",
    "fig = plt.figure(figsize = (7,8), dpi = 350)\n",
    "ax1 = fig.add_subplot(211)\n",
    "c1 = display.plot('VEL', cmap = \"RdYlBu\", title = \"Raw Velocity - Earl Case in Mainly Clear Air - ~ 13:25 UTC 9/7/22\", vmin = -15, vmax = 15, colorbar_flag = False, axislabels = ((''),('Distance above radar (km)')))\n",
    "display.plot_range_rings([10, 20, 30, 40, 50])\n",
    "display.set_limits(ylim = [-10,19], xlim = [-55,55])\n",
    "\n",
    "ax2 = fig.add_subplot(212)\n",
    "display.plot('VGE1', cmap = \"RdYlBu\", title = \"Machine Learning QC Velocity\", vmin = -15, vmax = 15, colorbar_flag = False, axislabels = ((''),('Distance above radar (km)')))\n",
    "display.plot_range_rings([10, 20, 30, 40, 50])\n",
    "display.set_limits(ylim = [-10,19], xlim = [-55,55])\n",
    "\n",
    "cbar_ax = fig.add_axes([0.915,.15,0.025,.7])\n",
    "\n",
    "display.plot_colorbar(cax = cbar_ax, ax = cbar_ax, mappable = c1, field='VEL', label=\"P3 TDR Doppler Velocity (m s$^{-1}$)\", orient='vertical')"
   ]
  },
  {
   "cell_type": "code",
   "execution_count": null,
   "id": "36722dac",
   "metadata": {},
   "outputs": [],
   "source": [
    "# Plot the Altitude and PGG Predictors\n",
    "import matplotlib.pyplot as plt\n",
    "import pyart\n",
    "#from pyart.testing import get_test_data\n",
    "path = './cfrad/cfrad.20220918_124128.197_to_20220918_124132.176_N42RF-TS_AIR.nc'\n",
    "# Locate the test data and read in using main read method\n",
    "#filename = get_test_data(path)\n",
    "radar = pyart.io.read(path)\n",
    "radar.scan_type = 'rhi' \n",
    "\n",
    "# Setup the display\n",
    "display = pyart.graph.AirborneRadarDisplay(radar)\n",
    "fig = plt.figure(figsize = (7,8), dpi = 350)\n",
    "ax1 = fig.add_subplot(211)\n",
    "c1 = display.plot('ALT4', cmap = \"Spectral_r\", title = \"Altitude Field - Colorbar Range from -10 to 25 km - Bad Elevation Field\", vmin = -10, vmax = 25, colorbar_flag = False, axislabels = ((''),('Distance above radar (km)')))\n",
    "display.plot_range_rings([10, 20, 30, 40, 50])\n",
    "display.set_limits(ylim = [-10,19], xlim = [-55,55])\n",
    "\n",
    "ax2 = fig.add_subplot(212)\n",
    "display.plot('PGG4', cmap = \"viridis\", title = \"PGG Field - Colorbar Range from 0 to 1\", vmin = 0, vmax = 1, colorbar_flag = False, axislabels = ((''),('Distance above radar (km)')))\n",
    "display.plot_range_rings([10, 20, 30, 40, 50])\n",
    "display.set_limits(ylim = [-10,19], xlim = [-55,55])\n",
    "\n",
    "# cbar_ax = fig.add_axes([0.915,.15,0.025,.7])\n",
    "\n",
    "# display.plot_colorbar(cax = cbar_ax, ax = cbar_ax, mappable = c1, field='VEL', label=\"P3 TDR Doppler Velocity (m s$^{-1}$)\", orient='vertical')"
   ]
  }
 ],
 "metadata": {
  "kernelspec": {
   "display_name": "P3_MLQC",
   "language": "python",
   "name": "python3"
  },
  "language_info": {
   "codemirror_mode": {
    "name": "ipython",
    "version": 3
   },
   "file_extension": ".py",
   "mimetype": "text/x-python",
   "name": "python",
   "nbconvert_exporter": "python",
   "pygments_lexer": "ipython3",
   "version": "3.9.15"
  },
  "vscode": {
   "interpreter": {
    "hash": "f8c3f8f24ea7af3f16fd7871719b81b3229ecefd8d627cb64e2c0622374d2203"
   }
  }
 },
 "nbformat": 4,
 "nbformat_minor": 5
}
