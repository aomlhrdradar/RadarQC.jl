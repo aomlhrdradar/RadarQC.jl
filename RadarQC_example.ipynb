{
 "cells": [
  {
   "attachments": {},
   "cell_type": "markdown",
   "metadata": {},
   "source": [
    "<h1>Start by activating our project enviornment and installing required dependencies</h1>"
   ]
  },
  {
   "cell_type": "code",
   "execution_count": 1,
   "metadata": {},
   "outputs": [
    {
     "name": "stderr",
     "output_type": "stream",
     "text": [
      "\u001b[32m\u001b[1m  Activating\u001b[22m\u001b[39m project at `~/Documents/Grad_School/Research/RadarQC/RadarQC`\n",
      "\u001b[36m\u001b[1m[ \u001b[22m\u001b[39m\u001b[36m\u001b[1mInfo: \u001b[22m\u001b[39mPrecompiling RadarQC [top-level]\n"
     ]
    }
   ],
   "source": [
    "using Pkg\n",
    "Pkg.activate(\".\")\n",
    "Pkg.instantiate() \n",
    "##Make sure Julia can see our module \n",
    "push!(LOAD_PATH, \"./src/\")\n",
    "\n",
    "###Load key functionality \n",
    "###This will take a while the first time you do it \n",
    "using RadarQC"
   ]
  },
  {
   "attachments": {},
   "cell_type": "markdown",
   "metadata": {},
   "source": [
    "<h2>Let's begin by splitting our CFRadials into a Training and a Testing directory</h2>\n",
    "<h2><span style=\"color:Red\">WARNING: This function will begin by DELETING the training and testing directories to clean them</span></h2>"
   ]
  },
  {
   "cell_type": "code",
   "execution_count": 11,
   "metadata": {},
   "outputs": [
    {
     "data": {
      "text/plain": [
       "\"/Users/ischluesche/Documents/Grad_School/Research/RadarQC/CFRADIALS/CASES/TESTING\""
      ]
     },
     "execution_count": 11,
     "metadata": {},
     "output_type": "execute_result"
    }
   ],
   "source": [
    "###Make sure to use absolute paths here \n",
    "CASE_PATHS= [\"/Users/ischluesche/Documents/Grad_School/Research/RadarQC/CFRADIALS/CASES/BAMEX\", \n",
    "             \"/Users/ischluesche/Documents/Grad_School/Research/RadarQC/CFRADIALS/CASES/HAGUPIT\", \n",
    "             \"/Users/ischluesche/Documents/Grad_School/Research/RadarQC/CFRADIALS/CASES/RITA\", \n",
    "             \"/Users/ischluesche/Documents/Grad_School/Research/RadarQC/CFRADIALS/CASES/VORTEX\"]\n",
    "\n",
    "TRAINING_PATH = \"/Users/ischluesche/Documents/Grad_School/Research/RadarQC/CFRADIALS/CASES/TRAINING\"\n",
    "TESTING_PATH = \"/Users/ischluesche/Documents/Grad_School/Research/RadarQC/CFRADIALS/CASES/TESTING\""
   ]
  },
  {
   "cell_type": "code",
   "execution_count": 12,
   "metadata": {},
   "outputs": [
    {
     "name": "stdout",
     "output_type": "stream",
     "text": [
      "\n",
      "\u001b[32mTOTAL NUMBER OF TDR SCANS ACROSS ALL CASES: 1780\u001b[39m\n",
      "\u001b[39mTESTING SCANS PER CASE 89\u001b[39m\n",
      "\u001b[31mNUMBER OF SCANS IN CASE: 482\u001b[39m\n",
      "\u001b[31mTRAINING GROUP SIZE: 196 + REMAINDER: 1\u001b[39m\n",
      "\u001b[31mTESTING GROUP SIZE: 29 + REMAINDER 2\u001b[39m\n",
      "\n",
      "\u001b[32m INDEXES 1 TO 31 ASSIGNED TESTING\u001b[39m\n",
      "\u001b[32m INDEXES 31 \u001b[39m\u001b[32m TO 228 ASSIGNED TRAINING\u001b[39m\n",
      "\u001b[32m INDEXES 229\u001b[39m\u001b[32m TO 257 ASSIGNED TESTING\u001b[39m\n",
      "\u001b[32m INDEXES 258\u001b[39m\u001b[32m TO 453 ASSIGNED TRAINING\u001b[39m\n",
      "\u001b[32m INDEXES 454\u001b[39m\u001b[32m TO 482 ASSIGNED TESTING\u001b[39m\n",
      "\u001b[31mTotal length of case files: 482\u001b[39m\n",
      "\u001b[34mLength of testing files: 89 - 0.18464730290456433 percent\u001b[39m\n",
      "\u001b[34mLength of testing_files: 393 - 0.8153526970954357 percent\u001b[39m\n",
      "\u001b[31mNUMBER OF SCANS IN CASE: 238\u001b[39m\n",
      "\u001b[31mTRAINING GROUP SIZE: 74 + REMAINDER: 1\u001b[39m\n",
      "\u001b[31mTESTING GROUP SIZE: 29 + REMAINDER 2\u001b[39m\n",
      "\n",
      "\u001b[32m INDEXES 1 TO 31 ASSIGNED TESTING\u001b[39m\n",
      "\u001b[32m INDEXES 31 \u001b[39m\u001b[32m TO 106 ASSIGNED TRAINING\u001b[39m\n",
      "\u001b[32m INDEXES 107\u001b[39m\u001b[32m TO 135 ASSIGNED TESTING\u001b[39m\n",
      "\u001b[32m INDEXES 136\u001b[39m\u001b[32m TO 209 ASSIGNED TRAINING\u001b[39m\n",
      "\u001b[32m INDEXES 210\u001b[39m\u001b[32m TO 238 ASSIGNED TESTING\u001b[39m\n",
      "\u001b[31mTotal length of case files: 238\u001b[39m\n",
      "\u001b[34mLength of testing files: 89 - 0.3739495798319328 percent\u001b[39m\n",
      "\u001b[34mLength of testing_files: 149 - 0.6260504201680672 percent\u001b[39m\n",
      "\u001b[31mNUMBER OF SCANS IN CASE: 794\u001b[39m\n",
      "\u001b[31mTRAINING GROUP SIZE: 352 + REMAINDER: 1\u001b[39m\n",
      "\u001b[31mTESTING GROUP SIZE: 29 + REMAINDER 2\u001b[39m\n",
      "\n",
      "\u001b[32m INDEXES 1 TO 31 ASSIGNED TESTING\u001b[39m\n",
      "\u001b[32m INDEXES 31 \u001b[39m\u001b[32m TO 384 ASSIGNED TRAINING\u001b[39m\n",
      "\u001b[32m INDEXES 385\u001b[39m\u001b[32m TO 413 ASSIGNED TESTING\u001b[39m\n",
      "\u001b[32m INDEXES 414\u001b[39m\u001b[32m TO 765 ASSIGNED TRAINING\u001b[39m\n",
      "\u001b[32m INDEXES 766\u001b[39m\u001b[32m TO 794 ASSIGNED TESTING\u001b[39m\n",
      "\u001b[31mTotal length of case files: 794\u001b[39m\n",
      "\u001b[34mLength of testing files: 89 - 0.11209068010075567 percent\u001b[39m\n",
      "\u001b[34mLength of testing_files: 705 - 0.8879093198992444 percent\u001b[39m\n",
      "\u001b[31mNUMBER OF SCANS IN CASE: 266\u001b[39m\n",
      "\u001b[31mTRAINING GROUP SIZE: 88 + REMAINDER: 1\u001b[39m\n",
      "\u001b[31mTESTING GROUP SIZE: 29 + REMAINDER 2\u001b[39m\n",
      "\n",
      "\u001b[32m INDEXES 1 TO 31 ASSIGNED TESTING\u001b[39m\n",
      "\u001b[32m INDEXES 31 \u001b[39m\u001b[32m TO 120 ASSIGNED TRAINING\u001b[39m\n",
      "\u001b[32m INDEXES 121\u001b[39m\u001b[32m TO 149 ASSIGNED TESTING\u001b[39m\n",
      "\u001b[32m INDEXES 150\u001b[39m\u001b[32m TO 237 ASSIGNED TRAINING\u001b[39m\n",
      "\u001b[32m INDEXES 238\u001b[39m\u001b[32m TO 266 ASSIGNED TESTING\u001b[39m\n",
      "\u001b[31mTotal length of case files: 266\u001b[39m\n",
      "\u001b[34mLength of testing files: 89 - 0.33458646616541354 percent\u001b[39m\n",
      "\u001b[34mLength of testing_files: 177 - 0.6654135338345865 percent\u001b[39m\n"
     ]
    }
   ],
   "source": [
    "\n",
    "split_training_testing!(CASE_PATHS, TRAINING_PATH, TESTING_PATH)"
   ]
  },
  {
   "attachments": {},
   "cell_type": "markdown",
   "metadata": {},
   "source": [
    "<h2>Now, calculate input features based off of the training/testing data<h2> \n",
    "<h1><span style=\"color:Green\">This takes up a lot of memory in a notebook, so I would recommend running this in a script</span></h1>\n",
    "\n",
    "\n"
   ]
  },
  {
   "cell_type": "code",
   "execution_count": 2,
   "metadata": {},
   "outputs": [
    {
     "name": "stdout",
     "output_type": "stream",
     "text": [
      "OUTPUTTING DATA IN HDF5 FORMAT TO FILE: training_features.h5\n",
      "Processed ./CFRADIALS/CASES/TRAINING/cfrad.19950516_222027.272_to_19950516_222030.101_TA-ELDR_AIR.nc in 2.6836609840393066 seconds\n",
      "Processed ./CFRADIALS/CASES/TRAINING/cfrad.19950516_222028.676_to_19950516_222031.494_TF-ELDR_AIR.nc in 0.16089987754821777 seconds\n",
      "Processed ./CFRADIALS/CASES/TRAINING/cfrad.19950516_222030.112_to_19950516_222032.931_TA-ELDR_AIR.nc in 0.1375260353088379 seconds\n",
      "Processed ./CFRADIALS/CASES/TRAINING/cfrad.19950516_222031.505_to_19950516_222034.335_TF-ELDR_AIR.nc in 0.14379215240478516 seconds\n",
      "Processed ./CFRADIALS/CASES/TRAINING/cfrad.19950516_222032.942_to_19950516_222035.760_TA-ELDR_AIR.nc in 0.14464807510375977 seconds\n",
      "Processed ./CFRADIALS/CASES/TRAINING/cfrad.19950516_222034.346_to_19950516_222037.164_TF-ELDR_AIR.nc in 0.14263916015625 seconds\n",
      "Processed ./CFRADIALS/CASES/TRAINING/cfrad.19950516_222035.771_to_19950516_222038.601_TA-ELDR_AIR.nc in 0.14021611213684082 seconds\n",
      "Processed ./CFRADIALS/CASES/TRAINING/cfrad.19950516_222037.175_to_19950516_222040.005_TF-ELDR_AIR.nc in 0.14078688621520996 seconds\n",
      "Processed ./CFRADIALS/CASES/TRAINING/cfrad.19950516_222038.612_to_19950516_222041.441_TA-ELDR_AIR.nc in 0.145751953125 seconds\n",
      "Processed ./CFRADIALS/CASES/TRAINING/cfrad.19950516_222040.016_to_19950516_222042.845_TF-ELDR_AIR.nc in 0.144819974899292 seconds\n",
      "Processed ./CFRADIALS/CASES/TRAINING/cfrad.19950516_222041.452_to_19950516_222044.271_TA-ELDR_AIR.nc in 0.15761780738830566 seconds\n",
      "Processed ./CFRADIALS/CASES/TRAINING/cfrad.19950516_222042.856_to_19950516_222045.675_TF-ELDR_AIR.nc in 0.15298986434936523 seconds\n",
      "Processed ./CFRADIALS/CASES/TRAINING/cfrad.19950516_222044.282_to_19950516_222047.101_TA-ELDR_AIR.nc in 0.14439010620117188 seconds\n",
      "Processed ./CFRADIALS/CASES/TRAINING/cfrad.19950516_222045.686_to_19950516_222048.504_TF-ELDR_AIR.nc in 0.1466531753540039 seconds\n",
      "Processed ./CFRADIALS/CASES/TRAINING/cfrad.19950516_222047.111_to_19950516_222049.941_TA-ELDR_AIR.nc in 0.14429616928100586 seconds\n",
      "Processed ./CFRADIALS/CASES/TRAINING/cfrad.19950516_222048.515_to_19950516_222051.345_TF-ELDR_AIR.nc in 0.14060497283935547 seconds\n",
      "Processed ./CFRADIALS/CASES/TRAINING/cfrad.19950516_222049.952_to_19950516_222052.781_TA-ELDR_AIR.nc in 0.1430978775024414 seconds\n",
      "Processed ./CFRADIALS/CASES/TRAINING/cfrad.19950516_222051.356_to_19950516_222054.185_TF-ELDR_AIR.nc in 0.14104413986206055 seconds\n",
      "Processed ./CFRADIALS/CASES/TRAINING/cfrad.19950516_222052.792_to_19950516_222055.611_TA-ELDR_AIR.nc in 0.14012598991394043 seconds\n",
      "Processed ./CFRADIALS/CASES/TRAINING/cfrad.19950516_222054.196_to_19950516_222057.015_TF-ELDR_AIR.nc in 0.14325690269470215 seconds\n",
      "Processed ./CFRADIALS/CASES/TRAINING/cfrad.19950516_222055.622_to_19950516_222058.451_TA-ELDR_AIR.nc in 0.143416166305542 seconds\n",
      "Processed ./CFRADIALS/CASES/TRAINING/cfrad.19950516_222057.026_to_19950516_222059.855_TF-ELDR_AIR.nc in 0.14402079582214355 seconds\n",
      "Processed ./CFRADIALS/CASES/TRAINING/cfrad.19950516_222058.462_to_19950516_222101.292_TA-ELDR_AIR.nc in 0.14199090003967285 seconds\n",
      "Processed ./CFRADIALS/CASES/TRAINING/cfrad.19950516_222059.866_to_19950516_222102.696_TF-ELDR_AIR.nc in 0.14212417602539062 seconds\n",
      "Processed ./CFRADIALS/CASES/TRAINING/cfrad.19950516_222101.303_to_19950516_222104.121_TA-ELDR_AIR.nc in 0.14214301109313965 seconds\n",
      "Processed ./CFRADIALS/CASES/TRAINING/cfrad.19950516_222102.707_to_19950516_222105.525_TF-ELDR_AIR.nc in 0.14432501792907715 seconds\n",
      "Processed ./CFRADIALS/CASES/TRAINING/cfrad.19950516_222104.132_to_19950516_222106.962_TA-ELDR_AIR.nc in 0.14303898811340332 seconds\n",
      "Processed ./CFRADIALS/CASES/TRAINING/cfrad.19950516_222105.536_to_19950516_222108.366_TF-ELDR_AIR.nc in 0.1415090560913086 seconds\n",
      "Processed ./CFRADIALS/CASES/TRAINING/cfrad.19950516_222106.973_to_19950516_222109.791_TA-ELDR_AIR.nc in 0.14058303833007812 seconds\n",
      "Processed ./CFRADIALS/CASES/TRAINING/cfrad.19950516_222108.377_to_19950516_222111.206_TF-ELDR_AIR.nc in 0.14855694770812988 seconds\n",
      "Processed ./CFRADIALS/CASES/TRAINING/cfrad.19950516_222109.802_to_19950516_222112.621_TA-ELDR_AIR.nc in 0.1400289535522461 seconds\n",
      "Processed ./CFRADIALS/CASES/TRAINING/cfrad.19950516_222111.217_to_19950516_222114.025_TF-ELDR_AIR.nc in 0.13927197456359863 seconds\n",
      "Processed ./CFRADIALS/CASES/TRAINING/cfrad.19950516_222112.632_to_19950516_222115.472_TA-ELDR_AIR.nc in 0.14342308044433594 seconds\n",
      "Processed ./CFRADIALS/CASES/TRAINING/cfrad.19950516_222114.036_to_19950516_222116.855_TF-ELDR_AIR.nc in 0.15319418907165527 seconds\n",
      "Processed ./CFRADIALS/CASES/TRAINING/cfrad.19950516_222115.483_to_19950516_222118.291_TA-ELDR_AIR.nc in 0.14117908477783203 seconds\n",
      "Processed ./CFRADIALS/CASES/TRAINING/cfrad.19950516_222116.865_to_19950516_222119.717_TF-ELDR_AIR.nc in 0.14488792419433594 seconds\n",
      "Processed ./CFRADIALS/CASES/TRAINING/cfrad.19950516_222118.302_to_19950516_222121.153_TA-ELDR_AIR.nc in 0.14118099212646484 seconds\n",
      "Processed ./CFRADIALS/CASES/TRAINING/cfrad.19950516_222119.727_to_19950516_222122.546_TF-ELDR_AIR.nc in 0.14719915390014648 seconds\n",
      "Processed ./CFRADIALS/CASES/TRAINING/cfrad.19950516_222121.164_to_19950516_222123.983_TA-ELDR_AIR.nc in 0.142686128616333 seconds\n",
      "Processed ./CFRADIALS/CASES/TRAINING/cfrad.19950516_222122.557_to_19950516_222125.387_TF-ELDR_AIR.nc in 0.13995695114135742 seconds\n",
      "Processed ./CFRADIALS/CASES/TRAINING/cfrad.19950516_222123.993_to_19950516_222126.812_TA-ELDR_AIR.nc in 0.14040923118591309 seconds\n",
      "Processed ./CFRADIALS/CASES/TRAINING/cfrad.19950516_222125.397_to_19950516_222128.227_TF-ELDR_AIR.nc in 0.13905596733093262 seconds\n",
      "Processed ./CFRADIALS/CASES/TRAINING/cfrad.19950516_222126.823_to_19950516_222129.685_TA-ELDR_AIR.nc in 0.14099502563476562 seconds\n",
      "Processed ./CFRADIALS/CASES/TRAINING/cfrad.19950516_222128.238_to_19950516_222131.089_TF-ELDR_AIR.nc in 0.14229512214660645 seconds\n",
      "Processed ./CFRADIALS/CASES/TRAINING/cfrad.19950516_222129.696_to_19950516_222132.493_TA-ELDR_AIR.nc in 0.14181995391845703 seconds\n",
      "Processed ./CFRADIALS/CASES/TRAINING/cfrad.19950516_222131.100_to_19950516_222133.875_TF-ELDR_AIR.nc in 0.1411740779876709 seconds\n",
      "Processed ./CFRADIALS/CASES/TRAINING/cfrad.19950516_222132.504_to_19950516_222135.312_TA-ELDR_AIR.nc in 0.13951706886291504 seconds\n",
      "Processed ./CFRADIALS/CASES/TRAINING/cfrad.19950516_222133.886_to_19950516_222136.727_TF-ELDR_AIR.nc in 0.14478111267089844 seconds\n",
      "Processed ./CFRADIALS/CASES/TRAINING/cfrad.19950516_222135.323_to_19950516_222138.163_TA-ELDR_AIR.nc in 0.14168906211853027 seconds\n",
      "Processed ./CFRADIALS/CASES/TRAINING/cfrad.19950516_222136.737_to_19950516_222139.567_TF-ELDR_AIR.nc in 0.14330005645751953 seconds\n",
      "Processed ./CFRADIALS/CASES/TRAINING/cfrad.19950516_222138.174_to_19950516_222141.003_TA-ELDR_AIR.nc in 0.14011001586914062 seconds\n",
      "Processed ./CFRADIALS/CASES/TRAINING/cfrad.19950516_222139.578_to_19950516_222142.407_TF-ELDR_AIR.nc in 0.14058399200439453 seconds\n",
      "Processed ./CFRADIALS/CASES/TRAINING/cfrad.19950516_222141.014_to_19950516_222143.833_TA-ELDR_AIR.nc in 0.1412029266357422 seconds\n",
      "Processed ./CFRADIALS/CASES/TRAINING/cfrad.19950516_222142.418_to_19950516_222145.237_TF-ELDR_AIR.nc in 0.14047884941101074 seconds\n",
      "Processed ./CFRADIALS/CASES/TRAINING/cfrad.19950516_222143.844_to_19950516_222146.673_TA-ELDR_AIR.nc in 0.14258408546447754 seconds\n",
      "Processed ./CFRADIALS/CASES/TRAINING/cfrad.19950516_222145.248_to_19950516_222148.077_TF-ELDR_AIR.nc in 0.1450040340423584 seconds\n",
      "Processed ./CFRADIALS/CASES/TRAINING/cfrad.19950516_222146.684_to_19950516_222149.514_TA-ELDR_AIR.nc in 0.14346003532409668 seconds\n",
      "Processed ./CFRADIALS/CASES/TRAINING/cfrad.19950516_222148.088_to_19950516_222150.907_TF-ELDR_AIR.nc in 0.1426241397857666 seconds\n",
      "Processed ./CFRADIALS/CASES/TRAINING/cfrad.19950516_222149.525_to_19950516_222152.344_TA-ELDR_AIR.nc in 0.13981199264526367 seconds\n",
      "Processed ./CFRADIALS/CASES/TRAINING/cfrad.19950516_222150.918_to_19950516_222153.747_TF-ELDR_AIR.nc in 0.15752291679382324 seconds\n",
      "Processed ./CFRADIALS/CASES/TRAINING/cfrad.19950516_222152.354_to_19950516_222155.184_TA-ELDR_AIR.nc in 0.1419517993927002 seconds\n",
      "Processed ./CFRADIALS/CASES/TRAINING/cfrad.19950516_222153.758_to_19950516_222156.588_TF-ELDR_AIR.nc in 0.13986802101135254 seconds\n",
      "Processed ./CFRADIALS/CASES/TRAINING/cfrad.19950516_222155.195_to_19950516_222158.024_TA-ELDR_AIR.nc in 0.13968801498413086 seconds\n",
      "Processed ./CFRADIALS/CASES/TRAINING/cfrad.19950516_222156.599_to_19950516_222159.418_TF-ELDR_AIR.nc in 0.1434638500213623 seconds\n"
     ]
    }
   ],
   "source": [
    "###Arguments are\n",
    "###Path to training file/directory \n",
    "###Path to file containing arguments on features to calculate \n",
    "###Where to output calculated features \n",
    "\n",
    "###This will use the 5-parameter model described in the referenced manuscript \n",
    "\n",
    "###You can specified the verbose=false flag so as to not overload notebook memory\n",
    "###Generally diagnostics about timing will print out \n",
    "\n",
    "\n",
    "calculate_features(\"./CFRADIALS/CASES/TRAINING\", \"./MODELS/DesRosiers_Bell_23/config.txt\", \"training_features.h5\"; \n",
    "                    verbose=true, HAS_MANUAL_QC = true, REMOVE_LOW_NCP = true, \n",
    "                    REMOVE_HIGH_PGG = true, remove_variable = \"VV\" )\n",
    "calculate_features(\"./CFRADIALS/CASES/TESTING\", \"./MODELS/DesRosiers_Bell_23/config.txt\", \"testing_features.h5\"; \n",
    "                    verbose=false, HAS_MANUAL_QC = true, REMOVE_LOW_NCP = true, \n",
    "                    REMOVE_HIGH_PGG = true, remove_variable = \"VV\")"
   ]
  },
  {
   "cell_type": "code",
   "execution_count": 3,
   "metadata": {},
   "outputs": [],
   "source": [
    "###Remove validation \n",
    "###keyword args \n",
    "###training_output -- path to output training set to \n",
    "###validation_output -- path to output validation set to \n",
    "remove_validation(\"training_features.h5\")"
   ]
  },
  {
   "attachments": {},
   "cell_type": "markdown",
   "metadata": {},
   "source": [
    "## Now - train the model! This could take on the order of 20-30 minutes if training on something the size of the ELDORA dataset"
   ]
  },
  {
   "cell_type": "code",
   "execution_count": 6,
   "metadata": {},
   "outputs": [
    {
     "name": "stdout",
     "output_type": "stream",
     "text": [
      "\n",
      "\u001b[34mOpening HDF5.File: (read-only) train_no_validation_set.h5...\u001b[39m\n",
      "FITTING MODEL\n",
      "COMPLETED FITTING MODEL IN 1646.114226102829 seconds\n",
      "\n",
      "MODEL VERIFICATION:\n",
      "ACCURACY ON TRAINING SET: 95.0%\n",
      "\n",
      "SAVING MODEL: \n",
      "WRITING VERIFICATION DATA TO model_verification.h5\n"
     ]
    }
   ],
   "source": [
    "###Now, let's train our model on it! \n",
    "RadarQC.train_model(\"train_no_validation_set.h5\", \"trained_model.joblib\";\n",
    "             verify=true, verify_out=\"model_verification.h5\")"
   ]
  },
  {
   "cell_type": "markdown",
   "metadata": {},
   "source": [
    "<h1>Now, select variables you wish to QC and apply the model to them!</h1> "
   ]
  },
  {
   "cell_type": "code",
   "execution_count": 9,
   "metadata": {},
   "outputs": [
    {
     "name": "stdout",
     "output_type": "stream",
     "text": [
      "\n",
      "PROCESSING: /Users/ischluesche/Documents/Grad_School/Research/RadarQC/CFRADIALS/SMALL_TEST/cfrad.19950516_221950.411_to_19950516_221953.219_TA-ELDR_AIR.nc\n",
      "\n",
      "Completed in 0.228438138961792 seconds\n",
      "Already exists... overwriting\n",
      "\n",
      "\u001b[32mREMOVED 6648 PRESUMED NON-METEORLOGICAL DATAPOINTS\u001b[39m\n",
      "FINAL COUNT OF DATAPOINTS IN ZZ: 6938\n",
      "Already exists... overwriting\n",
      "\n",
      "\u001b[32mREMOVED 6660 PRESUMED NON-METEORLOGICAL DATAPOINTS\u001b[39m\n",
      "FINAL COUNT OF DATAPOINTS IN VV: 6938\n"
     ]
    }
   ],
   "source": [
    "###These need to have the same name as in the cfradial file\n",
    "VARS_TO_QC = [\"ZZ\", \"VV\"]\n",
    "###This will write out the new QC'ed variables to the same cfrad file with the name ZZ_QC and VV_QC \n",
    "QC_scan(\"/Users/ischluesche/Documents/Grad_School/Research/RadarQC/CFRADIALS/SMALL_TEST/cfrad.19950516_221950.411_to_19950516_221953.219_TA-ELDR_AIR.nc\", \n",
    "        \"./MODELS/DesRosiers_Bell_23/config.txt\", \n",
    "        \"trained_model.joblib\"; \n",
    "        VARIABLES_TO_QC = VARS_TO_QC, \n",
    "        QC_suffix=\"_QC\")"
   ]
  }
 ],
 "metadata": {
  "kernelspec": {
   "display_name": "Julia 1.9.2",
   "language": "julia",
   "name": "julia-1.9"
  },
  "language_info": {
   "file_extension": ".jl",
   "mimetype": "application/julia",
   "name": "julia",
   "version": "1.9.2"
  },
  "orig_nbformat": 4,
  "vscode": {
   "interpreter": {
    "hash": "33984a22e2f19a129d779f467ea60ccdbe8f7b945fb2b732bc18c7da77fe6c08"
   }
  }
 },
 "nbformat": 4,
 "nbformat_minor": 2
}
