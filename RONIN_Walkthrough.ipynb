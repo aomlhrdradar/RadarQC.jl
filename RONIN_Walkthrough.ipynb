{
 "cells": [
  {
   "attachments": {},
   "cell_type": "markdown",
   "metadata": {},
   "source": [
    "## RONIN Walkthrough \n",
    "___\n",
    "\n",
    "This notebook contains a brief introduction to training and evaluating a random forest radar quality control algorithm using Julia. "
   ]
  },
  {
   "cell_type": "code",
   "execution_count": 1,
   "metadata": {},
   "outputs": [
    {
     "name": "stderr",
     "output_type": "stream",
     "text": [
      "\u001b[32m\u001b[1m  Activating\u001b[22m\u001b[39m project at `~/Documents/Grad_School/Research/Ronin`\n"
     ]
    }
   ],
   "source": [
    "##Begin by loading dependencies \n",
    "using Pkg\n",
    "Pkg.activate(\".\")\n",
    "Pkg.instantiate() \n",
    "##Make sure Julia can see our module \n",
    "push!(LOAD_PATH, \"./src/\")\n",
    "\n",
    "###Load key functionality \n",
    "###This will take a while the first time you do it \n",
    "using Ronin "
   ]
  },
  {
   "attachments": {},
   "cell_type": "markdown",
   "metadata": {},
   "source": [
    "### 1) Splitting data into training and testing sets\n",
    "___\n",
    "We'll begin by partitioning our data into scans that will be used for training the model and scans that will be used in its evaluation. It's important to keep these separate. \n",
    "<h2><span style=\"color:Red\">WARNING: This function will begin by DELETING the training and testing directories to clean them</span></h2>\n",
    "It then softlinks the divded files to their respective directories. "
   ]
  },
  {
   "cell_type": "code",
   "execution_count": 3,
   "metadata": {},
   "outputs": [
    {
     "data": {
      "text/plain": [
       "\"/Users/ischluesche/Documents/Grad_School/Research/Ronin/CFRADIALS/CASES/TESTING\""
      ]
     },
     "metadata": {},
     "output_type": "display_data"
    }
   ],
   "source": [
    "###Make sure to use absolute paths here \n",
    "##These are EXAMPLES, make sure to edit for your own directory setup\n",
    "CASE_PATHS= [\"/Users/ischluesche/Documents/Grad_School/Research/Ronin/CFRADIALS/CASES/BAMEX\", \n",
    "             \"/Users/ischluesche/Documents/Grad_School/Research/Ronin/CFRADIALS/CASES/HAGUPIT\", \n",
    "             \"/Users/ischluesche/Documents/Grad_School/Research/Ronin/CFRADIALS/CASES/RITA\", \n",
    "             \"/Users/ischluesche/Documents/Grad_School/Research/Ronin/CFRADIALS/CASES/VORTEX\"]\n",
    "\n",
    "TRAINING_PATH = \"/Users/ischluesche/Documents/Grad_School/Research/Ronin/CFRADIALS/CASES/TRAINING\"\n",
    "TESTING_PATH = \"/Users/ischluesche/Documents/Grad_School/Research/Ronin/CFRADIALS/CASES/TESTING\"\n",
    "\n",
    "split_training_testing!(CASE_PATHS, TRAINING_PATH, TESTING_PATH)"
   ]
  },
  {
   "cell_type": "code",
   "execution_count": 2,
   "metadata": {},
   "outputs": [
    {
     "data": {
      "text/plain": [
       "\"/Users/ischluesche/Documents/Grad_School/Research/Ronin/NOAA/TESTING/\""
      ]
     },
     "metadata": {},
     "output_type": "display_data"
    }
   ],
   "source": [
    "TRAINING_PATH = \"/Users/ischluesche/Documents/Grad_School/Research/Ronin/NOAA/TRAINING/\"\n",
    "TESTING_PATH = \"/Users/ischluesche/Documents/Grad_School/Research/Ronin/NOAA/TESTING/\""
   ]
  },
  {
   "attachments": {},
   "cell_type": "markdown",
   "metadata": {},
   "source": [
    "# 2) Configure model\n",
    "___\n",
    "We'll now set up a configuartion object for use in our model. This structure contains \n",
    "key information and settings such as the number of models to use, the decision thresholds for each model, and locations to output data to. "
   ]
  },
  {
   "attachments": {},
   "cell_type": "markdown",
   "metadata": {},
   "source": [
    "At a high level, the first step in the process is calculating a set of input features containing information about each gate in the training radar sweeps.\n",
    "`config_path` specifies the location of the file containing the information about what features the user wishes to calculate. `input_path` is the path to the file \n",
    "or directory where the sweeps are located. "
   ]
  },
  {
   "cell_type": "code",
   "execution_count": null,
   "metadata": {},
   "outputs": [],
   "source": [
    "config_path = \"./NOAA_all_params.txt\"\n",
    "\n",
    "input_path = TRAINING_PATH"
   ]
  },
  {
   "attachments": {},
   "cell_type": "markdown",
   "metadata": {},
   "source": [
    "Ronin can also create a \"multi-pass\" model, where a model is trained on the full dataset, and successive models are trained on subsets of these data. The motivation for this setup is to leverage the probablistic information provided by the random forest approach. Consider a gate where 90% of the trees in the random forest agree on a certain classification - it's possible that gates such as this may have fundamentally different characteristics than gates where the RF model is more evenly split on a class. It is then natural to expect that training a model specifically on gates of the second type may result in improved classification accuracy. Configuring a multi-pass model involves the specification of the number of models one wishes to use in a composite, as well as a range of probabilities to move on to the next pass. More is explained in the follwing. "
   ]
  },
  {
   "attachments": {},
   "cell_type": "markdown",
   "metadata": {},
   "source": [
    "We'll start with a 2-pass model. Grid search testing on the validation dataset has shown that this number of passes best leverages the desire for performance with the retention of meteorological data. "
   ]
  },
  {
   "cell_type": "code",
   "execution_count": null,
   "metadata": {},
   "outputs": [],
   "source": [
    "num_models = 2"
   ]
  },
  {
   "attachments": {},
   "cell_type": "markdown",
   "metadata": {},
   "source": [
    "Now, we'll define which gates are passed on to successive scans. \n",
    "\n",
    "\n",
    "`pass_1_probs = (.1,.9)`\n",
    "\n",
    "\n",
    "This means that gates where between 10-90% of the trees agree (inclusive) will be passed on to the second pass. \n",
    "Gates that <10% of the trees classify as meteorological will be assigned a label of non-meteorological and \n",
    "gates that >90% of trees classify as meteorological will be assigned a label of meteorological. This can be done for more passes, but we're just doing 2 as a minimal example.\n",
    "\n",
    "Met probabilities for the final pass of any composite model are interpreted somewhat differently. The maximum of the two probabilites will be taken, and gates where >= max percent of the trees classify a gate as meteorological will be assigned a label of meteorological/MD, with all other gates being assigned a label of non-meteorological/NMD. For example, if one were to set \n",
    "\n",
    "`final_met_prob = (.1,.9)`\n",
    "\n",
    "gates where >=90% of trees agree on a classification of meteorological would be assigned a label of meteorological/MD, with all other gates being assigned a label of non-meteorological/NMD.\n"
   ]
  },
  {
   "cell_type": "code",
   "execution_count": null,
   "metadata": {},
   "outputs": [],
   "source": [
    "\n",
    "inital_met_prob = (.1, .9) \n",
    "final_met_prob = (.1,.9)\n",
    "\n",
    "###Combine into vector for model configuration object \n",
    "###It's important to note that len(met_probs) is enforced to be equal to num_models \n",
    "met_probs = [initial_met_prob, final_met_prob]"
   ]
  },
  {
   "attachments": {},
   "cell_type": "markdown",
   "metadata": {},
   "source": [
    "Another important feature of Ronin is its implementation of spatial features. These calculations take into account not only the gate of interest, but the gates surrounding it as well. The concept can be loosely equated to convolutions in a neural network. As such, it's important to specify weights for each surrounding observation/gate. Ronin provides a series of default weight matrixes that can be used to do so. More detail follows. "
   ]
  },
  {
   "cell_type": "code",
   "execution_count": null,
   "metadata": {},
   "outputs": [],
   "source": [
    "\n",
    "###The following are default windows specified in RoninConstants.jl \n",
    "###Standard 7x7 window \n",
    "sw = Ronin.standard_window \n",
    "###7x7 window with only nonzero weights in azimuth dimension \n",
    "aw = Ronin.azi_window\n",
    "###7x7 window with only nonzero weights in range dimension \n",
    "rw = Ronin.range_window \n",
    "###Placeholder window for tasks that do not require spatial context \n",
    "pw = Ronin.placeholder_window \n",
    "\n",
    "###Specify a weight matrix for each individual task in the configuration file \n",
    "weight_vec = [pw, pw, pw, sw, sw, sw, aw, rw, pw, pw, pw, pw, pw]\n",
    "###Specify a weight vector for each model pass \n",
    "###len(weight_vector) is enforced to be equal to num_models (should have a set of weights for each pass) \n",
    "task_weights = [weight_vec, weight_vec] \n"
   ]
  },
  {
   "cell_type": "code",
   "execution_count": 3,
   "metadata": {},
   "outputs": [
    {
     "data": {
      "text/plain": [
       "2-element Vector{Vector{Matrix{Union{Missing, Float64}}}}:\n",
       " [[1.0 1.0 1.0; 1.0 1.0 1.0; 1.0 1.0 1.0], [1.0 1.0 1.0; 1.0 1.0 1.0; 1.0 1.0 1.0], [1.0 1.0 1.0; 1.0 1.0 1.0; 1.0 1.0 1.0], [1.0 1.0 … 1.0 1.0; 1.0 1.0 … 1.0 1.0; … ; 1.0 1.0 … 1.0 1.0; 1.0 1.0 … 1.0 1.0], [1.0 1.0 … 1.0 1.0; 1.0 1.0 … 1.0 1.0; … ; 1.0 1.0 … 1.0 1.0; 1.0 1.0 … 1.0 1.0], [1.0 1.0 … 1.0 1.0; 1.0 1.0 … 1.0 1.0; … ; 1.0 1.0 … 1.0 1.0; 1.0 1.0 … 1.0 1.0], [0.0 0.0 … 0.0 0.0; 0.0 0.0 … 0.0 0.0; … ; 0.0 0.0 … 0.0 0.0; 0.0 0.0 … 0.0 0.0], [0.0 0.0 … 0.0 0.0; 0.0 0.0 … 0.0 0.0; … ; 0.0 0.0 … 0.0 0.0; 0.0 0.0 … 0.0 0.0], [1.0 1.0 1.0; 1.0 1.0 1.0; 1.0 1.0 1.0], [1.0 1.0 1.0; 1.0 1.0 1.0; 1.0 1.0 1.0], [1.0 1.0 1.0; 1.0 1.0 1.0; 1.0 1.0 1.0], [1.0 1.0 1.0; 1.0 1.0 1.0; 1.0 1.0 1.0], [1.0 1.0 1.0; 1.0 1.0 1.0; 1.0 1.0 1.0]]\n",
       " [[1.0 1.0 1.0; 1.0 1.0 1.0; 1.0 1.0 1.0], [1.0 1.0 1.0; 1.0 1.0 1.0; 1.0 1.0 1.0], [1.0 1.0 1.0; 1.0 1.0 1.0; 1.0 1.0 1.0], [1.0 1.0 … 1.0 1.0; 1.0 1.0 … 1.0 1.0; … ; 1.0 1.0 … 1.0 1.0; 1.0 1.0 … 1.0 1.0], [1.0 1.0 … 1.0 1.0; 1.0 1.0 … 1.0 1.0; … ; 1.0 1.0 … 1.0 1.0; 1.0 1.0 … 1.0 1.0], [1.0 1.0 … 1.0 1.0; 1.0 1.0 … 1.0 1.0; … ; 1.0 1.0 … 1.0 1.0; 1.0 1.0 … 1.0 1.0], [0.0 0.0 … 0.0 0.0; 0.0 0.0 … 0.0 0.0; … ; 0.0 0.0 … 0.0 0.0; 0.0 0.0 … 0.0 0.0], [0.0 0.0 … 0.0 0.0; 0.0 0.0 … 0.0 0.0; … ; 0.0 0.0 … 0.0 0.0; 0.0 0.0 … 0.0 0.0], [1.0 1.0 1.0; 1.0 1.0 1.0; 1.0 1.0 1.0], [1.0 1.0 1.0; 1.0 1.0 1.0; 1.0 1.0 1.0], [1.0 1.0 1.0; 1.0 1.0 1.0; 1.0 1.0 1.0], [1.0 1.0 1.0; 1.0 1.0 1.0; 1.0 1.0 1.0], [1.0 1.0 1.0; 1.0 1.0 1.0; 1.0 1.0 1.0]]"
      ]
     },
     "metadata": {},
     "output_type": "display_data"
    }
   ],
   "source": [
    "\n",
    "\n",
    "\n",
    "base_name = \"raw_model\"\n",
    "base_name_features = \"output_features\" \n",
    "###List of paths to output trained models to. Enforced to be same size as num_models \n",
    "model_output_paths = [base_name * \"_$(i-1).jld2\" for i in 1:num_models ]\n",
    "###List of paths to output calculated features to. Enforced to be same size as num_models \n",
    "feature_output_paths = [base_name_features * \"_$(i-1).h5\" for i in 1:num_models]\n",
    "\n",
    "\n",
    "###Options are \"balanced\" or \"\". If \"balanced\", the decision trees will be trained \n",
    "###on a weighted version of the existing classes in order to combat class imbalance \n",
    "class_weights = \"balanced\"\n",
    "\n",
    "###Name of variable in cfradials that has already had interactive QC applied \n",
    "QC_var = \"VG\"\n",
    "\n",
    "###Name of a variable in cfradials that will be used to mask what gates are predicted upon.\n",
    "###Missing values in this variable mean that gates will be removed\n",
    "mask_name = \"VEL_QC\"\n",
    "\n",
    "###Name of a variable in input cfradials that has not had postprocessing applied. \n",
    "###This variable is used to determine where MISSING gates exist in the scan \n",
    "remove_var = \"VEL\"\n",
    "\n",
    "###Whether or not the input features for the model have already been calculated \n",
    "file_preprocessed = [false, false]\n",
    "\n",
    "###Where to write out the masks to in cfradial file. \n",
    "mask_names = [\"PASS_1_MASK\", \"PASS_2_MASK\"]\n",
    "\n",
    "\n"
   ]
  },
  {
   "cell_type": "code",
   "execution_count": 4,
   "metadata": {},
   "outputs": [
    {
     "data": {
      "text/plain": [
       "ModelConfig(2, [\"raw_model_0.jld2\", \"raw_model_1.jld2\"], [(0.1, 0.5), (0.5, 0.6)], [\"output_features_0.h5\", \"output_features_1.h5\"], \"/Users/ischluesche/Documents/Grad_School/Research/Ronin/NOAA/TRAINING/\", \"nan\", Bool[0, 0], [\"./NOAA_all_params.txt\", \"./NOAA_all_params.txt\"], [\"\"], Vector[Matrix{Union{Missing, Float64}}[[1.0 1.0 1.0; 1.0 1.0 1.0; 1.0 1.0 1.0], [1.0 1.0 1.0; 1.0 1.0 1.0; 1.0 1.0 1.0], [1.0 1.0 1.0; 1.0 1.0 1.0; 1.0 1.0 1.0], [1.0 1.0 … 1.0 1.0; 1.0 1.0 … 1.0 1.0; … ; 1.0 1.0 … 1.0 1.0; 1.0 1.0 … 1.0 1.0], [1.0 1.0 … 1.0 1.0; 1.0 1.0 … 1.0 1.0; … ; 1.0 1.0 … 1.0 1.0; 1.0 1.0 … 1.0 1.0], [1.0 1.0 … 1.0 1.0; 1.0 1.0 … 1.0 1.0; … ; 1.0 1.0 … 1.0 1.0; 1.0 1.0 … 1.0 1.0], [0.0 0.0 … 0.0 0.0; 0.0 0.0 … 0.0 0.0; … ; 0.0 0.0 … 0.0 0.0; 0.0 0.0 … 0.0 0.0], [0.0 0.0 … 0.0 0.0; 0.0 0.0 … 0.0 0.0; … ; 0.0 0.0 … 0.0 0.0; 0.0 0.0 … 0.0 0.0], [1.0 1.0 1.0; 1.0 1.0 1.0; 1.0 1.0 1.0], [1.0 1.0 1.0; 1.0 1.0 1.0; 1.0 1.0 1.0], [1.0 1.0 1.0; 1.0 1.0 1.0; 1.0 1.0 1.0], [1.0 1.0 1.0; 1.0 1.0 1.0; 1.0 1.0 1.0], [1.0 1.0 1.0; 1.0 1.0 1.0; 1.0 1.0 1.0]], Matrix{Union{Missing, Float64}}[[1.0 1.0 1.0; 1.0 1.0 1.0; 1.0 1.0 1.0], [1.0 1.0 1.0; 1.0 1.0 1.0; 1.0 1.0 1.0], [1.0 1.0 1.0; 1.0 1.0 1.0; 1.0 1.0 1.0], [1.0 1.0 … 1.0 1.0; 1.0 1.0 … 1.0 1.0; … ; 1.0 1.0 … 1.0 1.0; 1.0 1.0 … 1.0 1.0], [1.0 1.0 … 1.0 1.0; 1.0 1.0 … 1.0 1.0; … ; 1.0 1.0 … 1.0 1.0; 1.0 1.0 … 1.0 1.0], [1.0 1.0 … 1.0 1.0; 1.0 1.0 … 1.0 1.0; … ; 1.0 1.0 … 1.0 1.0; 1.0 1.0 … 1.0 1.0], [0.0 0.0 … 0.0 0.0; 0.0 0.0 … 0.0 0.0; … ; 0.0 0.0 … 0.0 0.0; 0.0 0.0 … 0.0 0.0], [0.0 0.0 … 0.0 0.0; 0.0 0.0 … 0.0 0.0; … ; 0.0 0.0 … 0.0 0.0; 0.0 0.0 … 0.0 0.0], [1.0 1.0 1.0; 1.0 1.0 1.0; 1.0 1.0 1.0], [1.0 1.0 1.0; 1.0 1.0 1.0; 1.0 1.0 1.0], [1.0 1.0 1.0; 1.0 1.0 1.0; 1.0 1.0 1.0], [1.0 1.0 1.0; 1.0 1.0 1.0; 1.0 1.0 1.0], [1.0 1.0 1.0; 1.0 1.0 1.0; 1.0 1.0 1.0]]], true, true, true, true, \"VG\", \"VEL\", false, true, false, [\"PASS_1_MASK\", \"PASS_2_MASK\"], [\"VEL\"], \"_QC\", \"balanced\", 21, 14, false, -32000.0)"
      ]
     },
     "metadata": {},
     "output_type": "display_data"
    }
   ],
   "source": [
    "###Create model config object\n",
    "config = ModelConfig(num_models = num_models,model_output_paths =  model_output_paths,met_probs =  met_probs, \n",
    "                    feature_output_paths = feature_output_paths, input_path = input_path,task_mode=\"nan\",file_preprocessed = file_preprocessed,\n",
    "                     task_paths = [config_path, config_path], QC_var = QC_var, remove_var = remove_var, QC_mask = false, mask_names = mask_names,\n",
    "                     VARS_TO_QC = [\"VEL\"], class_weights = class_weights, HAS_INTERACTIVE_QC=true, task_weights = task_weights)"
   ]
  },
  {
   "attachments": {},
   "cell_type": "markdown",
   "metadata": {},
   "source": [
    "# 3) Train a composite model!\n",
    "___\n",
    "Now that we have set up our model configuration, we simply invoke the `train_multi_model` function. This will likely take a long time, especially when one is training 2 or more models in a chain (1hr+). \n",
    "<b>Data will be written to the cfradial files during this process.</b>"
   ]
  },
  {
   "cell_type": "code",
   "execution_count": 5,
   "metadata": {},
   "outputs": [
    {
     "name": "stdout",
     "output_type": "stream",
     "text": [
      "\n",
      "\u001b[32mCALCULATING FEATURES FOR PASS: 1\u001b[39m\n",
      "Processed /Users/ischluesche/Documents/Grad_School/Research/Ronin/NOAA/TRAINING//cfrad.20220907_125500.003_to_20220907_125503.977_N42RF-TM_AIR.nc in 4.130916118621826 seconds"
     ]
    },
    {
     "name": "stdout",
     "output_type": "stream",
     "text": [
      "\n",
      "Processed /Users/ischluesche/Documents/Grad_School/Research/Ronin/NOAA/TRAINING//cfrad.20220907_125500.499_to_20220907_125504.479_N42RF-TS_AIR.nc in 0.5295979976654053 seconds"
     ]
    },
    {
     "name": "stdout",
     "output_type": "stream",
     "text": [
      "\n",
      "Processed /Users/ischluesche/Documents/Grad_School/Research/Ronin/NOAA/TRAINING//cfrad.20220907_125512.642_to_20220907_125516.616_N42RF-TM_AIR.nc in 0.7646200656890869 seconds"
     ]
    },
    {
     "name": "stdout",
     "output_type": "stream",
     "text": [
      "\n",
      "Processed /Users/ischluesche/Documents/Grad_School/Research/Ronin/NOAA/TRAINING//cfrad.20220907_125513.138_to_20220907_125517.117_N42RF-TS_AIR.nc in 0.5047080516815186 seconds"
     ]
    },
    {
     "name": "stdout",
     "output_type": "stream",
     "text": [
      "\n",
      "Processed /Users/ischluesche/Documents/Grad_School/Research/Ronin/NOAA/TRAINING//cfrad.20220907_125525.280_to_20220907_125529.254_N42RF-TM_AIR.nc in 0.6530649662017822 seconds"
     ]
    },
    {
     "name": "stdout",
     "output_type": "stream",
     "text": [
      "\n",
      "Processed /Users/ischluesche/Documents/Grad_School/Research/Ronin/NOAA/TRAINING//cfrad.20220907_125525.782_to_20220907_125529.755_N42RF-TS_AIR.nc in 1.0307819843292236 seconds"
     ]
    },
    {
     "name": "stdout",
     "output_type": "stream",
     "text": [
      "\n",
      "Processed /Users/ischluesche/Documents/Grad_School/Research/Ronin/NOAA/TRAINING//cfrad.20220907_125537.918_to_20220907_125541.892_N42RF-TM_AIR.nc in 0.7776229381561279 seconds"
     ]
    },
    {
     "name": "stdout",
     "output_type": "stream",
     "text": [
      "\n",
      "Processed /Users/ischluesche/Documents/Grad_School/Research/Ronin/NOAA/TRAINING//cfrad.20220907_125538.414_to_20220907_125542.394_N42RF-TS_AIR.nc in 0.4967811107635498 seconds"
     ]
    },
    {
     "name": "stdout",
     "output_type": "stream",
     "text": [
      "\n",
      "Processed /Users/ischluesche/Documents/Grad_School/Research/Ronin/NOAA/TRAINING//cfrad.20220907_125550.556_to_20220907_125554.536_N42RF-TM_AIR.nc in 0.7458159923553467 seconds"
     ]
    },
    {
     "name": "stdout",
     "output_type": "stream",
     "text": [
      "\n",
      "Processed /Users/ischluesche/Documents/Grad_School/Research/Ronin/NOAA/TRAINING//cfrad.20220907_125603.206_to_20220907_125607.180_N42RF-TM_AIR.nc in 0.5167689323425293 seconds"
     ]
    },
    {
     "name": "stdout",
     "output_type": "stream",
     "text": [
      "\n",
      "Processed /Users/ischluesche/Documents/Grad_School/Research/Ronin/NOAA/TRAINING//cfrad.20220907_125603.690_to_20220907_125607.670_N42RF-TS_AIR.nc in 0.8097310066223145 seconds"
     ]
    },
    {
     "name": "stdout",
     "output_type": "stream",
     "text": [
      "\n",
      "Processed /Users/ischluesche/Documents/Grad_School/Research/Ronin/NOAA/TRAINING//cfrad.20220907_125615.844_to_20220907_125619.818_N42RF-TM_AIR.nc in 0.5529739856719971 seconds"
     ]
    },
    {
     "name": "stdout",
     "output_type": "stream",
     "text": [
      "\n",
      "Processed /Users/ischluesche/Documents/Grad_School/Research/Ronin/NOAA/TRAINING//cfrad.20220907_125628.984_to_20220907_125632.958_N42RF-TS_AIR.nc in 0.7176260948181152 seconds"
     ]
    },
    {
     "name": "stdout",
     "output_type": "stream",
     "text": [
      "\n",
      "Processed /Users/ischluesche/Documents/Grad_School/Research/Ronin/NOAA/TRAINING//cfrad.20220907_125641.622_to_20220907_125645.596_N42RF-TS_AIR.nc in 0.5597488880157471 seconds"
     ]
    },
    {
     "name": "stdout",
     "output_type": "stream",
     "text": [
      "\n",
      "Processed /Users/ischluesche/Documents/Grad_School/Research/Ronin/NOAA/TRAINING//cfrad.20220907_125653.851_to_20220907_125657.825_N42RF-TM_AIR.nc in 0.7913289070129395 seconds"
     ]
    },
    {
     "name": "stdout",
     "output_type": "stream",
     "text": [
      "\n",
      "Processed /Users/ischluesche/Documents/Grad_School/Research/Ronin/NOAA/TRAINING//cfrad.20220907_125654.261_to_20220907_125658.235_N42RF-TS_AIR.nc in 0.6964209079742432 seconds"
     ]
    },
    {
     "name": "stdout",
     "output_type": "stream",
     "text": [
      "\n",
      "Processed /Users/ischluesche/Documents/Grad_School/Research/Ronin/NOAA/TRAINING//cfrad.20220907_125706.489_to_20220907_125710.469_N42RF-TM_AIR.nc in 0.5183849334716797 seconds"
     ]
    },
    {
     "name": "stdout",
     "output_type": "stream",
     "text": [
      "\n",
      "Processed /Users/ischluesche/Documents/Grad_School/Research/Ronin/NOAA/TRAINING//cfrad.20220907_125706.899_to_20220907_125710.873_N42RF-TS_AIR.nc in 0.7554848194122314 seconds"
     ]
    },
    {
     "name": "stdout",
     "output_type": "stream",
     "text": [
      "\n",
      "Processed /Users/ischluesche/Documents/Grad_School/Research/Ronin/NOAA/TRAINING//cfrad.20220907_125719.145_to_20220907_125723.125_N42RF-TM_AIR.nc in 0.7408349514007568 seconds"
     ]
    },
    {
     "name": "stdout",
     "output_type": "stream",
     "text": [
      "\n",
      "Processed /Users/ischluesche/Documents/Grad_School/Research/Ronin/NOAA/TRAINING//cfrad.20220907_125719.531_to_20220907_125723.499_N42RF-TS_AIR.nc in 0.5638201236724854 seconds"
     ]
    },
    {
     "name": "stdout",
     "output_type": "stream",
     "text": [
      "\n",
      "Processed /Users/ischluesche/Documents/Grad_School/Research/Ronin/NOAA/TRAINING//cfrad.20220907_125731.789_to_20220907_125735.769_N42RF-TM_AIR.nc in 0.6486129760742188 seconds"
     ]
    },
    {
     "name": "stdout",
     "output_type": "stream",
     "text": [
      "\n",
      "Processed /Users/ischluesche/Documents/Grad_School/Research/Ronin/NOAA/TRAINING//cfrad.20220907_125732.221_to_20220907_125736.195_N42RF-TS_AIR.nc in 0.7311508655548096 seconds"
     ]
    },
    {
     "name": "stdout",
     "output_type": "stream",
     "text": [
      "\n",
      "Processed /Users/ischluesche/Documents/Grad_School/Research/Ronin/NOAA/TRAINING//cfrad.20220907_125744.439_to_20220907_125748.413_N42RF-TM_AIR.nc in 0.5621650218963623 seconds"
     ]
    },
    {
     "name": "stdout",
     "output_type": "stream",
     "text": [
      "\n",
      "Processed /Users/ischluesche/Documents/Grad_School/Research/Ronin/NOAA/TRAINING//cfrad.20220907_125744.860_to_20220907_125748.834_N42RF-TS_AIR.nc in 0.6125569343566895 seconds"
     ]
    },
    {
     "name": "stdout",
     "output_type": "stream",
     "text": [
      "\n",
      "Processed /Users/ischluesche/Documents/Grad_School/Research/Ronin/NOAA/TRAINING//cfrad.20220907_125757.077_to_20220907_125801.051_N42RF-TM_AIR.nc in 0.7137200832366943 seconds"
     ]
    },
    {
     "name": "stdout",
     "output_type": "stream",
     "text": [
      "\n",
      "Processed /Users/ischluesche/Documents/Grad_School/Research/Ronin/NOAA/TRAINING//cfrad.20220907_125757.498_to_20220907_125801.495_N42RF-TS_AIR.nc in 0.7416930198669434 seconds"
     ]
    },
    {
     "name": "stdout",
     "output_type": "stream",
     "text": [
      "\n",
      "Processed /Users/ischluesche/Documents/Grad_School/Research/Ronin/NOAA/TRAINING//cfrad.20220907_125809.715_to_20220907_125813.689_N42RF-TM_AIR.nc in 0.576833963394165 seconds"
     ]
    },
    {
     "name": "stdout",
     "output_type": "stream",
     "text": [
      "\n",
      "Processed /Users/ischluesche/Documents/Grad_School/Research/Ronin/NOAA/TRAINING//cfrad.20220907_125822.353_to_20220907_125826.327_N42RF-TM_AIR.nc in 0.5967240333557129 seconds"
     ]
    },
    {
     "name": "stdout",
     "output_type": "stream",
     "text": [
      "\n",
      "Processed /Users/ischluesche/Documents/Grad_School/Research/Ronin/NOAA/TRAINING//cfrad.20220907_125822.884_to_20220907_125826.858_N42RF-TS_AIR.nc in 0.7416720390319824 seconds"
     ]
    },
    {
     "name": "stdout",
     "output_type": "stream",
     "text": [
      "\n",
      "Processed /Users/ischluesche/Documents/Grad_School/Research/Ronin/NOAA/TRAINING//cfrad.20220907_125834.992_to_20220907_125838.966_N42RF-TM_AIR.nc in 0.7286019325256348 seconds"
     ]
    },
    {
     "name": "stdout",
     "output_type": "stream",
     "text": [
      "\n",
      "Processed /Users/ischluesche/Documents/Grad_School/Research/Ronin/NOAA/TRAINING//cfrad.20220907_125835.522_to_20220907_125839.496_N42RF-TS_AIR.nc in 0.8354940414428711 seconds"
     ]
    },
    {
     "name": "stdout",
     "output_type": "stream",
     "text": [
      "\n",
      "Processed /Users/ischluesche/Documents/Grad_School/Research/Ronin/NOAA/TRAINING//cfrad.20220907_125848.160_to_20220907_125852.140_N42RF-TS_AIR.nc in 0.5232419967651367 seconds"
     ]
    },
    {
     "name": "stdout",
     "output_type": "stream",
     "text": [
      "\n",
      "Processed /Users/ischluesche/Documents/Grad_School/Research/Ronin/NOAA/TRAINING//cfrad.20220907_125900.804_to_20220907_125904.778_N42RF-TS_AIR.nc in 0.5784578323364258 seconds"
     ]
    },
    {
     "name": "stdout",
     "output_type": "stream",
     "text": [
      "\n",
      "Processed /Users/ischluesche/Documents/Grad_School/Research/Ronin/NOAA/TRAINING//cfrad.20220907_125913.022_to_20220907_125916.996_N42RF-TM_AIR.nc in 0.5670979022979736 seconds"
     ]
    },
    {
     "name": "stdout",
     "output_type": "stream",
     "text": [
      "\n",
      "Processed /Users/ischluesche/Documents/Grad_School/Research/Ronin/NOAA/TRAINING//cfrad.20220907_125913.437_to_20220907_125917.411_N42RF-TS_AIR.nc in 0.5829949378967285 seconds"
     ]
    },
    {
     "name": "stdout",
     "output_type": "stream",
     "text": [
      "\n",
      "Processed /Users/ischluesche/Documents/Grad_School/Research/Ronin/NOAA/TRAINING//cfrad.20220907_125925.654_to_20220907_125929.634_N42RF-TM_AIR.nc in 0.5278589725494385 seconds"
     ]
    },
    {
     "name": "stdout",
     "output_type": "stream",
     "text": [
      "\n",
      "Processed /Users/ischluesche/Documents/Grad_School/Research/Ronin/NOAA/TRAINING//cfrad.20220907_125938.298_to_20220907_125942.272_N42RF-TM_AIR.nc in 0.5176849365234375 seconds"
     ]
    },
    {
     "name": "stdout",
     "output_type": "stream",
     "text": [
      "\n",
      "Processed /Users/ischluesche/Documents/Grad_School/Research/Ronin/NOAA/TRAINING//cfrad.20220907_125938.858_to_20220907_125942.838_N42RF-TS_AIR.nc in 0.9681079387664795 seconds"
     ]
    },
    {
     "name": "stdout",
     "output_type": "stream",
     "text": [
      "\n",
      "Processed /Users/ischluesche/Documents/Grad_School/Research/Ronin/NOAA/TRAINING//cfrad.20220907_125950.931_to_20220907_125954.910_N42RF-TM_AIR.nc in 0.8417258262634277 seconds"
     ]
    },
    {
     "name": "stdout",
     "output_type": "stream",
     "text": [
      "\n",
      "Processed /Users/ischluesche/Documents/Grad_School/Research/Ronin/NOAA/TRAINING//cfrad.20220907_125951.508_to_20220907_125955.487_N42RF-TS_AIR.nc in 0.6602151393890381 seconds"
     ]
    },
    {
     "name": "stdout",
     "output_type": "stream",
     "text": [
      "\n",
      "Processed /Users/ischluesche/Documents/Grad_School/Research/Ronin/NOAA/TRAINING//cfrad.20220907_130003.569_to_20220907_130007.543_N42RF-TM_AIR.nc in 0.6157629489898682 seconds"
     ]
    },
    {
     "name": "stdout",
     "output_type": "stream",
     "text": [
      "\n",
      "Processed /Users/ischluesche/Documents/Grad_School/Research/Ronin/NOAA/TRAINING//cfrad.20220907_130004.151_to_20220907_130008.125_N42RF-TS_AIR.nc in 0.8263890743255615 seconds"
     ]
    },
    {
     "name": "stdout",
     "output_type": "stream",
     "text": [
      "\n",
      "Processed /Users/ischluesche/Documents/Grad_School/Research/Ronin/NOAA/TRAINING//cfrad.20220907_130016.213_to_20220907_130020.187_N42RF-TM_AIR.nc in 0.6941738128662109 seconds"
     ]
    },
    {
     "name": "stdout",
     "output_type": "stream",
     "text": [
      "\n",
      "Processed /Users/ischluesche/Documents/Grad_School/Research/Ronin/NOAA/TRAINING//cfrad.20220907_130016.813_to_20220907_130020.787_N42RF-TS_AIR.nc in 0.5380117893218994 seconds"
     ]
    },
    {
     "name": "stdout",
     "output_type": "stream",
     "text": [
      "\n",
      "Processed /Users/ischluesche/Documents/Grad_School/Research/Ronin/NOAA/TRAINING//cfrad.20220907_130028.851_to_20220907_130032.825_N42RF-TM_AIR.nc in 0.5629048347473145 seconds"
     ]
    },
    {
     "name": "stdout",
     "output_type": "stream",
     "text": [
      "\n",
      "Processed /Users/ischluesche/Documents/Grad_School/Research/Ronin/NOAA/TRAINING//cfrad.20220907_130029.451_to_20220907_130033.425_N42RF-TS_AIR.nc in 0.545598030090332 seconds"
     ]
    },
    {
     "name": "stdout",
     "output_type": "stream",
     "text": [
      "\n",
      "Processed /Users/ischluesche/Documents/Grad_School/Research/Ronin/NOAA/TRAINING//cfrad.20220907_130041.489_to_20220907_130045.469_N42RF-TM_AIR.nc in 0.5441579818725586 seconds"
     ]
    },
    {
     "name": "stdout",
     "output_type": "stream",
     "text": [
      "\n",
      "Processed /Users/ischluesche/Documents/Grad_School/Research/Ronin/NOAA/TRAINING//cfrad.20220907_130042.089_to_20220907_130046.063_N42RF-TS_AIR.nc in 0.5913510322570801 seconds"
     ]
    },
    {
     "name": "stdout",
     "output_type": "stream",
     "text": [
      "\n",
      "Processed /Users/ischluesche/Documents/Grad_School/Research/Ronin/NOAA/TRAINING//cfrad.20220907_130054.128_to_20220907_130058.102_N42RF-TM_AIR.nc in 0.8592050075531006 seconds"
     ]
    },
    {
     "name": "stdout",
     "output_type": "stream",
     "text": [
      "\n",
      "Processed /Users/ischluesche/Documents/Grad_School/Research/Ronin/NOAA/TRAINING//cfrad.20220907_130054.808_to_20220907_130058.788_N42RF-TS_AIR.nc in 0.7436561584472656 seconds"
     ]
    },
    {
     "name": "stdout",
     "output_type": "stream",
     "text": [
      "\n",
      "Processed /Users/ischluesche/Documents/Grad_School/Research/Ronin/NOAA/TRAINING//cfrad.20220907_130106.766_to_20220907_130110.740_N42RF-TM_AIR.nc in 0.5524990558624268 seconds"
     ]
    },
    {
     "name": "stdout",
     "output_type": "stream",
     "text": [
      "\n",
      "Processed /Users/ischluesche/Documents/Grad_School/Research/Ronin/NOAA/TRAINING//cfrad.20220907_130107.452_to_20220907_130111.432_N42RF-TS_AIR.nc in 0.553455114364624 seconds"
     ]
    },
    {
     "name": "stdout",
     "output_type": "stream",
     "text": [
      "\n",
      "Processed /Users/ischluesche/Documents/Grad_School/Research/Ronin/NOAA/TRAINING//cfrad.20220907_130119.404_to_20220907_130123.378_N42RF-TM_AIR.nc in 0.8664329051971436 seconds"
     ]
    },
    {
     "name": "stdout",
     "output_type": "stream",
     "text": [
      "\n",
      "Processed /Users/ischluesche/Documents/Grad_School/Research/Ronin/NOAA/TRAINING//cfrad.20220907_130120.091_to_20220907_130124.070_N42RF-TS_AIR.nc in 0.8392698764801025 seconds"
     ]
    },
    {
     "name": "stdout",
     "output_type": "stream",
     "text": [
      "\n",
      "Processed /Users/ischluesche/Documents/Grad_School/Research/Ronin/NOAA/TRAINING//cfrad.20220907_130132.042_to_20220907_130136.022_N42RF-TM_AIR.nc in 0.9713799953460693 seconds"
     ]
    },
    {
     "name": "stdout",
     "output_type": "stream",
     "text": [
      "\n",
      "Processed /Users/ischluesche/Documents/Grad_School/Research/Ronin/NOAA/TRAINING//cfrad.20220907_130132.810_to_20220907_130136.784_N42RF-TS_AIR.nc in 0.6765880584716797 seconds"
     ]
    },
    {
     "name": "stdout",
     "output_type": "stream",
     "text": [
      "\n",
      "Processed /Users/ischluesche/Documents/Grad_School/Research/Ronin/NOAA/TRAINING//cfrad.20220907_130144.686_to_20220907_130148.660_N42RF-TM_AIR.nc in 0.7665729522705078 seconds"
     ]
    },
    {
     "name": "stdout",
     "output_type": "stream",
     "text": [
      "\n",
      "Processed /Users/ischluesche/Documents/Grad_School/Research/Ronin/NOAA/TRAINING//cfrad.20220907_130145.448_to_20220907_130149.422_N42RF-TS_AIR.nc in 0.5368919372558594 seconds"
     ]
    },
    {
     "name": "stdout",
     "output_type": "stream",
     "text": [
      "\n",
      "Processed /Users/ischluesche/Documents/Grad_School/Research/Ronin/NOAA/TRAINING//cfrad.20220907_130157.319_to_20220907_130201.298_N42RF-TM_AIR.nc in 0.6375389099121094 seconds"
     ]
    },
    {
     "name": "stdout",
     "output_type": "stream",
     "text": [
      "\n",
      "Processed /Users/ischluesche/Documents/Grad_School/Research/Ronin/NOAA/TRAINING//cfrad.20220907_130209.957_to_20220907_130213.937_N42RF-TM_AIR.nc in 0.9531478881835938 seconds"
     ]
    },
    {
     "name": "stdout",
     "output_type": "stream",
     "text": [
      "\n",
      "Processed /Users/ischluesche/Documents/Grad_School/Research/Ronin/NOAA/TRAINING//cfrad.20220907_130210.719_to_20220907_130214.698_N42RF-TS_AIR.nc in 0.7693288326263428 seconds"
     ]
    },
    {
     "name": "stdout",
     "output_type": "stream",
     "text": [
      "\n",
      "Processed /Users/ischluesche/Documents/Grad_School/Research/Ronin/NOAA/TRAINING//cfrad.20220907_130222.595_to_20220907_130226.575_N42RF-TM_AIR.nc in 0.6213369369506836 seconds"
     ]
    },
    {
     "name": "stdout",
     "output_type": "stream",
     "text": [
      "\n",
      "Processed /Users/ischluesche/Documents/Grad_School/Research/Ronin/NOAA/TRAINING//cfrad.20220907_130223.363_to_20220907_130227.337_N42RF-TS_AIR.nc in 0.7941899299621582 seconds"
     ]
    },
    {
     "name": "stdout",
     "output_type": "stream",
     "text": [
      "\n",
      "Processed /Users/ischluesche/Documents/Grad_School/Research/Ronin/NOAA/TRAINING//cfrad.20220907_130235.233_to_20220907_130239.213_N42RF-TM_AIR.nc in 0.5539710521697998 seconds"
     ]
    },
    {
     "name": "stdout",
     "output_type": "stream",
     "text": [
      "\n",
      "Processed /Users/ischluesche/Documents/Grad_School/Research/Ronin/NOAA/TRAINING//cfrad.20220907_130236.035_to_20220907_130240.009_N42RF-TS_AIR.nc in 0.5458371639251709 seconds"
     ]
    },
    {
     "name": "stdout",
     "output_type": "stream",
     "text": [
      "\n",
      "Processed /Users/ischluesche/Documents/Grad_School/Research/Ronin/NOAA/TRAINING//cfrad.20220907_130247.877_to_20220907_130251.851_N42RF-TM_AIR.nc in 0.6285459995269775 seconds"
     ]
    },
    {
     "name": "stdout",
     "output_type": "stream",
     "text": [
      "\n",
      "Processed /Users/ischluesche/Documents/Grad_School/Research/Ronin/NOAA/TRAINING//cfrad.20220907_130248.806_to_20220907_130252.786_N42RF-TS_AIR.nc in 0.5975630283355713 seconds"
     ]
    },
    {
     "name": "stdout",
     "output_type": "stream",
     "text": [
      "\n",
      "Processed /Users/ischluesche/Documents/Grad_School/Research/Ronin/NOAA/TRAINING//cfrad.20220907_130300.515_to_20220907_130304.489_N42RF-TM_AIR.nc in 1.2060060501098633 seconds"
     ]
    },
    {
     "name": "stdout",
     "output_type": "stream",
     "text": [
      "\n",
      "Processed /Users/ischluesche/Documents/Grad_School/Research/Ronin/NOAA/TRAINING//cfrad.20220907_130301.445_to_20220907_130305.424_N42RF-TS_AIR.nc in 0.5229899883270264 seconds"
     ]
    },
    {
     "name": "stdout",
     "output_type": "stream",
     "text": [
      "\n",
      "Processed /Users/ischluesche/Documents/Grad_School/Research/Ronin/NOAA/TRAINING//cfrad.20220907_130313.154_to_20220907_130317.128_N42RF-TM_AIR.nc in 0.7458100318908691 seconds"
     ]
    },
    {
     "name": "stdout",
     "output_type": "stream",
     "text": [
      "\n",
      "Processed /Users/ischluesche/Documents/Grad_School/Research/Ronin/NOAA/TRAINING//cfrad.20220907_130314.083_to_20220907_130318.057_N42RF-TS_AIR.nc in 0.7901418209075928 seconds"
     ]
    },
    {
     "name": "stdout",
     "output_type": "stream",
     "text": [
      "\n",
      "Processed /Users/ischluesche/Documents/Grad_School/Research/Ronin/NOAA/TRAINING//cfrad.20220907_130326.721_to_20220907_130330.695_N42RF-TS_AIR.nc in 0.5518660545349121 seconds"
     ]
    },
    {
     "name": "stdout",
     "output_type": "stream",
     "text": [
      "\n",
      "Processed /Users/ischluesche/Documents/Grad_School/Research/Ronin/NOAA/TRAINING//cfrad.20220907_130339.359_to_20220907_130343.339_N42RF-TS_AIR.nc in 0.8604810237884521 seconds"
     ]
    },
    {
     "name": "stdout",
     "output_type": "stream",
     "text": [
      "\n",
      "Processed /Users/ischluesche/Documents/Grad_School/Research/Ronin/NOAA/TRAINING//cfrad.20220907_130351.068_to_20220907_130355.042_N42RF-TM_AIR.nc in 0.7128760814666748 seconds"
     ]
    },
    {
     "name": "stdout",
     "output_type": "stream",
     "text": [
      "\n",
      "Processed /Users/ischluesche/Documents/Grad_School/Research/Ronin/NOAA/TRAINING//cfrad.20220907_130352.026_to_20220907_130356.012_N42RF-TS_AIR.nc in 0.5874509811401367 seconds"
     ]
    },
    {
     "name": "stdout",
     "output_type": "stream",
     "text": [
      "\n",
      "Processed /Users/ischluesche/Documents/Grad_School/Research/Ronin/NOAA/TRAINING//cfrad.20220907_130403.707_to_20220907_130407.686_N42RF-TM_AIR.nc in 0.609738826751709 seconds"
     ]
    },
    {
     "name": "stdout",
     "output_type": "stream",
     "text": [
      "\n",
      "Processed /Users/ischluesche/Documents/Grad_School/Research/Ronin/NOAA/TRAINING//cfrad.20220907_130404.670_to_20220907_130408.650_N42RF-TS_AIR.nc in 0.8053929805755615 seconds"
     ]
    },
    {
     "name": "stdout",
     "output_type": "stream",
     "text": [
      "\n",
      "Processed /Users/ischluesche/Documents/Grad_School/Research/Ronin/NOAA/TRAINING//cfrad.20220907_130416.345_to_20220907_130420.319_N42RF-TM_AIR.nc in 0.7827179431915283 seconds"
     ]
    },
    {
     "name": "stdout",
     "output_type": "stream",
     "text": [
      "\n",
      "Processed /Users/ischluesche/Documents/Grad_School/Research/Ronin/NOAA/TRAINING//cfrad.20220907_130417.309_to_20220907_130421.288_N42RF-TS_AIR.nc in 0.828577995300293 seconds"
     ]
    },
    {
     "name": "stdout",
     "output_type": "stream",
     "text": [
      "\n",
      "Processed /Users/ischluesche/Documents/Grad_School/Research/Ronin/NOAA/TRAINING//cfrad.20220907_130428.995_to_20220907_130432.974_N42RF-TM_AIR.nc in 0.7523641586303711 seconds"
     ]
    },
    {
     "name": "stdout",
     "output_type": "stream",
     "text": [
      "\n",
      "Processed /Users/ischluesche/Documents/Grad_School/Research/Ronin/NOAA/TRAINING//cfrad.20220907_130429.958_to_20220907_130433.932_N42RF-TS_AIR.nc in 0.7797999382019043 seconds"
     ]
    },
    {
     "name": "stdout",
     "output_type": "stream",
     "text": [
      "\n",
      "Processed /Users/ischluesche/Documents/Grad_School/Research/Ronin/NOAA/TRAINING//cfrad.20220907_130441.633_to_20220907_130445.607_N42RF-TM_AIR.nc in 0.7098970413208008 seconds"
     ]
    },
    {
     "name": "stdout",
     "output_type": "stream",
     "text": [
      "\n",
      "Processed /Users/ischluesche/Documents/Grad_School/Research/Ronin/NOAA/TRAINING//cfrad.20220907_130454.271_to_20220907_130458.245_N42RF-TM_AIR.nc in 0.5769500732421875 seconds"
     ]
    },
    {
     "name": "stdout",
     "output_type": "stream",
     "text": [
      "\n",
      "Processed /Users/ischluesche/Documents/Grad_School/Research/Ronin/NOAA/TRAINING//cfrad.20220907_130455.235_to_20220907_130459.215_N42RF-TS_AIR.nc in 1.101931095123291 seconds"
     ]
    },
    {
     "name": "stdout",
     "output_type": "stream",
     "text": [
      "\n",
      "Processed /Users/ischluesche/Documents/Grad_School/Research/Ronin/NOAA/TRAINING//cfrad.20220907_130506.909_to_20220907_130510.889_N42RF-TM_AIR.nc in 0.5779170989990234 seconds"
     ]
    },
    {
     "name": "stdout",
     "output_type": "stream",
     "text": [
      "\n",
      "Processed /Users/ischluesche/Documents/Grad_School/Research/Ronin/NOAA/TRAINING//cfrad.20220907_130507.879_to_20220907_130511.853_N42RF-TS_AIR.nc in 0.7458159923553467 seconds"
     ]
    },
    {
     "name": "stdout",
     "output_type": "stream",
     "text": [
      "\n",
      "Processed /Users/ischluesche/Documents/Grad_School/Research/Ronin/NOAA/TRAINING//cfrad.20220907_130519.553_to_20220907_130523.527_N42RF-TM_AIR.nc in 0.7964110374450684 seconds"
     ]
    },
    {
     "name": "stdout",
     "output_type": "stream",
     "text": [
      "\n",
      "Processed /Users/ischluesche/Documents/Grad_School/Research/Ronin/NOAA/TRAINING//cfrad.20220907_130520.517_to_20220907_130524.497_N42RF-TS_AIR.nc in 0.5630581378936768 seconds"
     ]
    },
    {
     "name": "stdout",
     "output_type": "stream",
     "text": [
      "\n",
      "Processed /Users/ischluesche/Documents/Grad_School/Research/Ronin/NOAA/TRAINING//cfrad.20220907_130532.191_to_20220907_130536.165_N42RF-TM_AIR.nc in 0.6536669731140137 seconds"
     ]
    },
    {
     "name": "stdout",
     "output_type": "stream",
     "text": [
      "\n",
      "Processed /Users/ischluesche/Documents/Grad_School/Research/Ronin/NOAA/TRAINING//cfrad.20220907_130533.167_to_20220907_130537.141_N42RF-TS_AIR.nc in 0.6379640102386475 seconds"
     ]
    },
    {
     "name": "stdout",
     "output_type": "stream",
     "text": [
      "\n",
      "Processed /Users/ischluesche/Documents/Grad_School/Research/Ronin/NOAA/TRAINING//cfrad.20220907_130544.830_to_20220907_130548.804_N42RF-TM_AIR.nc in 0.7375519275665283 seconds"
     ]
    },
    {
     "name": "stdout",
     "output_type": "stream",
     "text": [
      "\n",
      "Processed /Users/ischluesche/Documents/Grad_School/Research/Ronin/NOAA/TRAINING//cfrad.20220907_130545.799_to_20220907_130549.779_N42RF-TS_AIR.nc in 0.7379500865936279 seconds"
     ]
    },
    {
     "name": "stdout",
     "output_type": "stream",
     "text": [
      "\n",
      "Processed /Users/ischluesche/Documents/Grad_School/Research/Ronin/NOAA/TRAINING//cfrad.20220907_130557.468_to_20220907_130601.442_N42RF-TM_AIR.nc in 0.7740490436553955 seconds"
     ]
    },
    {
     "name": "stdout",
     "output_type": "stream",
     "text": [
      "\n",
      "Processed /Users/ischluesche/Documents/Grad_School/Research/Ronin/NOAA/TRAINING//cfrad.20220907_130558.437_to_20220907_130602.417_N42RF-TS_AIR.nc in 0.5481128692626953 seconds"
     ]
    },
    {
     "name": "stdout",
     "output_type": "stream",
     "text": [
      "\n",
      "Processed /Users/ischluesche/Documents/Grad_School/Research/Ronin/NOAA/TRAINING//cfrad.20220907_130611.081_to_20220907_130615.055_N42RF-TS_AIR.nc in 0.8425290584564209 seconds"
     ]
    },
    {
     "name": "stdout",
     "output_type": "stream",
     "text": [
      "\n",
      "Processed /Users/ischluesche/Documents/Grad_School/Research/Ronin/NOAA/TRAINING//cfrad.20220907_130622.744_to_20220907_130626.718_N42RF-TM_AIR.nc in 0.5808920860290527 seconds"
     ]
    },
    {
     "name": "stdout",
     "output_type": "stream",
     "text": [
      "\n",
      "Processed /Users/ischluesche/Documents/Grad_School/Research/Ronin/NOAA/TRAINING//cfrad.20220907_130635.382_to_20220907_130639.356_N42RF-TM_AIR.nc in 0.6697969436645508 seconds"
     ]
    },
    {
     "name": "stdout",
     "output_type": "stream",
     "text": [
      "\n",
      "Processed /Users/ischluesche/Documents/Grad_School/Research/Ronin/NOAA/TRAINING//cfrad.20220907_130636.358_to_20220907_130640.332_N42RF-TS_AIR.nc in 0.7233450412750244 seconds"
     ]
    },
    {
     "name": "stdout",
     "output_type": "stream",
     "text": [
      "\n",
      "Processed /Users/ischluesche/Documents/Grad_School/Research/Ronin/NOAA/TRAINING//cfrad.20220907_130648.021_to_20220907_130651.995_N42RF-TM_AIR.nc in 0.5766770839691162 seconds"
     ]
    },
    {
     "name": "stdout",
     "output_type": "stream",
     "text": [
      "\n",
      "Processed /Users/ischluesche/Documents/Grad_School/Research/Ronin/NOAA/TRAINING//cfrad.20220907_130648.996_to_20220907_130652.970_N42RF-TS_AIR.nc in 0.6119899749755859 seconds"
     ]
    },
    {
     "name": "stdout",
     "output_type": "stream",
     "text": [
      "\n",
      "Processed /Users/ischluesche/Documents/Grad_School/Research/Ronin/NOAA/TRAINING//cfrad.20220907_130700.659_to_20220907_130704.639_N42RF-TM_AIR.nc in 0.7410039901733398 seconds"
     ]
    },
    {
     "name": "stdout",
     "output_type": "stream",
     "text": [
      "\n",
      "Processed /Users/ischluesche/Documents/Grad_School/Research/Ronin/NOAA/TRAINING//cfrad.20220907_130701.634_to_20220907_130705.608_N42RF-TS_AIR.nc in 0.5326659679412842 seconds"
     ]
    },
    {
     "name": "stdout",
     "output_type": "stream",
     "text": [
      "\n",
      "Processed /Users/ischluesche/Documents/Grad_School/Research/Ronin/NOAA/TRAINING//cfrad.20220907_130713.297_to_20220907_130717.271_N42RF-TM_AIR.nc in 0.9428091049194336 seconds"
     ]
    },
    {
     "name": "stdout",
     "output_type": "stream",
     "text": [
      "\n",
      "Processed /Users/ischluesche/Documents/Grad_School/Research/Ronin/NOAA/TRAINING//cfrad.20220907_130714.273_to_20220907_130718.247_N42RF-TS_AIR.nc in 0.6108148097991943 seconds"
     ]
    },
    {
     "name": "stdout",
     "output_type": "stream",
     "text": [
      "\n",
      "Processed /Users/ischluesche/Documents/Grad_School/Research/Ronin/NOAA/TRAINING//cfrad.20220907_130725.935_to_20220907_130729.909_N42RF-TM_AIR.nc in 0.5252678394317627 seconds"
     ]
    },
    {
     "name": "stdout",
     "output_type": "stream",
     "text": [
      "\n",
      "Processed /Users/ischluesche/Documents/Grad_School/Research/Ronin/NOAA/TRAINING//cfrad.20220907_130726.911_to_20220907_130730.891_N42RF-TS_AIR.nc in 0.6671950817108154 seconds"
     ]
    },
    {
     "name": "stdout",
     "output_type": "stream",
     "text": [
      "\n",
      "Processed /Users/ischluesche/Documents/Grad_School/Research/Ronin/NOAA/TRAINING//cfrad.20220907_130738.614_to_20220907_130742.594_N42RF-TM_AIR.nc in 0.6629471778869629 seconds"
     ]
    },
    {
     "name": "stdout",
     "output_type": "stream",
     "text": [
      "\n",
      "Processed /Users/ischluesche/Documents/Grad_School/Research/Ronin/NOAA/TRAINING//cfrad.20220907_130739.589_to_20220907_130743.575_N42RF-TS_AIR.nc in 0.7430629730224609 seconds"
     ]
    },
    {
     "name": "stdout",
     "output_type": "stream",
     "text": [
      "\n",
      "Processed /Users/ischluesche/Documents/Grad_School/Research/Ronin/NOAA/TRAINING//cfrad.20220907_130751.258_to_20220907_130755.232_N42RF-TM_AIR.nc in 0.7161750793457031 seconds"
     ]
    },
    {
     "name": "stdout",
     "output_type": "stream",
     "text": [
      "\n",
      "Processed /Users/ischluesche/Documents/Grad_School/Research/Ronin/NOAA/TRAINING//cfrad.20220907_130752.245_to_20220907_130756.225_N42RF-TS_AIR.nc in 0.5857160091400146 seconds"
     ]
    },
    {
     "name": "stdout",
     "output_type": "stream",
     "text": [
      "\n",
      "Processed /Users/ischluesche/Documents/Grad_School/Research/Ronin/NOAA/TRAINING//cfrad.20220907_130803.896_to_20220907_130807.870_N42RF-TM_AIR.nc in 1.1544239521026611 seconds"
     ]
    },
    {
     "name": "stdout",
     "output_type": "stream",
     "text": [
      "\n",
      "Processed /Users/ischluesche/Documents/Grad_School/Research/Ronin/NOAA/TRAINING//cfrad.20220907_130804.895_to_20220907_130808.869_N42RF-TS_AIR.nc in 0.6041369438171387 seconds"
     ]
    },
    {
     "name": "stdout",
     "output_type": "stream",
     "text": [
      "\n",
      "Processed /Users/ischluesche/Documents/Grad_School/Research/Ronin/NOAA/TRAINING//cfrad.20220907_130816.534_to_20220907_130820.514_N42RF-TM_AIR.nc in 0.6603960990905762 seconds"
     ]
    },
    {
     "name": "stdout",
     "output_type": "stream",
     "text": [
      "\n",
      "Processed /Users/ischluesche/Documents/Grad_School/Research/Ronin/NOAA/TRAINING//cfrad.20220907_130817.614_to_20220907_130821.599_N42RF-TS_AIR.nc in 0.7623229026794434 seconds"
     ]
    },
    {
     "name": "stdout",
     "output_type": "stream",
     "text": [
      "\n",
      "Processed /Users/ischluesche/Documents/Grad_School/Research/Ronin/NOAA/TRAINING//cfrad.20220907_130829.173_to_20220907_130833.152_N42RF-TM_AIR.nc in 0.6372020244598389 seconds"
     ]
    },
    {
     "name": "stdout",
     "output_type": "stream",
     "text": [
      "\n",
      "Processed /Users/ischluesche/Documents/Grad_School/Research/Ronin/NOAA/TRAINING//cfrad.20220907_130830.258_to_20220907_130834.238_N42RF-TS_AIR.nc in 1.072139024734497 seconds"
     ]
    },
    {
     "name": "stdout",
     "output_type": "stream",
     "text": [
      "\n",
      "Processed /Users/ischluesche/Documents/Grad_School/Research/Ronin/NOAA/TRAINING//cfrad.20220907_130841.811_to_20220907_130845.785_N42RF-TM_AIR.nc in 0.5275850296020508 seconds"
     ]
    },
    {
     "name": "stdout",
     "output_type": "stream",
     "text": [
      "\n",
      "Processed /Users/ischluesche/Documents/Grad_School/Research/Ronin/NOAA/TRAINING//cfrad.20220907_130842.902_to_20220907_130846.876_N42RF-TS_AIR.nc in 0.6209580898284912 seconds"
     ]
    },
    {
     "name": "stdout",
     "output_type": "stream",
     "text": [
      "\n",
      "Processed /Users/ischluesche/Documents/Grad_School/Research/Ronin/NOAA/TRAINING//cfrad.20220907_130855.540_to_20220907_130859.520_N42RF-TS_AIR.nc in 0.8992319107055664 seconds"
     ]
    },
    {
     "name": "stdout",
     "output_type": "stream",
     "text": [
      "\n",
      "Processed /Users/ischluesche/Documents/Grad_School/Research/Ronin/NOAA/TRAINING//cfrad.20220907_131100.843_to_20220907_131104.811_N42RF-TM_AIR.nc in 0.9615030288696289 seconds"
     ]
    },
    {
     "name": "stdout",
     "output_type": "stream",
     "text": [
      "\n",
      "Processed /Users/ischluesche/Documents/Grad_School/Research/Ronin/NOAA/TRAINING//cfrad.20220907_131101.934_to_20220907_131105.908_N42RF-TS_AIR.nc in 0.5128810405731201 seconds"
     ]
    },
    {
     "name": "stdout",
     "output_type": "stream",
     "text": [
      "\n",
      "Processed /Users/ischluesche/Documents/Grad_School/Research/Ronin/NOAA/TRAINING//cfrad.20220907_131113.475_to_20220907_131117.449_N42RF-TM_AIR.nc in 0.5700109004974365 seconds"
     ]
    },
    {
     "name": "stdout",
     "output_type": "stream",
     "text": [
      "\n",
      "Processed /Users/ischluesche/Documents/Grad_School/Research/Ronin/NOAA/TRAINING//cfrad.20220907_131114.578_to_20220907_131118.552_N42RF-TS_AIR.nc in 0.5622999668121338 seconds"
     ]
    },
    {
     "name": "stdout",
     "output_type": "stream",
     "text": [
      "\n",
      "Processed /Users/ischluesche/Documents/Grad_School/Research/Ronin/NOAA/TRAINING//cfrad.20220907_131126.113_to_20220907_131130.093_N42RF-TM_AIR.nc in 0.5170228481292725 seconds"
     ]
    },
    {
     "name": "stdout",
     "output_type": "stream",
     "text": [
      "\n",
      "Processed /Users/ischluesche/Documents/Grad_School/Research/Ronin/NOAA/TRAINING//cfrad.20220907_131127.216_to_20220907_131131.190_N42RF-TS_AIR.nc in 0.6625590324401855 seconds"
     ]
    },
    {
     "name": "stdout",
     "output_type": "stream",
     "text": [
      "\n",
      "Processed /Users/ischluesche/Documents/Grad_School/Research/Ronin/NOAA/TRAINING//cfrad.20220907_131138.752_to_20220907_131142.731_N42RF-TM_AIR.nc in 0.7463400363922119 seconds"
     ]
    },
    {
     "name": "stdout",
     "output_type": "stream",
     "text": [
      "\n",
      "Processed /Users/ischluesche/Documents/Grad_School/Research/Ronin/NOAA/TRAINING//cfrad.20220907_131151.390_to_20220907_131155.370_N42RF-TM_AIR.nc in 1.2659640312194824 seconds"
     ]
    },
    {
     "name": "stdout",
     "output_type": "stream",
     "text": [
      "\n",
      "Processed /Users/ischluesche/Documents/Grad_School/Research/Ronin/NOAA/TRAINING//cfrad.20220907_131152.492_to_20220907_131156.466_N42RF-TS_AIR.nc in 0.5349369049072266 seconds"
     ]
    },
    {
     "name": "stdout",
     "output_type": "stream",
     "text": [
      "\n",
      "Processed /Users/ischluesche/Documents/Grad_School/Research/Ronin/NOAA/TRAINING//cfrad.20220907_131204.086_to_20220907_131208.066_N42RF-TM_AIR.nc in 0.7333540916442871 seconds"
     ]
    },
    {
     "name": "stdout",
     "output_type": "stream",
     "text": [
      "\n",
      "Processed /Users/ischluesche/Documents/Grad_School/Research/Ronin/NOAA/TRAINING//cfrad.20220907_131205.125_to_20220907_131209.105_N42RF-TS_AIR.nc in 1.2901110649108887 seconds"
     ]
    },
    {
     "name": "stdout",
     "output_type": "stream",
     "text": [
      "\n",
      "Processed /Users/ischluesche/Documents/Grad_School/Research/Ronin/NOAA/TRAINING//cfrad.20220907_131216.724_to_20220907_131220.704_N42RF-TM_AIR.nc in 0.5162808895111084 seconds"
     ]
    },
    {
     "name": "stdout",
     "output_type": "stream",
     "text": [
      "\n",
      "Processed /Users/ischluesche/Documents/Grad_School/Research/Ronin/NOAA/TRAINING//cfrad.20220907_131217.763_to_20220907_131221.743_N42RF-TS_AIR.nc in 0.6745259761810303 seconds"
     ]
    },
    {
     "name": "stdout",
     "output_type": "stream",
     "text": [
      "\n",
      "Processed /Users/ischluesche/Documents/Grad_School/Research/Ronin/NOAA/TRAINING//cfrad.20220907_131229.362_to_20220907_131233.336_N42RF-TM_AIR.nc in 1.2193989753723145 seconds"
     ]
    },
    {
     "name": "stdout",
     "output_type": "stream",
     "text": [
      "\n",
      "Processed /Users/ischluesche/Documents/Grad_School/Research/Ronin/NOAA/TRAINING//cfrad.20220907_131242.012_to_20220907_131245.992_N42RF-TM_AIR.nc in 0.661322832107544 seconds"
     ]
    },
    {
     "name": "stdout",
     "output_type": "stream",
     "text": [
      "\n",
      "Processed /Users/ischluesche/Documents/Grad_School/Research/Ronin/NOAA/TRAINING//cfrad.20220907_131243.057_to_20220907_131247.031_N42RF-TS_AIR.nc in 0.668097972869873 seconds"
     ]
    },
    {
     "name": "stdout",
     "output_type": "stream",
     "text": [
      "\n",
      "Processed /Users/ischluesche/Documents/Grad_School/Research/Ronin/NOAA/TRAINING//cfrad.20220907_131254.656_to_20220907_131258.630_N42RF-TM_AIR.nc in 1.0932300090789795 seconds"
     ]
    },
    {
     "name": "stdout",
     "output_type": "stream",
     "text": [
      "\n",
      "Processed /Users/ischluesche/Documents/Grad_School/Research/Ronin/NOAA/TRAINING//cfrad.20220907_131255.695_to_20220907_131259.669_N42RF-TS_AIR.nc in 0.5354769229888916 seconds"
     ]
    },
    {
     "name": "stdout",
     "output_type": "stream",
     "text": [
      "\n",
      "Processed /Users/ischluesche/Documents/Grad_School/Research/Ronin/NOAA/TRAINING//cfrad.20220907_131307.288_to_20220907_131311.268_N42RF-TM_AIR.nc in 0.763552188873291 seconds"
     ]
    },
    {
     "name": "stdout",
     "output_type": "stream",
     "text": [
      "\n",
      "Processed /Users/ischluesche/Documents/Grad_School/Research/Ronin/NOAA/TRAINING//cfrad.20220907_131308.333_to_20220907_131312.307_N42RF-TS_AIR.nc in 1.1262238025665283 seconds"
     ]
    },
    {
     "name": "stdout",
     "output_type": "stream",
     "text": [
      "\n",
      "Processed /Users/ischluesche/Documents/Grad_School/Research/Ronin/NOAA/TRAINING//cfrad.20220907_131319.932_to_20220907_131323.906_N42RF-TM_AIR.nc in 0.5411770343780518 seconds"
     ]
    },
    {
     "name": "stdout",
     "output_type": "stream",
     "text": [
      "\n",
      "Processed /Users/ischluesche/Documents/Grad_School/Research/Ronin/NOAA/TRAINING//cfrad.20220907_131320.971_to_20220907_131324.945_N42RF-TS_AIR.nc in 0.6357638835906982 seconds"
     ]
    },
    {
     "name": "stdout",
     "output_type": "stream",
     "text": [
      "\n",
      "Processed /Users/ischluesche/Documents/Grad_School/Research/Ronin/NOAA/TRAINING//cfrad.20220907_131332.576_to_20220907_131336.550_N42RF-TM_AIR.nc in 1.0620789527893066 seconds"
     ]
    },
    {
     "name": "stdout",
     "output_type": "stream",
     "text": [
      "\n",
      "Processed /Users/ischluesche/Documents/Grad_School/Research/Ronin/NOAA/TRAINING//cfrad.20220907_131333.610_to_20220907_131337.578_N42RF-TS_AIR.nc in 0.6548271179199219 seconds"
     ]
    },
    {
     "name": "stdout",
     "output_type": "stream",
     "text": [
      "\n",
      "Processed /Users/ischluesche/Documents/Grad_School/Research/Ronin/NOAA/TRAINING//cfrad.20220907_131345.215_to_20220907_131349.189_N42RF-TM_AIR.nc in 0.6404979228973389 seconds"
     ]
    },
    {
     "name": "stdout",
     "output_type": "stream",
     "text": [
      "\n",
      "Processed /Users/ischluesche/Documents/Grad_School/Research/Ronin/NOAA/TRAINING//cfrad.20220907_131346.282_to_20220907_131350.262_N42RF-TS_AIR.nc in 1.009221076965332 seconds"
     ]
    },
    {
     "name": "stdout",
     "output_type": "stream",
     "text": [
      "\n",
      "Processed /Users/ischluesche/Documents/Grad_School/Research/Ronin/NOAA/TRAINING//cfrad.20220907_131357.859_to_20220907_131401.833_N42RF-TM_AIR.nc in 0.5148980617523193 seconds"
     ]
    },
    {
     "name": "stdout",
     "output_type": "stream",
     "text": [
      "\n",
      "Processed /Users/ischluesche/Documents/Grad_School/Research/Ronin/NOAA/TRAINING//cfrad.20220907_131358.932_to_20220907_131402.906_N42RF-TS_AIR.nc in 0.7333128452301025 seconds"
     ]
    },
    {
     "name": "stdout",
     "output_type": "stream",
     "text": [
      "\n",
      "Processed /Users/ischluesche/Documents/Grad_School/Research/Ronin/NOAA/TRAINING//cfrad.20220907_131410.497_to_20220907_131414.471_N42RF-TM_AIR.nc in 1.0464110374450684 seconds"
     ]
    },
    {
     "name": "stdout",
     "output_type": "stream",
     "text": [
      "\n",
      "Processed /Users/ischluesche/Documents/Grad_School/Research/Ronin/NOAA/TRAINING//cfrad.20220907_131411.570_to_20220907_131415.550_N42RF-TS_AIR.nc in 0.5945529937744141 seconds"
     ]
    },
    {
     "name": "stdout",
     "output_type": "stream",
     "text": [
      "\n",
      "Processed /Users/ischluesche/Documents/Grad_School/Research/Ronin/NOAA/TRAINING//cfrad.20220907_131423.135_to_20220907_131427.109_N42RF-TM_AIR.nc in 0.7057719230651855 seconds"
     ]
    },
    {
     "name": "stdout",
     "output_type": "stream",
     "text": [
      "\n",
      "Processed /Users/ischluesche/Documents/Grad_School/Research/Ronin/NOAA/TRAINING//cfrad.20220907_131424.209_to_20220907_131428.183_N42RF-TS_AIR.nc in 1.2722280025482178 seconds"
     ]
    },
    {
     "name": "stdout",
     "output_type": "stream",
     "text": [
      "\n",
      "Processed /Users/ischluesche/Documents/Grad_School/Research/Ronin/NOAA/TRAINING//cfrad.20220907_131435.773_to_20220907_131439.747_N42RF-TM_AIR.nc in 0.6025741100311279 seconds"
     ]
    },
    {
     "name": "stdout",
     "output_type": "stream",
     "text": [
      "\n",
      "Processed /Users/ischluesche/Documents/Grad_School/Research/Ronin/NOAA/TRAINING//cfrad.20220907_131436.858_to_20220907_131440.832_N42RF-TS_AIR.nc in 1.0665500164031982 seconds"
     ]
    },
    {
     "name": "stdout",
     "output_type": "stream",
     "text": [
      "\n",
      "Processed /Users/ischluesche/Documents/Grad_School/Research/Ronin/NOAA/TRAINING//cfrad.20220907_131448.412_to_20220907_131452.386_N42RF-TM_AIR.nc in 1.2030909061431885 seconds"
     ]
    },
    {
     "name": "stdout",
     "output_type": "stream",
     "text": [
      "\n",
      "Processed /Users/ischluesche/Documents/Grad_School/Research/Ronin/NOAA/TRAINING//cfrad.20220907_131449.497_to_20220907_131453.471_N42RF-TS_AIR.nc in 0.5988779067993164 seconds"
     ]
    },
    {
     "name": "stdout",
     "output_type": "stream",
     "text": [
      "\n",
      "Processed /Users/ischluesche/Documents/Grad_School/Research/Ronin/NOAA/TRAINING//cfrad.20220907_131501.050_to_20220907_131505.024_N42RF-TM_AIR.nc in 0.6891911029815674 seconds"
     ]
    },
    {
     "name": "stdout",
     "output_type": "stream",
     "text": [
      "\n",
      "Processed /Users/ischluesche/Documents/Grad_School/Research/Ronin/NOAA/TRAINING//cfrad.20220907_131513.688_to_20220907_131517.668_N42RF-TM_AIR.nc in 1.1548271179199219 seconds"
     ]
    },
    {
     "name": "stdout",
     "output_type": "stream",
     "text": [
      "\n",
      "Processed /Users/ischluesche/Documents/Grad_School/Research/Ronin/NOAA/TRAINING//cfrad.20220907_131514.779_to_20220907_131518.753_N42RF-TS_AIR.nc in 0.5642800331115723 seconds"
     ]
    },
    {
     "name": "stdout",
     "output_type": "stream",
     "text": [
      "\n",
      "Processed /Users/ischluesche/Documents/Grad_School/Research/Ronin/NOAA/TRAINING//cfrad.20220907_131526.326_to_20220907_131530.306_N42RF-TM_AIR.nc in 0.8312380313873291 seconds"
     ]
    },
    {
     "name": "stdout",
     "output_type": "stream",
     "text": [
      "\n",
      "Processed /Users/ischluesche/Documents/Grad_School/Research/Ronin/NOAA/TRAINING//cfrad.20220907_131527.411_to_20220907_131531.391_N42RF-TS_AIR.nc in 1.2065808773040771 seconds"
     ]
    },
    {
     "name": "stdout",
     "output_type": "stream",
     "text": [
      "\n",
      "Processed /Users/ischluesche/Documents/Grad_School/Research/Ronin/NOAA/TRAINING//cfrad.20220907_131538.964_to_20220907_131542.938_N42RF-TM_AIR.nc in 0.7373001575469971 seconds"
     ]
    },
    {
     "name": "stdout",
     "output_type": "stream",
     "text": [
      "\n",
      "Processed /Users/ischluesche/Documents/Grad_School/Research/Ronin/NOAA/TRAINING//cfrad.20220907_131540.044_to_20220907_131544.018_N42RF-TS_AIR.nc in 0.9546151161193848 seconds"
     ]
    },
    {
     "name": "stdout",
     "output_type": "stream",
     "text": [
      "\n",
      "Processed /Users/ischluesche/Documents/Grad_School/Research/Ronin/NOAA/TRAINING//cfrad.20220907_131551.603_to_20220907_131555.582_N42RF-TM_AIR.nc in 1.0880050659179688 seconds"
     ]
    },
    {
     "name": "stdout",
     "output_type": "stream",
     "text": [
      "\n",
      "Processed /Users/ischluesche/Documents/Grad_School/Research/Ronin/NOAA/TRAINING//cfrad.20220907_131552.676_to_20220907_131556.656_N42RF-TS_AIR.nc in 0.5635960102081299 seconds"
     ]
    },
    {
     "name": "stdout",
     "output_type": "stream",
     "text": [
      "\n",
      "Processed /Users/ischluesche/Documents/Grad_School/Research/Ronin/NOAA/TRAINING//cfrad.20220907_131604.241_to_20220907_131608.221_N42RF-TM_AIR.nc in 0.8138420581817627 seconds"
     ]
    },
    {
     "name": "stdout",
     "output_type": "stream",
     "text": [
      "\n",
      "Processed /Users/ischluesche/Documents/Grad_School/Research/Ronin/NOAA/TRAINING//cfrad.20220907_131605.314_to_20220907_131609.294_N42RF-TS_AIR.nc in 1.016530990600586 seconds"
     ]
    },
    {
     "name": "stdout",
     "output_type": "stream",
     "text": [
      "\n",
      "Processed /Users/ischluesche/Documents/Grad_School/Research/Ronin/NOAA/TRAINING//cfrad.20220907_131616.879_to_20220907_131620.859_N42RF-TM_AIR.nc in 0.5013618469238281 seconds"
     ]
    },
    {
     "name": "stdout",
     "output_type": "stream",
     "text": [
      "\n",
      "Processed /Users/ischluesche/Documents/Grad_School/Research/Ronin/NOAA/TRAINING//cfrad.20220907_131617.958_to_20220907_131621.938_N42RF-TS_AIR.nc in 0.5612869262695312 seconds"
     ]
    },
    {
     "name": "stdout",
     "output_type": "stream",
     "text": [
      "\n",
      "Processed /Users/ischluesche/Documents/Grad_School/Research/Ronin/NOAA/TRAINING//cfrad.20220907_131629.517_to_20220907_131633.497_N42RF-TM_AIR.nc in 1.3786051273345947 seconds"
     ]
    },
    {
     "name": "stdout",
     "output_type": "stream",
     "text": [
      "\n",
      "Processed /Users/ischluesche/Documents/Grad_School/Research/Ronin/NOAA/TRAINING//cfrad.20220907_131630.597_to_20220907_131634.576_N42RF-TS_AIR.nc in 0.6984949111938477 seconds"
     ]
    },
    {
     "name": "stdout",
     "output_type": "stream",
     "text": [
      "\n",
      "Processed /Users/ischluesche/Documents/Grad_School/Research/Ronin/NOAA/TRAINING//cfrad.20220907_131642.161_to_20220907_131646.135_N42RF-TM_AIR.nc in 0.7395920753479004 seconds"
     ]
    },
    {
     "name": "stdout",
     "output_type": "stream",
     "text": [
      "\n",
      "Processed /Users/ischluesche/Documents/Grad_School/Research/Ronin/NOAA/TRAINING//cfrad.20220907_131643.246_to_20220907_131647.220_N42RF-TS_AIR.nc in 1.1235902309417725 seconds"
     ]
    },
    {
     "name": "stdout",
     "output_type": "stream",
     "text": [
      "\n",
      "Processed /Users/ischluesche/Documents/Grad_School/Research/Ronin/NOAA/TRAINING//cfrad.20220907_131654.805_to_20220907_131658.785_N42RF-TM_AIR.nc in 0.552541971206665 seconds"
     ]
    },
    {
     "name": "stdout",
     "output_type": "stream",
     "text": [
      "\n",
      "Processed /Users/ischluesche/Documents/Grad_School/Research/Ronin/NOAA/TRAINING//cfrad.20220907_131655.885_to_20220907_131659.859_N42RF-TS_AIR.nc in 1.1031320095062256 seconds"
     ]
    },
    {
     "name": "stdout",
     "output_type": "stream",
     "text": [
      "\n",
      "Processed /Users/ischluesche/Documents/Grad_School/Research/Ronin/NOAA/TRAINING//cfrad.20220907_131707.449_to_20220907_131711.423_N42RF-TM_AIR.nc in 1.1069188117980957 seconds"
     ]
    },
    {
     "name": "stdout",
     "output_type": "stream",
     "text": [
      "\n",
      "Processed /Users/ischluesche/Documents/Grad_School/Research/Ronin/NOAA/TRAINING//cfrad.20220907_131708.523_to_20220907_131712.497_N42RF-TS_AIR.nc in 0.5914270877838135 seconds"
     ]
    },
    {
     "name": "stdout",
     "output_type": "stream",
     "text": [
      "\n",
      "Processed /Users/ischluesche/Documents/Grad_School/Research/Ronin/NOAA/TRAINING//cfrad.20220907_131721.161_to_20220907_131725.135_N42RF-TS_AIR.nc in 0.6862599849700928 seconds"
     ]
    },
    {
     "name": "stdout",
     "output_type": "stream",
     "text": [
      "\n",
      "Processed /Users/ischluesche/Documents/Grad_School/Research/Ronin/NOAA/TRAINING//cfrad.20220907_131732.731_to_20220907_131736.711_N42RF-TM_AIR.nc in 1.4470410346984863 seconds"
     ]
    },
    {
     "name": "stdout",
     "output_type": "stream",
     "text": [
      "\n",
      "Processed /Users/ischluesche/Documents/Grad_School/Research/Ronin/NOAA/TRAINING//cfrad.20220907_131733.799_to_20220907_131737.779_N42RF-TS_AIR.nc in 0.5425610542297363 seconds"
     ]
    },
    {
     "name": "stdout",
     "output_type": "stream",
     "text": [
      "\n",
      "Processed /Users/ischluesche/Documents/Grad_School/Research/Ronin/NOAA/TRAINING//cfrad.20220907_131745.375_to_20220907_131749.349_N42RF-TM_AIR.nc in 0.6652710437774658 seconds"
     ]
    },
    {
     "name": "stdout",
     "output_type": "stream",
     "text": [
      "\n",
      "Processed /Users/ischluesche/Documents/Grad_School/Research/Ronin/NOAA/TRAINING//cfrad.20220907_131746.437_to_20220907_131750.411_N42RF-TS_AIR.nc in 1.2053570747375488 seconds"
     ]
    },
    {
     "name": "stdout",
     "output_type": "stream",
     "text": [
      "\n",
      "Processed /Users/ischluesche/Documents/Grad_School/Research/Ronin/NOAA/TRAINING//cfrad.20220907_131758.014_to_20220907_131801.988_N42RF-TM_AIR.nc in 0.5718019008636475 seconds"
     ]
    },
    {
     "name": "stdout",
     "output_type": "stream",
     "text": [
      "\n",
      "Processed /Users/ischluesche/Documents/Grad_School/Research/Ronin/NOAA/TRAINING//cfrad.20220907_131759.076_to_20220907_131803.055_N42RF-TS_AIR.nc in 1.1209001541137695 seconds"
     ]
    },
    {
     "name": "stdout",
     "output_type": "stream",
     "text": [
      "\n",
      "Processed /Users/ischluesche/Documents/Grad_School/Research/Ronin/NOAA/TRAINING//cfrad.20220907_131810.652_to_20220907_131814.632_N42RF-TM_AIR.nc in 1.3333559036254883 seconds"
     ]
    },
    {
     "name": "stdout",
     "output_type": "stream",
     "text": [
      "\n",
      "Processed /Users/ischluesche/Documents/Grad_School/Research/Ronin/NOAA/TRAINING//cfrad.20220907_131811.720_to_20220907_131815.694_N42RF-TS_AIR.nc in 0.8767499923706055 seconds"
     ]
    },
    {
     "name": "stdout",
     "output_type": "stream",
     "text": [
      "\n",
      "Processed /Users/ischluesche/Documents/Grad_School/Research/Ronin/NOAA/TRAINING//cfrad.20220907_131823.302_to_20220907_131827.281_N42RF-TM_AIR.nc in 0.7167849540710449 seconds"
     ]
    },
    {
     "name": "stdout",
     "output_type": "stream",
     "text": [
      "\n",
      "Processed /Users/ischluesche/Documents/Grad_School/Research/Ronin/NOAA/TRAINING//cfrad.20220907_131824.352_to_20220907_131828.326_N42RF-TS_AIR.nc in 1.0415091514587402 seconds"
     ]
    },
    {
     "name": "stdout",
     "output_type": "stream",
     "text": [
      "\n",
      "Processed /Users/ischluesche/Documents/Grad_School/Research/Ronin/NOAA/TRAINING//cfrad.20220907_131835.940_to_20220907_131839.914_N42RF-TM_AIR.nc in 0.5576059818267822 seconds"
     ]
    },
    {
     "name": "stdout",
     "output_type": "stream",
     "text": [
      "\n",
      "Processed /Users/ischluesche/Documents/Grad_School/Research/Ronin/NOAA/TRAINING//cfrad.20220907_131836.990_to_20220907_131840.970_N42RF-TS_AIR.nc in 0.6355550289154053 seconds"
     ]
    },
    {
     "name": "stdout",
     "output_type": "stream",
     "text": [
      "\n",
      "Processed /Users/ischluesche/Documents/Grad_School/Research/Ronin/NOAA/TRAINING//cfrad.20220907_131848.578_to_20220907_131852.552_N42RF-TM_AIR.nc in 1.1247050762176514 seconds"
     ]
    },
    {
     "name": "stdout",
     "output_type": "stream",
     "text": [
      "\n",
      "Processed /Users/ischluesche/Documents/Grad_School/Research/Ronin/NOAA/TRAINING//cfrad.20220907_131849.634_to_20220907_131853.614_N42RF-TS_AIR.nc in 0.5717730522155762 seconds"
     ]
    },
    {
     "name": "stdout",
     "output_type": "stream",
     "text": [
      "\n",
      "Processed /Users/ischluesche/Documents/Grad_School/Research/Ronin/NOAA/TRAINING//cfrad.20220907_131901.216_to_20220907_131905.196_N42RF-TM_AIR.nc in 0.6820199489593506 seconds"
     ]
    },
    {
     "name": "stdout",
     "output_type": "stream",
     "text": [
      "\n",
      "Processed /Users/ischluesche/Documents/Grad_School/Research/Ronin/NOAA/TRAINING//cfrad.20220907_131902.284_to_20220907_131906.258_N42RF-TS_AIR.nc in 1.6223559379577637 seconds"
     ]
    },
    {
     "name": "stdout",
     "output_type": "stream",
     "text": [
      "\n",
      "Processed /Users/ischluesche/Documents/Grad_School/Research/Ronin/NOAA/TRAINING//cfrad.20220907_131913.860_to_20220907_131917.834_N42RF-TM_AIR.nc in 0.5394749641418457 seconds"
     ]
    },
    {
     "name": "stdout",
     "output_type": "stream",
     "text": [
      "\n",
      "Processed /Users/ischluesche/Documents/Grad_School/Research/Ronin/NOAA/TRAINING//cfrad.20220907_131914.922_to_20220907_131918.896_N42RF-TS_AIR.nc in 1.0404069423675537 seconds"
     ]
    },
    {
     "name": "stdout",
     "output_type": "stream",
     "text": [
      "\n",
      "Processed /Users/ischluesche/Documents/Grad_School/Research/Ronin/NOAA/TRAINING//cfrad.20220907_131926.493_to_20220907_131930.472_N42RF-TM_AIR.nc in 1.1095330715179443 seconds"
     ]
    },
    {
     "name": "stdout",
     "output_type": "stream",
     "text": [
      "\n",
      "Processed /Users/ischluesche/Documents/Grad_School/Research/Ronin/NOAA/TRAINING//cfrad.20220907_131927.560_to_20220907_131931.534_N42RF-TS_AIR.nc in 0.6520581245422363 seconds"
     ]
    },
    {
     "name": "stdout",
     "output_type": "stream",
     "text": [
      "\n",
      "Processed /Users/ischluesche/Documents/Grad_School/Research/Ronin/NOAA/TRAINING//cfrad.20220907_131940.199_to_20220907_131944.173_N42RF-TS_AIR.nc in 0.9056620597839355 seconds"
     ]
    },
    {
     "name": "stdout",
     "output_type": "stream",
     "text": [
      "\n",
      "Processed /Users/ischluesche/Documents/Grad_School/Research/Ronin/NOAA/TRAINING//cfrad.20220907_131951.769_to_20220907_131955.749_N42RF-TM_AIR.nc in 1.1329998970031738 seconds"
     ]
    },
    {
     "name": "stdout",
     "output_type": "stream",
     "text": [
      "\n",
      "Processed /Users/ischluesche/Documents/Grad_School/Research/Ronin/NOAA/TRAINING//cfrad.20220907_131952.837_to_20220907_131956.811_N42RF-TS_AIR.nc in 0.5270969867706299 seconds"
     ]
    },
    {
     "name": "stdout",
     "output_type": "stream",
     "text": [
      "\n",
      "Processed /Users/ischluesche/Documents/Grad_School/Research/Ronin/NOAA/TRAINING//cfrad.20220907_132004.407_to_20220907_132008.387_N42RF-TM_AIR.nc in 1.1961538791656494 seconds"
     ]
    },
    {
     "name": "stdout",
     "output_type": "stream",
     "text": [
      "\n",
      "Processed /Users/ischluesche/Documents/Grad_School/Research/Ronin/NOAA/TRAINING//cfrad.20220907_132018.113_to_20220907_132022.087_N42RF-TS_AIR.nc in 1.2762291431427002 seconds"
     ]
    },
    {
     "name": "stdout",
     "output_type": "stream",
     "text": [
      "\n",
      "Processed /Users/ischluesche/Documents/Grad_School/Research/Ronin/NOAA/TRAINING//cfrad.20220907_132029.690_to_20220907_132033.664_N42RF-TM_AIR.nc in 0.5106699466705322 seconds"
     ]
    },
    {
     "name": "stdout",
     "output_type": "stream",
     "text": [
      "\n",
      "Processed /Users/ischluesche/Documents/Grad_School/Research/Ronin/NOAA/TRAINING//cfrad.20220907_132030.752_to_20220907_132034.726_N42RF-TS_AIR.nc in 0.8606500625610352 seconds"
     ]
    },
    {
     "name": "stdout",
     "output_type": "stream",
     "text": [
      "\n",
      "Processed /Users/ischluesche/Documents/Grad_School/Research/Ronin/NOAA/TRAINING//cfrad.20220907_132042.328_to_20220907_132046.302_N42RF-TM_AIR.nc in 1.1970300674438477 seconds"
     ]
    },
    {
     "name": "stdout",
     "output_type": "stream",
     "text": [
      "\n",
      "Processed /Users/ischluesche/Documents/Grad_School/Research/Ronin/NOAA/TRAINING//cfrad.20220907_132043.390_to_20220907_132047.364_N42RF-TS_AIR.nc in 0.5843160152435303 seconds"
     ]
    },
    {
     "name": "stdout",
     "output_type": "stream",
     "text": [
      "\n",
      "Processed /Users/ischluesche/Documents/Grad_School/Research/Ronin/NOAA/TRAINING//cfrad.20220907_132054.966_to_20220907_132058.940_N42RF-TM_AIR.nc in 0.7026851177215576 seconds"
     ]
    },
    {
     "name": "stdout",
     "output_type": "stream",
     "text": [
      "\n",
      "Processed /Users/ischluesche/Documents/Grad_School/Research/Ronin/NOAA/TRAINING//cfrad.20220907_132056.074_to_20220907_132100.048_N42RF-TS_AIR.nc in 1.132694959640503 seconds"
     ]
    },
    {
     "name": "stdout",
     "output_type": "stream",
     "text": [
      "\n",
      "Processed /Users/ischluesche/Documents/Grad_School/Research/Ronin/NOAA/TRAINING//cfrad.20220907_132107.604_to_20220907_132111.584_N42RF-TM_AIR.nc in 0.48705506324768066 seconds"
     ]
    },
    {
     "name": "stdout",
     "output_type": "stream",
     "text": [
      "\n",
      "Processed /Users/ischluesche/Documents/Grad_School/Research/Ronin/NOAA/TRAINING//cfrad.20220907_132108.712_to_20220907_132112.686_N42RF-TS_AIR.nc in 0.5991132259368896 seconds"
     ]
    },
    {
     "name": "stdout",
     "output_type": "stream",
     "text": [
      "\n",
      "Processed /Users/ischluesche/Documents/Grad_School/Research/Ronin/NOAA/TRAINING//cfrad.20220907_132120.254_to_20220907_132124.228_N42RF-TM_AIR.nc in 1.244875192642212 seconds"
     ]
    },
    {
     "name": "stdout",
     "output_type": "stream",
     "text": [
      "\n",
      "Processed /Users/ischluesche/Documents/Grad_School/Research/Ronin/NOAA/TRAINING//cfrad.20220907_132121.351_to_20220907_132125.330_N42RF-TS_AIR.nc in 0.5330638885498047 seconds"
     ]
    },
    {
     "name": "stdout",
     "output_type": "stream",
     "text": [
      "\n",
      "Processed /Users/ischluesche/Documents/Grad_School/Research/Ronin/NOAA/TRAINING//cfrad.20220907_132132.892_to_20220907_132136.866_N42RF-TM_AIR.nc in 0.7739880084991455 seconds"
     ]
    },
    {
     "name": "stdout",
     "output_type": "stream",
     "text": [
      "\n",
      "Processed /Users/ischluesche/Documents/Grad_School/Research/Ronin/NOAA/TRAINING//cfrad.20220907_132133.989_to_20220907_132137.969_N42RF-TS_AIR.nc in 1.5383880138397217 seconds"
     ]
    },
    {
     "name": "stdout",
     "output_type": "stream",
     "text": [
      "\n",
      "Processed /Users/ischluesche/Documents/Grad_School/Research/Ronin/NOAA/TRAINING//cfrad.20220907_132145.530_to_20220907_132149.510_N42RF-TM_AIR.nc in 0.6323580741882324 seconds"
     ]
    },
    {
     "name": "stdout",
     "output_type": "stream",
     "text": [
      "\n",
      "Processed /Users/ischluesche/Documents/Grad_School/Research/Ronin/NOAA/TRAINING//cfrad.20220907_132158.169_to_20220907_132202.143_N42RF-TM_AIR.nc in 1.0235061645507812 seconds"
     ]
    },
    {
     "name": "stdout",
     "output_type": "stream",
     "text": [
      "\n",
      "Processed /Users/ischluesche/Documents/Grad_School/Research/Ronin/NOAA/TRAINING//cfrad.20220907_132159.271_to_20220907_132203.257_N42RF-TS_AIR.nc in 1.3128020763397217 seconds"
     ]
    },
    {
     "name": "stdout",
     "output_type": "stream",
     "text": [
      "\n",
      "Processed /Users/ischluesche/Documents/Grad_School/Research/Ronin/NOAA/TRAINING//cfrad.20220907_132210.899_to_20220907_132214.873_N42RF-TM_AIR.nc in 0.5676429271697998 seconds"
     ]
    },
    {
     "name": "stdout",
     "output_type": "stream",
     "text": [
      "\n",
      "Processed /Users/ischluesche/Documents/Grad_School/Research/Ronin/NOAA/TRAINING//cfrad.20220907_132211.915_to_20220907_132215.889_N42RF-TS_AIR.nc in 0.6295430660247803 seconds"
     ]
    },
    {
     "name": "stdout",
     "output_type": "stream",
     "text": [
      "\n",
      "Processed /Users/ischluesche/Documents/Grad_School/Research/Ronin/NOAA/TRAINING//cfrad.20220907_132223.537_to_20220907_132227.511_N42RF-TM_AIR.nc in 1.1190199851989746 seconds"
     ]
    },
    {
     "name": "stdout",
     "output_type": "stream",
     "text": [
      "\n",
      "Processed /Users/ischluesche/Documents/Grad_School/Research/Ronin/NOAA/TRAINING//cfrad.20220907_132224.553_to_20220907_132228.533_N42RF-TS_AIR.nc in 0.552929162979126 seconds"
     ]
    },
    {
     "name": "stdout",
     "output_type": "stream",
     "text": [
      "\n",
      "Processed /Users/ischluesche/Documents/Grad_School/Research/Ronin/NOAA/TRAINING//cfrad.20220907_132236.170_to_20220907_132240.150_N42RF-TM_AIR.nc in 0.9172561168670654 seconds"
     ]
    },
    {
     "name": "stdout",
     "output_type": "stream",
     "text": [
      "\n",
      "Processed /Users/ischluesche/Documents/Grad_School/Research/Ronin/NOAA/TRAINING//cfrad.20220907_132237.197_to_20220907_132241.171_N42RF-TS_AIR.nc in 0.4941089153289795 seconds"
     ]
    },
    {
     "name": "stdout",
     "output_type": "stream",
     "text": [
      "\n",
      "Processed /Users/ischluesche/Documents/Grad_School/Research/Ronin/NOAA/TRAINING//cfrad.20220907_132248.814_to_20220907_132252.794_N42RF-TM_AIR.nc in 1.0447139739990234 seconds"
     ]
    },
    {
     "name": "stdout",
     "output_type": "stream",
     "text": [
      "\n",
      "Processed /Users/ischluesche/Documents/Grad_School/Research/Ronin/NOAA/TRAINING//cfrad.20220907_132249.835_to_20220907_132253.809_N42RF-TS_AIR.nc in 0.6086869239807129 seconds"
     ]
    },
    {
     "name": "stdout",
     "output_type": "stream",
     "text": [
      "\n",
      "Processed /Users/ischluesche/Documents/Grad_School/Research/Ronin/NOAA/TRAINING//cfrad.20220918_123210.009_to_20220918_123213.983_N42RF-TM_AIR.nc in 1.0244240760803223 seconds"
     ]
    },
    {
     "name": "stdout",
     "output_type": "stream",
     "text": [
      "\n",
      "Processed /Users/ischluesche/Documents/Grad_School/Research/Ronin/NOAA/TRAINING//cfrad.20220918_123211.867_to_20220918_123215.847_N42RF-TS_AIR.nc in 0.5503790378570557 seconds"
     ]
    },
    {
     "name": "stdout",
     "output_type": "stream",
     "text": [
      "\n",
      "Processed /Users/ischluesche/Documents/Grad_School/Research/Ronin/NOAA/TRAINING//cfrad.20220918_123222.647_to_20220918_123226.621_N42RF-TM_AIR.nc in 1.2726109027862549 seconds"
     ]
    },
    {
     "name": "stdout",
     "output_type": "stream",
     "text": [
      "\n",
      "Processed /Users/ischluesche/Documents/Grad_School/Research/Ronin/NOAA/TRAINING//cfrad.20220918_123224.505_to_20220918_123228.485_N42RF-TS_AIR.nc in 0.6109640598297119 seconds"
     ]
    },
    {
     "name": "stdout",
     "output_type": "stream",
     "text": [
      "\n",
      "Processed /Users/ischluesche/Documents/Grad_School/Research/Ronin/NOAA/TRAINING//cfrad.20220918_123235.285_to_20220918_123239.259_N42RF-TM_AIR.nc in 1.0135929584503174 seconds"
     ]
    },
    {
     "name": "stdout",
     "output_type": "stream",
     "text": [
      "\n",
      "Processed /Users/ischluesche/Documents/Grad_School/Research/Ronin/NOAA/TRAINING//cfrad.20220918_123237.143_to_20220918_123241.123_N42RF-TS_AIR.nc in 0.6001541614532471 seconds"
     ]
    },
    {
     "name": "stdout",
     "output_type": "stream",
     "text": [
      "\n",
      "Processed /Users/ischluesche/Documents/Grad_School/Research/Ronin/NOAA/TRAINING//cfrad.20220918_123247.923_to_20220918_123251.897_N42RF-TM_AIR.nc in 0.9809789657592773 seconds"
     ]
    },
    {
     "name": "stdout",
     "output_type": "stream",
     "text": [
      "\n",
      "Processed /Users/ischluesche/Documents/Grad_School/Research/Ronin/NOAA/TRAINING//cfrad.20220918_123249.787_to_20220918_123253.761_N42RF-TS_AIR.nc in 0.6615900993347168 seconds"
     ]
    },
    {
     "name": "stdout",
     "output_type": "stream",
     "text": [
      "\n",
      "Processed /Users/ischluesche/Documents/Grad_School/Research/Ronin/NOAA/TRAINING//cfrad.20220918_123302.425_to_20220918_123306.399_N42RF-TS_AIR.nc in 1.7826130390167236 seconds"
     ]
    },
    {
     "name": "stdout",
     "output_type": "stream",
     "text": [
      "\n",
      "Processed /Users/ischluesche/Documents/Grad_School/Research/Ronin/NOAA/TRAINING//cfrad.20220918_123313.200_to_20220918_123317.180_N42RF-TM_AIR.nc in 0.5975480079650879 seconds"
     ]
    },
    {
     "name": "stdout",
     "output_type": "stream",
     "text": [
      "\n",
      "Processed /Users/ischluesche/Documents/Grad_School/Research/Ronin/NOAA/TRAINING//cfrad.20220918_123325.838_to_20220918_123329.818_N42RF-TM_AIR.nc in 1.0300219058990479 seconds"
     ]
    },
    {
     "name": "stdout",
     "output_type": "stream",
     "text": [
      "\n",
      "Processed /Users/ischluesche/Documents/Grad_School/Research/Ronin/NOAA/TRAINING//cfrad.20220918_123327.702_to_20220918_123331.676_N42RF-TS_AIR.nc in 0.7319929599761963 seconds"
     ]
    },
    {
     "name": "stdout",
     "output_type": "stream",
     "text": [
      "\n",
      "Processed /Users/ischluesche/Documents/Grad_School/Research/Ronin/NOAA/TRAINING//cfrad.20220918_123338.476_to_20220918_123342.456_N42RF-TM_AIR.nc in 0.7877631187438965 seconds"
     ]
    },
    {
     "name": "stdout",
     "output_type": "stream",
     "text": [
      "\n",
      "Processed /Users/ischluesche/Documents/Grad_School/Research/Ronin/NOAA/TRAINING//cfrad.20220918_123340.340_to_20220918_123344.320_N42RF-TS_AIR.nc in 1.186112880706787 seconds"
     ]
    },
    {
     "name": "stdout",
     "output_type": "stream",
     "text": [
      "\n",
      "Processed /Users/ischluesche/Documents/Grad_School/Research/Ronin/NOAA/TRAINING//cfrad.20220918_123351.120_to_20220918_123355.100_N42RF-TM_AIR.nc in 0.8769659996032715 seconds"
     ]
    },
    {
     "name": "stdout",
     "output_type": "stream",
     "text": [
      "\n",
      "Processed /Users/ischluesche/Documents/Grad_School/Research/Ronin/NOAA/TRAINING//cfrad.20220918_123353.007_to_20220918_123356.975_N42RF-TS_AIR.nc in 1.1430351734161377 seconds"
     ]
    },
    {
     "name": "stdout",
     "output_type": "stream",
     "text": [
      "\n",
      "Processed /Users/ischluesche/Documents/Grad_School/Research/Ronin/NOAA/TRAINING//cfrad.20220918_123403.764_to_20220918_123407.738_N42RF-TM_AIR.nc in 0.9091432094573975 seconds"
     ]
    },
    {
     "name": "stdout",
     "output_type": "stream",
     "text": [
      "\n",
      "Processed /Users/ischluesche/Documents/Grad_School/Research/Ronin/NOAA/TRAINING//cfrad.20220918_123405.640_to_20220918_123409.614_N42RF-TS_AIR.nc in 1.2050719261169434 seconds"
     ]
    },
    {
     "name": "stdout",
     "output_type": "stream",
     "text": [
      "\n",
      "Processed /Users/ischluesche/Documents/Grad_School/Research/Ronin/NOAA/TRAINING//cfrad.20220918_123416.408_to_20220918_123420.382_N42RF-TM_AIR.nc in 1.2820570468902588 seconds"
     ]
    },
    {
     "name": "stdout",
     "output_type": "stream",
     "text": [
      "\n",
      "Processed /Users/ischluesche/Documents/Grad_School/Research/Ronin/NOAA/TRAINING//cfrad.20220918_123418.278_to_20220918_123422.258_N42RF-TS_AIR.nc in 0.9526309967041016 seconds"
     ]
    },
    {
     "name": "stdout",
     "output_type": "stream",
     "text": [
      "\n",
      "Processed /Users/ischluesche/Documents/Grad_School/Research/Ronin/NOAA/TRAINING//cfrad.20220918_123429.046_to_20220918_123433.020_N42RF-TM_AIR.nc in 1.0920019149780273 seconds"
     ]
    },
    {
     "name": "stdout",
     "output_type": "stream",
     "text": [
      "\n",
      "Processed /Users/ischluesche/Documents/Grad_School/Research/Ronin/NOAA/TRAINING//cfrad.20220918_123430.916_to_20220918_123434.890_N42RF-TS_AIR.nc in 1.0502221584320068 seconds"
     ]
    },
    {
     "name": "stdout",
     "output_type": "stream",
     "text": [
      "\n",
      "Processed /Users/ischluesche/Documents/Grad_School/Research/Ronin/NOAA/TRAINING//cfrad.20220918_123441.685_to_20220918_123445.659_N42RF-TM_AIR.nc in 0.8923320770263672 seconds"
     ]
    },
    {
     "name": "stdout",
     "output_type": "stream",
     "text": [
      "\n",
      "Processed /Users/ischluesche/Documents/Grad_School/Research/Ronin/NOAA/TRAINING//cfrad.20220918_123443.554_to_20220918_123447.528_N42RF-TS_AIR.nc in 1.1176140308380127 seconds"
     ]
    },
    {
     "name": "stdout",
     "output_type": "stream",
     "text": [
      "\n",
      "Processed /Users/ischluesche/Documents/Grad_School/Research/Ronin/NOAA/TRAINING//cfrad.20220918_123454.323_to_20220918_123458.297_N42RF-TM_AIR.nc in 1.0733988285064697 seconds"
     ]
    },
    {
     "name": "stdout",
     "output_type": "stream",
     "text": [
      "\n",
      "Processed /Users/ischluesche/Documents/Grad_School/Research/Ronin/NOAA/TRAINING//cfrad.20220918_123456.198_to_20220918_123500.172_N42RF-TS_AIR.nc in 1.2044270038604736 seconds"
     ]
    },
    {
     "name": "stdout",
     "output_type": "stream",
     "text": [
      "\n",
      "Processed /Users/ischluesche/Documents/Grad_School/Research/Ronin/NOAA/TRAINING//cfrad.20220918_123506.955_to_20220918_123510.935_N42RF-TM_AIR.nc in 0.9157760143280029 seconds"
     ]
    },
    {
     "name": "stdout",
     "output_type": "stream",
     "text": [
      "\n",
      "Processed /Users/ischluesche/Documents/Grad_School/Research/Ronin/NOAA/TRAINING//cfrad.20220918_123508.831_to_20220918_123512.810_N42RF-TS_AIR.nc in 1.0431180000305176 seconds"
     ]
    },
    {
     "name": "stdout",
     "output_type": "stream",
     "text": [
      "\n",
      "Processed /Users/ischluesche/Documents/Grad_School/Research/Ronin/NOAA/TRAINING//cfrad.20220918_123519.599_to_20220918_123523.573_N42RF-TM_AIR.nc in 0.9425849914550781 seconds"
     ]
    },
    {
     "name": "stdout",
     "output_type": "stream",
     "text": [
      "\n",
      "Processed /Users/ischluesche/Documents/Grad_School/Research/Ronin/NOAA/TRAINING//cfrad.20220918_123532.243_to_20220918_123536.223_N42RF-TM_AIR.nc in 1.0174109935760498 seconds"
     ]
    },
    {
     "name": "stdout",
     "output_type": "stream",
     "text": [
      "\n",
      "Processed /Users/ischluesche/Documents/Grad_School/Research/Ronin/NOAA/TRAINING//cfrad.20220918_123534.107_to_20220918_123538.087_N42RF-TS_AIR.nc in 1.175873041152954 seconds"
     ]
    },
    {
     "name": "stdout",
     "output_type": "stream",
     "text": [
      "\n",
      "Processed /Users/ischluesche/Documents/Grad_School/Research/Ronin/NOAA/TRAINING//cfrad.20220918_123544.887_to_20220918_123548.867_N42RF-TM_AIR.nc in 0.8874361515045166 seconds"
     ]
    },
    {
     "name": "stdout",
     "output_type": "stream",
     "text": [
      "\n",
      "Processed /Users/ischluesche/Documents/Grad_School/Research/Ronin/NOAA/TRAINING//cfrad.20220918_123546.751_to_20220918_123550.725_N42RF-TS_AIR.nc in 0.9449939727783203 seconds"
     ]
    },
    {
     "name": "stdout",
     "output_type": "stream",
     "text": [
      "\n",
      "Processed /Users/ischluesche/Documents/Grad_School/Research/Ronin/NOAA/TRAINING//cfrad.20220918_123557.537_to_20220918_123601.511_N42RF-TM_AIR.nc in 0.9187479019165039 seconds"
     ]
    },
    {
     "name": "stdout",
     "output_type": "stream",
     "text": [
      "\n",
      "Processed /Users/ischluesche/Documents/Grad_School/Research/Ronin/NOAA/TRAINING//cfrad.20220918_123559.464_to_20220918_123603.438_N42RF-TS_AIR.nc in 0.9415268898010254 seconds"
     ]
    },
    {
     "name": "stdout",
     "output_type": "stream",
     "text": [
      "\n",
      "Processed /Users/ischluesche/Documents/Grad_School/Research/Ronin/NOAA/TRAINING//cfrad.20220918_123610.164_to_20220918_123614.138_N42RF-TM_AIR.nc in 0.9740831851959229 seconds"
     ]
    },
    {
     "name": "stdout",
     "output_type": "stream",
     "text": [
      "\n",
      "Processed /Users/ischluesche/Documents/Grad_School/Research/Ronin/NOAA/TRAINING//cfrad.20220918_123612.103_to_20220918_123616.082_N42RF-TS_AIR.nc in 0.7718250751495361 seconds"
     ]
    },
    {
     "name": "stdout",
     "output_type": "stream",
     "text": [
      "\n",
      "Processed /Users/ischluesche/Documents/Grad_School/Research/Ronin/NOAA/TRAINING//cfrad.20220918_123622.802_to_20220918_123626.776_N42RF-TM_AIR.nc in 1.0615978240966797 seconds"
     ]
    },
    {
     "name": "stdout",
     "output_type": "stream",
     "text": [
      "\n",
      "Processed /Users/ischluesche/Documents/Grad_School/Research/Ronin/NOAA/TRAINING//cfrad.20220918_123624.741_to_20220918_123628.721_N42RF-TS_AIR.nc in 1.095088005065918 seconds"
     ]
    },
    {
     "name": "stdout",
     "output_type": "stream",
     "text": [
      "\n",
      "Processed /Users/ischluesche/Documents/Grad_School/Research/Ronin/NOAA/TRAINING//cfrad.20220918_123635.440_to_20220918_123639.414_N42RF-TM_AIR.nc in 0.7673549652099609 seconds"
     ]
    },
    {
     "name": "stdout",
     "output_type": "stream",
     "text": [
      "\n",
      "Processed /Users/ischluesche/Documents/Grad_School/Research/Ronin/NOAA/TRAINING//cfrad.20220918_123637.379_to_20220918_123641.359_N42RF-TS_AIR.nc in 0.9113998413085938 seconds"
     ]
    },
    {
     "name": "stdout",
     "output_type": "stream",
     "text": [
      "\n",
      "Processed /Users/ischluesche/Documents/Grad_School/Research/Ronin/NOAA/TRAINING//cfrad.20220918_123648.084_to_20220918_123652.058_N42RF-TM_AIR.nc in 0.7638249397277832 seconds"
     ]
    },
    {
     "name": "stdout",
     "output_type": "stream",
     "text": [
      "\n",
      "Processed /Users/ischluesche/Documents/Grad_School/Research/Ronin/NOAA/TRAINING//cfrad.20220918_123650.017_to_20220918_123653.997_N42RF-TS_AIR.nc in 1.1249151229858398 seconds"
     ]
    },
    {
     "name": "stdout",
     "output_type": "stream",
     "text": [
      "\n",
      "Processed /Users/ischluesche/Documents/Grad_School/Research/Ronin/NOAA/TRAINING//cfrad.20220918_123700.717_to_20220918_123704.696_N42RF-TM_AIR.nc in 0.845128059387207 seconds"
     ]
    },
    {
     "name": "stdout",
     "output_type": "stream",
     "text": [
      "\n",
      "Processed /Users/ischluesche/Documents/Grad_School/Research/Ronin/NOAA/TRAINING//cfrad.20220918_123702.655_to_20220918_123706.635_N42RF-TS_AIR.nc in 0.7667288780212402 seconds"
     ]
    },
    {
     "name": "stdout",
     "output_type": "stream",
     "text": [
      "\n",
      "Processed /Users/ischluesche/Documents/Grad_School/Research/Ronin/NOAA/TRAINING//cfrad.20220918_123713.366_to_20220918_123717.346_N42RF-TM_AIR.nc in 0.8324801921844482 seconds"
     ]
    },
    {
     "name": "stdout",
     "output_type": "stream",
     "text": [
      "\n",
      "Processed /Users/ischluesche/Documents/Grad_School/Research/Ronin/NOAA/TRAINING//cfrad.20220918_123715.294_to_20220918_123719.268_N42RF-TS_AIR.nc in 1.1259100437164307 seconds"
     ]
    },
    {
     "name": "stdout",
     "output_type": "stream",
     "text": [
      "\n",
      "Processed /Users/ischluesche/Documents/Grad_School/Research/Ronin/NOAA/TRAINING//cfrad.20220918_123726.005_to_20220918_123729.984_N42RF-TM_AIR.nc in 0.7186269760131836 seconds"
     ]
    },
    {
     "name": "stdout",
     "output_type": "stream",
     "text": [
      "\n",
      "Processed /Users/ischluesche/Documents/Grad_School/Research/Ronin/NOAA/TRAINING//cfrad.20220918_123727.938_to_20220918_123731.912_N42RF-TS_AIR.nc in 0.9120450019836426 seconds"
     ]
    },
    {
     "name": "stdout",
     "output_type": "stream",
     "text": [
      "\n",
      "Processed /Users/ischluesche/Documents/Grad_School/Research/Ronin/NOAA/TRAINING//cfrad.20220918_123738.643_to_20220918_123742.617_N42RF-TM_AIR.nc in 0.9763519763946533 seconds"
     ]
    },
    {
     "name": "stdout",
     "output_type": "stream",
     "text": [
      "\n",
      "Processed /Users/ischluesche/Documents/Grad_School/Research/Ronin/NOAA/TRAINING//cfrad.20220918_123751.264_to_20220918_123755.238_N42RF-TM_AIR.nc in 0.8998501300811768 seconds"
     ]
    },
    {
     "name": "stdout",
     "output_type": "stream",
     "text": [
      "\n",
      "Processed /Users/ischluesche/Documents/Grad_School/Research/Ronin/NOAA/TRAINING//cfrad.20220918_123753.226_to_20220918_123757.200_N42RF-TS_AIR.nc in 1.0120320320129395 seconds"
     ]
    },
    {
     "name": "stdout",
     "output_type": "stream",
     "text": [
      "\n",
      "Processed /Users/ischluesche/Documents/Grad_School/Research/Ronin/NOAA/TRAINING//cfrad.20220918_123803.902_to_20220918_123807.876_N42RF-TM_AIR.nc in 0.8742640018463135 seconds"
     ]
    },
    {
     "name": "stdout",
     "output_type": "stream",
     "text": [
      "\n",
      "Processed /Users/ischluesche/Documents/Grad_School/Research/Ronin/NOAA/TRAINING//cfrad.20220918_123805.864_to_20220918_123809.838_N42RF-TS_AIR.nc in 0.807995080947876 seconds"
     ]
    },
    {
     "name": "stdout",
     "output_type": "stream",
     "text": [
      "\n",
      "Processed /Users/ischluesche/Documents/Grad_School/Research/Ronin/NOAA/TRAINING//cfrad.20220918_123816.540_to_20220918_123820.514_N42RF-TM_AIR.nc in 0.9560081958770752 seconds"
     ]
    },
    {
     "name": "stdout",
     "output_type": "stream",
     "text": [
      "\n",
      "Processed /Users/ischluesche/Documents/Grad_School/Research/Ronin/NOAA/TRAINING//cfrad.20220918_123818.502_to_20220918_123822.476_N42RF-TS_AIR.nc in 0.7508091926574707 seconds"
     ]
    },
    {
     "name": "stdout",
     "output_type": "stream",
     "text": [
      "\n",
      "Processed /Users/ischluesche/Documents/Grad_School/Research/Ronin/NOAA/TRAINING//cfrad.20220918_123829.173_to_20220918_123833.152_N42RF-TM_AIR.nc in 0.9494888782501221 seconds"
     ]
    },
    {
     "name": "stdout",
     "output_type": "stream",
     "text": [
      "\n",
      "Processed /Users/ischluesche/Documents/Grad_School/Research/Ronin/NOAA/TRAINING//cfrad.20220918_123831.140_to_20220918_123835.114_N42RF-TS_AIR.nc in 0.813317060470581 seconds"
     ]
    },
    {
     "name": "stdout",
     "output_type": "stream",
     "text": [
      "\n",
      "Processed /Users/ischluesche/Documents/Grad_School/Research/Ronin/NOAA/TRAINING//cfrad.20220918_123841.817_to_20220918_123845.791_N42RF-TM_AIR.nc in 0.7745790481567383 seconds"
     ]
    },
    {
     "name": "stdout",
     "output_type": "stream",
     "text": [
      "\n",
      "Processed /Users/ischluesche/Documents/Grad_School/Research/Ronin/NOAA/TRAINING//cfrad.20220918_123843.779_to_20220918_123847.758_N42RF-TS_AIR.nc in 0.7377769947052002 seconds"
     ]
    },
    {
     "name": "stdout",
     "output_type": "stream",
     "text": [
      "\n",
      "Processed /Users/ischluesche/Documents/Grad_School/Research/Ronin/NOAA/TRAINING//cfrad.20220918_123854.455_to_20220918_123858.429_N42RF-TM_AIR.nc in 0.799036979675293 seconds"
     ]
    },
    {
     "name": "stdout",
     "output_type": "stream",
     "text": [
      "\n",
      "Processed /Users/ischluesche/Documents/Grad_School/Research/Ronin/NOAA/TRAINING//cfrad.20220918_123856.417_to_20220918_123900.396_N42RF-TS_AIR.nc in 0.7200231552124023 seconds"
     ]
    },
    {
     "name": "stdout",
     "output_type": "stream",
     "text": [
      "\n",
      "Processed /Users/ischluesche/Documents/Grad_School/Research/Ronin/NOAA/TRAINING//cfrad.20220918_123907.093_to_20220918_123911.067_N42RF-TM_AIR.nc in 0.7406680583953857 seconds"
     ]
    },
    {
     "name": "stdout",
     "output_type": "stream",
     "text": [
      "\n",
      "Processed /Users/ischluesche/Documents/Grad_School/Research/Ronin/NOAA/TRAINING//cfrad.20220918_123919.731_to_20220918_123923.711_N42RF-TM_AIR.nc in 0.7292971611022949 seconds"
     ]
    },
    {
     "name": "stdout",
     "output_type": "stream",
     "text": [
      "\n",
      "Processed /Users/ischluesche/Documents/Grad_School/Research/Ronin/NOAA/TRAINING//cfrad.20220918_123921.693_to_20220918_123925.673_N42RF-TS_AIR.nc in 0.7272942066192627 seconds"
     ]
    },
    {
     "name": "stdout",
     "output_type": "stream",
     "text": [
      "\n",
      "Processed /Users/ischluesche/Documents/Grad_School/Research/Ronin/NOAA/TRAINING//cfrad.20220918_123932.369_to_20220918_123936.349_N42RF-TM_AIR.nc in 0.8618690967559814 seconds"
     ]
    },
    {
     "name": "stdout",
     "output_type": "stream",
     "text": [
      "\n",
      "Processed /Users/ischluesche/Documents/Grad_School/Research/Ronin/NOAA/TRAINING//cfrad.20220918_123934.331_to_20220918_123938.305_N42RF-TS_AIR.nc in 0.7221829891204834 seconds"
     ]
    },
    {
     "name": "stdout",
     "output_type": "stream",
     "text": [
      "\n",
      "Processed /Users/ischluesche/Documents/Grad_School/Research/Ronin/NOAA/TRAINING//cfrad.20220918_123945.008_to_20220918_123948.987_N42RF-TM_AIR.nc in 0.7040591239929199 seconds"
     ]
    },
    {
     "name": "stdout",
     "output_type": "stream",
     "text": [
      "\n",
      "Processed /Users/ischluesche/Documents/Grad_School/Research/Ronin/NOAA/TRAINING//cfrad.20220918_123957.652_to_20220918_124001.626_N42RF-TM_AIR.nc in 0.8583920001983643 seconds"
     ]
    },
    {
     "name": "stdout",
     "output_type": "stream",
     "text": [
      "\n",
      "Processed /Users/ischluesche/Documents/Grad_School/Research/Ronin/NOAA/TRAINING//cfrad.20220918_123959.608_to_20220918_124003.588_N42RF-TS_AIR.nc in 0.7831449508666992 seconds"
     ]
    },
    {
     "name": "stdout",
     "output_type": "stream",
     "text": [
      "\n",
      "Processed /Users/ischluesche/Documents/Grad_School/Research/Ronin/NOAA/TRAINING//cfrad.20220918_124010.284_to_20220918_124014.258_N42RF-TM_AIR.nc in 0.7303829193115234 seconds"
     ]
    },
    {
     "name": "stdout",
     "output_type": "stream",
     "text": [
      "\n",
      "Processed /Users/ischluesche/Documents/Grad_School/Research/Ronin/NOAA/TRAINING//cfrad.20220918_124012.246_to_20220918_124016.226_N42RF-TS_AIR.nc in 0.864473819732666 seconds"
     ]
    },
    {
     "name": "stdout",
     "output_type": "stream",
     "text": [
      "\n",
      "Processed /Users/ischluesche/Documents/Grad_School/Research/Ronin/NOAA/TRAINING//cfrad.20220918_124022.922_to_20220918_124026.902_N42RF-TM_AIR.nc in 0.7206480503082275 seconds"
     ]
    },
    {
     "name": "stdout",
     "output_type": "stream",
     "text": [
      "\n",
      "Processed /Users/ischluesche/Documents/Grad_School/Research/Ronin/NOAA/TRAINING//cfrad.20220918_124024.890_to_20220918_124028.864_N42RF-TS_AIR.nc in 0.7786469459533691 seconds"
     ]
    },
    {
     "name": "stdout",
     "output_type": "stream",
     "text": [
      "\n",
      "Processed /Users/ischluesche/Documents/Grad_School/Research/Ronin/NOAA/TRAINING//cfrad.20220918_124035.566_to_20220918_124039.540_N42RF-TM_AIR.nc in 0.6873648166656494 seconds"
     ]
    },
    {
     "name": "stdout",
     "output_type": "stream",
     "text": [
      "\n",
      "Processed /Users/ischluesche/Documents/Grad_School/Research/Ronin/NOAA/TRAINING//cfrad.20220918_124037.528_to_20220918_124041.502_N42RF-TS_AIR.nc in 1.0253231525421143 seconds"
     ]
    },
    {
     "name": "stdout",
     "output_type": "stream",
     "text": [
      "\n",
      "Processed /Users/ischluesche/Documents/Grad_School/Research/Ronin/NOAA/TRAINING//cfrad.20220918_124048.204_to_20220918_124052.178_N42RF-TM_AIR.nc in 0.764646053314209 seconds"
     ]
    },
    {
     "name": "stdout",
     "output_type": "stream",
     "text": [
      "\n",
      "Processed /Users/ischluesche/Documents/Grad_School/Research/Ronin/NOAA/TRAINING//cfrad.20220918_124050.166_to_20220918_124054.140_N42RF-TS_AIR.nc in 1.0727550983428955 seconds"
     ]
    },
    {
     "name": "stdout",
     "output_type": "stream",
     "text": [
      "\n",
      "Processed /Users/ischluesche/Documents/Grad_School/Research/Ronin/NOAA/TRAINING//cfrad.20220918_124204.080_to_20220918_124208.065_N42RF-TM_AIR.nc in 0.8513109683990479 seconds"
     ]
    },
    {
     "name": "stdout",
     "output_type": "stream",
     "text": [
      "\n",
      "Processed /Users/ischluesche/Documents/Grad_School/Research/Ronin/NOAA/TRAINING//cfrad.20220918_124218.767_to_20220918_124222.741_N42RF-TS_AIR.nc in 1.290198802947998 seconds"
     ]
    },
    {
     "name": "stdout",
     "output_type": "stream",
     "text": [
      "\n",
      "Processed /Users/ischluesche/Documents/Grad_School/Research/Ronin/NOAA/TRAINING//cfrad.20220918_124229.310_to_20220918_124233.284_N42RF-TM_AIR.nc in 0.7346818447113037 seconds"
     ]
    },
    {
     "name": "stdout",
     "output_type": "stream",
     "text": [
      "\n",
      "Processed /Users/ischluesche/Documents/Grad_School/Research/Ronin/NOAA/TRAINING//cfrad.20220918_124231.584_to_20220918_124235.564_N42RF-TS_AIR.nc in 1.1475000381469727 seconds"
     ]
    },
    {
     "name": "stdout",
     "output_type": "stream",
     "text": [
      "\n",
      "Processed /Users/ischluesche/Documents/Grad_School/Research/Ronin/NOAA/TRAINING//cfrad.20220918_124241.948_to_20220918_124245.928_N42RF-TM_AIR.nc in 0.7157340049743652 seconds"
     ]
    },
    {
     "name": "stdout",
     "output_type": "stream",
     "text": [
      "\n",
      "Processed /Users/ischluesche/Documents/Grad_School/Research/Ronin/NOAA/TRAINING//cfrad.20220918_124244.309_to_20220918_124248.289_N42RF-TS_AIR.nc in 1.2103078365325928 seconds"
     ]
    },
    {
     "name": "stdout",
     "output_type": "stream",
     "text": [
      "\n",
      "Processed /Users/ischluesche/Documents/Grad_School/Research/Ronin/NOAA/TRAINING//cfrad.20220918_124254.598_to_20220918_124258.578_N42RF-TM_AIR.nc in 0.7258908748626709 seconds"
     ]
    },
    {
     "name": "stdout",
     "output_type": "stream",
     "text": [
      "\n",
      "Processed /Users/ischluesche/Documents/Grad_School/Research/Ronin/NOAA/TRAINING//cfrad.20220918_124256.953_to_20220918_124300.927_N42RF-TS_AIR.nc in 1.444288969039917 seconds"
     ]
    },
    {
     "name": "stdout",
     "output_type": "stream",
     "text": [
      "\n",
      "Processed /Users/ischluesche/Documents/Grad_School/Research/Ronin/NOAA/TRAINING//cfrad.20220918_124307.329_to_20220918_124311.303_N42RF-TM_AIR.nc in 0.6087639331817627 seconds"
     ]
    },
    {
     "name": "stdout",
     "output_type": "stream",
     "text": [
      "\n",
      "Processed /Users/ischluesche/Documents/Grad_School/Research/Ronin/NOAA/TRAINING//cfrad.20220918_124309.585_to_20220918_124313.565_N42RF-TS_AIR.nc in 1.108665943145752 seconds"
     ]
    },
    {
     "name": "stdout",
     "output_type": "stream",
     "text": [
      "\n",
      "Processed /Users/ischluesche/Documents/Grad_School/Research/Ronin/NOAA/TRAINING//cfrad.20220918_124319.967_to_20220918_124323.947_N42RF-TM_AIR.nc in 0.4944930076599121 seconds"
     ]
    },
    {
     "name": "stdout",
     "output_type": "stream",
     "text": [
      "\n",
      "Processed /Users/ischluesche/Documents/Grad_School/Research/Ronin/NOAA/TRAINING//cfrad.20220918_124322.310_to_20220918_124326.290_N42RF-TS_AIR.nc in 1.0294311046600342 seconds"
     ]
    },
    {
     "name": "stdout",
     "output_type": "stream",
     "text": [
      "\n",
      "Processed /Users/ischluesche/Documents/Grad_School/Research/Ronin/NOAA/TRAINING//cfrad.20220918_124332.617_to_20220918_124336.591_N42RF-TM_AIR.nc in 0.7203629016876221 seconds"
     ]
    },
    {
     "name": "stdout",
     "output_type": "stream",
     "text": [
      "\n",
      "Processed /Users/ischluesche/Documents/Grad_School/Research/Ronin/NOAA/TRAINING//cfrad.20220918_124345.255_to_20220918_124349.229_N42RF-TM_AIR.nc in 1.3643100261688232 seconds"
     ]
    },
    {
     "name": "stdout",
     "output_type": "stream",
     "text": [
      "\n",
      "Processed /Users/ischluesche/Documents/Grad_School/Research/Ronin/NOAA/TRAINING//cfrad.20220918_124347.592_to_20220918_124351.572_N42RF-TS_AIR.nc in 0.681920051574707 seconds"
     ]
    },
    {
     "name": "stdout",
     "output_type": "stream",
     "text": [
      "\n",
      "Processed /Users/ischluesche/Documents/Grad_School/Research/Ronin/NOAA/TRAINING//cfrad.20220918_124357.893_to_20220918_124401.867_N42RF-TM_AIR.nc in 1.131147861480713 seconds"
     ]
    },
    {
     "name": "stdout",
     "output_type": "stream",
     "text": [
      "\n",
      "Processed /Users/ischluesche/Documents/Grad_School/Research/Ronin/NOAA/TRAINING//cfrad.20220918_124410.543_to_20220918_124414.517_N42RF-TM_AIR.nc in 0.722186803817749 seconds"
     ]
    },
    {
     "name": "stdout",
     "output_type": "stream",
     "text": [
      "\n",
      "Processed /Users/ischluesche/Documents/Grad_School/Research/Ronin/NOAA/TRAINING//cfrad.20220918_124412.950_to_20220918_124416.924_N42RF-TS_AIR.nc in 1.1585161685943604 seconds"
     ]
    },
    {
     "name": "stdout",
     "output_type": "stream",
     "text": [
      "\n",
      "Processed /Users/ischluesche/Documents/Grad_School/Research/Ronin/NOAA/TRAINING//cfrad.20220918_124423.303_to_20220918_124427.277_N42RF-TM_AIR.nc in 0.5225059986114502 seconds"
     ]
    },
    {
     "name": "stdout",
     "output_type": "stream",
     "text": [
      "\n",
      "Processed /Users/ischluesche/Documents/Grad_School/Research/Ronin/NOAA/TRAINING//cfrad.20220918_124425.588_to_20220918_124429.562_N42RF-TS_AIR.nc in 1.013747215270996 seconds"
     ]
    },
    {
     "name": "stdout",
     "output_type": "stream",
     "text": [
      "\n",
      "Processed /Users/ischluesche/Documents/Grad_School/Research/Ronin/NOAA/TRAINING//cfrad.20220918_124438.232_to_20220918_124442.212_N42RF-TS_AIR.nc in 0.557013988494873 seconds"
     ]
    },
    {
     "name": "stdout",
     "output_type": "stream",
     "text": [
      "\n",
      "Processed /Users/ischluesche/Documents/Grad_School/Research/Ronin/NOAA/TRAINING//cfrad.20220918_124448.579_to_20220918_124452.559_N42RF-TM_AIR.nc in 0.9338679313659668 seconds"
     ]
    },
    {
     "name": "stdout",
     "output_type": "stream",
     "text": [
      "\n",
      "Processed /Users/ischluesche/Documents/Grad_School/Research/Ronin/NOAA/TRAINING//cfrad.20220918_124450.876_to_20220918_124454.850_N42RF-TS_AIR.nc in 0.6432068347930908 seconds"
     ]
    },
    {
     "name": "stdout",
     "output_type": "stream",
     "text": [
      "\n",
      "Processed /Users/ischluesche/Documents/Grad_School/Research/Ronin/NOAA/TRAINING//cfrad.20220918_124501.217_to_20220918_124505.197_N42RF-TM_AIR.nc in 1.0535321235656738 seconds"
     ]
    },
    {
     "name": "stdout",
     "output_type": "stream",
     "text": [
      "\n",
      "Processed /Users/ischluesche/Documents/Grad_School/Research/Ronin/NOAA/TRAINING//cfrad.20220918_124513.855_to_20220918_124517.829_N42RF-TM_AIR.nc in 0.7091951370239258 seconds"
     ]
    },
    {
     "name": "stdout",
     "output_type": "stream",
     "text": [
      "\n",
      "Processed /Users/ischluesche/Documents/Grad_School/Research/Ronin/NOAA/TRAINING//cfrad.20220918_124516.152_to_20220918_124520.126_N42RF-TS_AIR.nc in 1.5098187923431396 seconds"
     ]
    },
    {
     "name": "stdout",
     "output_type": "stream",
     "text": [
      "\n",
      "Processed /Users/ischluesche/Documents/Grad_School/Research/Ronin/NOAA/TRAINING//cfrad.20220918_124526.494_to_20220918_124530.473_N42RF-TM_AIR.nc in 0.6731879711151123 seconds"
     ]
    },
    {
     "name": "stdout",
     "output_type": "stream",
     "text": [
      "\n",
      "Processed /Users/ischluesche/Documents/Grad_School/Research/Ronin/NOAA/TRAINING//cfrad.20220918_124528.791_to_20220918_124532.770_N42RF-TS_AIR.nc in 0.9811229705810547 seconds"
     ]
    },
    {
     "name": "stdout",
     "output_type": "stream",
     "text": [
      "\n",
      "Processed /Users/ischluesche/Documents/Grad_School/Research/Ronin/NOAA/TRAINING//cfrad.20220918_124539.138_to_20220918_124543.112_N42RF-TM_AIR.nc in 0.5295429229736328 seconds"
     ]
    },
    {
     "name": "stdout",
     "output_type": "stream",
     "text": [
      "\n",
      "Processed /Users/ischluesche/Documents/Grad_School/Research/Ronin/NOAA/TRAINING//cfrad.20220918_124541.440_to_20220918_124545.414_N42RF-TS_AIR.nc in 1.1750531196594238 seconds"
     ]
    },
    {
     "name": "stdout",
     "output_type": "stream",
     "text": [
      "\n",
      "Processed /Users/ischluesche/Documents/Grad_School/Research/Ronin/NOAA/TRAINING//cfrad.20220918_124551.782_to_20220918_124555.761_N42RF-TM_AIR.nc in 0.6523809432983398 seconds"
     ]
    },
    {
     "name": "stdout",
     "output_type": "stream",
     "text": [
      "\n",
      "Processed /Users/ischluesche/Documents/Grad_School/Research/Ronin/NOAA/TRAINING//cfrad.20220918_124554.079_to_20220918_124558.053_N42RF-TS_AIR.nc in 1.2869348526000977 seconds"
     ]
    },
    {
     "name": "stdout",
     "output_type": "stream",
     "text": [
      "\n",
      "Processed /Users/ischluesche/Documents/Grad_School/Research/Ronin/NOAA/TRAINING//cfrad.20220918_124604.437_to_20220918_124608.411_N42RF-TM_AIR.nc in 0.8540658950805664 seconds"
     ]
    },
    {
     "name": "stdout",
     "output_type": "stream",
     "text": [
      "\n",
      "Processed /Users/ischluesche/Documents/Grad_School/Research/Ronin/NOAA/TRAINING//cfrad.20220918_124617.081_to_20220918_124621.061_N42RF-TM_AIR.nc in 1.259294033050537 seconds"
     ]
    },
    {
     "name": "stdout",
     "output_type": "stream",
     "text": [
      "\n",
      "Processed /Users/ischluesche/Documents/Grad_School/Research/Ronin/NOAA/TRAINING//cfrad.20220918_124619.355_to_20220918_124623.335_N42RF-TS_AIR.nc in 0.7736730575561523 seconds"
     ]
    },
    {
     "name": "stdout",
     "output_type": "stream",
     "text": [
      "\n",
      "Processed /Users/ischluesche/Documents/Grad_School/Research/Ronin/NOAA/TRAINING//cfrad.20220918_124629.719_to_20220918_124633.699_N42RF-TM_AIR.nc in 1.279761791229248 seconds"
     ]
    },
    {
     "name": "stdout",
     "output_type": "stream",
     "text": [
      "\n",
      "Processed /Users/ischluesche/Documents/Grad_School/Research/Ronin/NOAA/TRAINING//cfrad.20220918_124631.993_to_20220918_124635.973_N42RF-TS_AIR.nc in 0.6849701404571533 seconds"
     ]
    },
    {
     "name": "stdout",
     "output_type": "stream",
     "text": [
      "\n",
      "Processed /Users/ischluesche/Documents/Grad_School/Research/Ronin/NOAA/TRAINING//cfrad.20220918_124642.358_to_20220918_124646.337_N42RF-TM_AIR.nc in 1.4184670448303223 seconds"
     ]
    },
    {
     "name": "stdout",
     "output_type": "stream",
     "text": [
      "\n",
      "Processed /Users/ischluesche/Documents/Grad_School/Research/Ronin/NOAA/TRAINING//cfrad.20220918_124644.637_to_20220918_124648.611_N42RF-TS_AIR.nc in 0.792834997177124 seconds"
     ]
    },
    {
     "name": "stdout",
     "output_type": "stream",
     "text": [
      "\n",
      "Processed /Users/ischluesche/Documents/Grad_School/Research/Ronin/NOAA/TRAINING//cfrad.20220918_124707.651_to_20220918_124711.625_N42RF-TM_AIR.nc in 1.7306010723114014 seconds"
     ]
    },
    {
     "name": "stdout",
     "output_type": "stream",
     "text": [
      "\n",
      "Processed /Users/ischluesche/Documents/Grad_School/Research/Ronin/NOAA/TRAINING//cfrad.20220918_124710.000_to_20220918_124713.980_N42RF-TS_AIR.nc in 0.9968559741973877 seconds"
     ]
    },
    {
     "name": "stdout",
     "output_type": "stream",
     "text": [
      "\n",
      "Processed /Users/ischluesche/Documents/Grad_School/Research/Ronin/NOAA/TRAINING//cfrad.20220918_124720.290_to_20220918_124724.264_N42RF-TM_AIR.nc in 1.6320888996124268 seconds"
     ]
    },
    {
     "name": "stdout",
     "output_type": "stream",
     "text": [
      "\n",
      "Processed /Users/ischluesche/Documents/Grad_School/Research/Ronin/NOAA/TRAINING//cfrad.20220918_124722.639_to_20220918_124726.618_N42RF-TS_AIR.nc in 0.7892420291900635 seconds"
     ]
    },
    {
     "name": "stdout",
     "output_type": "stream",
     "text": [
      "\n",
      "Processed /Users/ischluesche/Documents/Grad_School/Research/Ronin/NOAA/TRAINING//cfrad.20220918_124732.928_to_20220918_124736.902_N42RF-TM_AIR.nc in 1.0213038921356201 seconds"
     ]
    },
    {
     "name": "stdout",
     "output_type": "stream",
     "text": [
      "\n",
      "Processed /Users/ischluesche/Documents/Grad_School/Research/Ronin/NOAA/TRAINING//cfrad.20220918_124735.335_to_20220918_124739.308_N42RF-TS_AIR.nc in 0.5178720951080322 seconds"
     ]
    },
    {
     "name": "stdout",
     "output_type": "stream",
     "text": [
      "\n",
      "Processed /Users/ischluesche/Documents/Grad_School/Research/Ronin/NOAA/TRAINING//cfrad.20220918_124745.566_to_20220918_124749.540_N42RF-TM_AIR.nc in 0.9554140567779541 seconds"
     ]
    },
    {
     "name": "stdout",
     "output_type": "stream",
     "text": [
      "\n",
      "Processed /Users/ischluesche/Documents/Grad_School/Research/Ronin/NOAA/TRAINING//cfrad.20220918_124747.973_to_20220918_124751.947_N42RF-TS_AIR.nc in 0.45801496505737305 seconds"
     ]
    },
    {
     "name": "stdout",
     "output_type": "stream",
     "text": [
      "\n",
      "Processed /Users/ischluesche/Documents/Grad_School/Research/Ronin/NOAA/TRAINING//cfrad.20220918_124758.204_to_20220918_124802.184_N42RF-TM_AIR.nc in 1.2309410572052002 seconds"
     ]
    },
    {
     "name": "stdout",
     "output_type": "stream",
     "text": [
      "\n",
      "Processed /Users/ischluesche/Documents/Grad_School/Research/Ronin/NOAA/TRAINING//cfrad.20220918_124800.611_to_20220918_124804.585_N42RF-TS_AIR.nc in 0.8291409015655518 seconds"
     ]
    },
    {
     "name": "stdout",
     "output_type": "stream",
     "text": [
      "\n",
      "Processed /Users/ischluesche/Documents/Grad_School/Research/Ronin/NOAA/TRAINING//cfrad.20220918_124810.842_to_20220918_124814.822_N42RF-TM_AIR.nc in 1.0790770053863525 seconds"
     ]
    },
    {
     "name": "stdout",
     "output_type": "stream",
     "text": [
      "\n",
      "Processed /Users/ischluesche/Documents/Grad_School/Research/Ronin/NOAA/TRAINING//cfrad.20220918_124813.249_to_20220918_124817.223_N42RF-TS_AIR.nc in 0.8219950199127197 seconds"
     ]
    },
    {
     "name": "stdout",
     "output_type": "stream",
     "text": [
      "\n",
      "Processed /Users/ischluesche/Documents/Grad_School/Research/Ronin/NOAA/TRAINING//cfrad.20220918_124823.579_to_20220918_124827.559_N42RF-TM_AIR.nc in 1.045522928237915 seconds"
     ]
    },
    {
     "name": "stdout",
     "output_type": "stream",
     "text": [
      "\n",
      "Processed /Users/ischluesche/Documents/Grad_School/Research/Ronin/NOAA/TRAINING//cfrad.20220918_124825.887_to_20220918_124829.861_N42RF-TS_AIR.nc in 0.6545348167419434 seconds"
     ]
    },
    {
     "name": "stdout",
     "output_type": "stream",
     "text": [
      "\n",
      "Processed /Users/ischluesche/Documents/Grad_School/Research/Ronin/NOAA/TRAINING//cfrad.20220918_124836.223_to_20220918_124840.197_N42RF-TM_AIR.nc in 1.473546028137207 seconds"
     ]
    },
    {
     "name": "stdout",
     "output_type": "stream",
     "text": [
      "\n",
      "Processed /Users/ischluesche/Documents/Grad_School/Research/Ronin/NOAA/TRAINING//cfrad.20220918_124838.549_to_20220918_124842.528_N42RF-TS_AIR.nc in 0.7457530498504639 seconds"
     ]
    },
    {
     "name": "stdout",
     "output_type": "stream",
     "text": [
      "\n",
      "Processed /Users/ischluesche/Documents/Grad_School/Research/Ronin/NOAA/TRAINING//cfrad.20220918_124848.861_to_20220918_124852.835_N42RF-TM_AIR.nc in 1.1110649108886719 seconds"
     ]
    },
    {
     "name": "stdout",
     "output_type": "stream",
     "text": [
      "\n",
      "Processed /Users/ischluesche/Documents/Grad_School/Research/Ronin/NOAA/TRAINING//cfrad.20220918_124851.187_to_20220918_124855.161_N42RF-TS_AIR.nc in 0.5161221027374268 seconds"
     ]
    },
    {
     "name": "stdout",
     "output_type": "stream",
     "text": [
      "\n",
      "Processed /Users/ischluesche/Documents/Grad_School/Research/Ronin/NOAA/TRAINING//cfrad.20220918_124901.505_to_20220918_124905.485_N42RF-TM_AIR.nc in 1.031562089920044 seconds"
     ]
    },
    {
     "name": "stdout",
     "output_type": "stream",
     "text": [
      "\n",
      "Processed /Users/ischluesche/Documents/Grad_School/Research/Ronin/NOAA/TRAINING//cfrad.20220918_124903.825_to_20220918_124907.799_N42RF-TS_AIR.nc in 0.8195779323577881 seconds"
     ]
    },
    {
     "name": "stdout",
     "output_type": "stream",
     "text": [
      "\n",
      "Processed /Users/ischluesche/Documents/Grad_School/Research/Ronin/NOAA/TRAINING//cfrad.20220918_124914.155_to_20220918_124918.135_N42RF-TM_AIR.nc in 1.0779359340667725 seconds"
     ]
    },
    {
     "name": "stdout",
     "output_type": "stream",
     "text": [
      "\n",
      "Processed /Users/ischluesche/Documents/Grad_School/Research/Ronin/NOAA/TRAINING//cfrad.20220918_124916.463_to_20220918_124920.443_N42RF-TS_AIR.nc in 0.7479381561279297 seconds"
     ]
    },
    {
     "name": "stdout",
     "output_type": "stream",
     "text": [
      "\n",
      "Processed /Users/ischluesche/Documents/Grad_School/Research/Ronin/NOAA/TRAINING//cfrad.20220918_124926.799_to_20220918_124930.773_N42RF-TM_AIR.nc in 1.1681790351867676 seconds"
     ]
    },
    {
     "name": "stdout",
     "output_type": "stream",
     "text": [
      "\n",
      "Processed /Users/ischluesche/Documents/Grad_School/Research/Ronin/NOAA/TRAINING//cfrad.20220918_124929.102_to_20220918_124933.076_N42RF-TS_AIR.nc in 0.7256360054016113 seconds"
     ]
    },
    {
     "name": "stdout",
     "output_type": "stream",
     "text": [
      "\n",
      "Processed /Users/ischluesche/Documents/Grad_School/Research/Ronin/NOAA/TRAINING//cfrad.20220918_124939.437_to_20220918_124943.411_N42RF-TM_AIR.nc in 1.0918049812316895 seconds"
     ]
    },
    {
     "name": "stdout",
     "output_type": "stream",
     "text": [
      "\n",
      "Processed /Users/ischluesche/Documents/Grad_School/Research/Ronin/NOAA/TRAINING//cfrad.20220918_124941.740_to_20220918_124945.720_N42RF-TS_AIR.nc in 0.586245059967041 seconds"
     ]
    },
    {
     "name": "stdout",
     "output_type": "stream",
     "text": [
      "\n",
      "Processed /Users/ischluesche/Documents/Grad_School/Research/Ronin/NOAA/TRAINING//cfrad.20220918_124952.075_to_20220918_124956.049_N42RF-TM_AIR.nc in 1.2123339176177979 seconds"
     ]
    },
    {
     "name": "stdout",
     "output_type": "stream",
     "text": [
      "\n",
      "Processed /Users/ischluesche/Documents/Grad_School/Research/Ronin/NOAA/TRAINING//cfrad.20220918_124954.384_to_20220918_124958.358_N42RF-TS_AIR.nc in 0.7150900363922119 seconds"
     ]
    },
    {
     "name": "stdout",
     "output_type": "stream",
     "text": [
      "\n",
      "Processed /Users/ischluesche/Documents/Grad_School/Research/Ronin/NOAA/TRAINING//cfrad.20220918_125004.714_to_20220918_125008.687_N42RF-TM_AIR.nc in 1.1409790515899658 seconds"
     ]
    },
    {
     "name": "stdout",
     "output_type": "stream",
     "text": [
      "\n",
      "Processed /Users/ischluesche/Documents/Grad_School/Research/Ronin/NOAA/TRAINING//cfrad.20220918_125007.022_to_20220918_125010.996_N42RF-TS_AIR.nc in 0.5931098461151123 seconds"
     ]
    },
    {
     "name": "stdout",
     "output_type": "stream",
     "text": [
      "\n",
      "Processed /Users/ischluesche/Documents/Grad_School/Research/Ronin/NOAA/TRAINING//cfrad.20220918_125017.357_to_20220918_125021.337_N42RF-TM_AIR.nc in 1.3786680698394775 seconds"
     ]
    },
    {
     "name": "stdout",
     "output_type": "stream",
     "text": [
      "\n",
      "Processed /Users/ischluesche/Documents/Grad_School/Research/Ronin/NOAA/TRAINING//cfrad.20220918_125019.654_to_20220918_125023.634_N42RF-TS_AIR.nc in 0.9241640567779541 seconds"
     ]
    },
    {
     "name": "stdout",
     "output_type": "stream",
     "text": [
      "\n",
      "Processed /Users/ischluesche/Documents/Grad_School/Research/Ronin/NOAA/TRAINING//cfrad.20220918_125030.002_to_20220918_125033.981_N42RF-TM_AIR.nc in 1.0391640663146973 seconds"
     ]
    },
    {
     "name": "stdout",
     "output_type": "stream",
     "text": [
      "\n",
      "Processed /Users/ischluesche/Documents/Grad_School/Research/Ronin/NOAA/TRAINING//cfrad.20220918_125032.379_to_20220918_125036.359_N42RF-TS_AIR.nc in 0.5005171298980713 seconds"
     ]
    },
    {
     "name": "stdout",
     "output_type": "stream",
     "text": [
      "\n",
      "Processed /Users/ischluesche/Documents/Grad_School/Research/Ronin/NOAA/TRAINING//cfrad.20220918_125045.023_to_20220918_125048.997_N42RF-TS_AIR.nc in 1.0886478424072266 seconds"
     ]
    },
    {
     "name": "stdout",
     "output_type": "stream",
     "text": [
      "\n",
      "Processed /Users/ischluesche/Documents/Grad_School/Research/Ronin/NOAA/TRAINING//cfrad.20220918_125055.278_to_20220918_125059.252_N42RF-TM_AIR.nc in 0.7281441688537598 seconds"
     ]
    },
    {
     "name": "stdout",
     "output_type": "stream",
     "text": [
      "\n",
      "Processed /Users/ischluesche/Documents/Grad_School/Research/Ronin/NOAA/TRAINING//cfrad.20230912_124510.241_to_20230912_124514.219_N43RF-TM_AIR.nc in 1.0431609153747559 seconds"
     ]
    },
    {
     "name": "stdout",
     "output_type": "stream",
     "text": [
      "\n",
      "Processed /Users/ischluesche/Documents/Grad_School/Research/Ronin/NOAA/TRAINING//cfrad.20230912_124522.885_to_20230912_124526.864_N43RF-TM_AIR.nc in 0.47698402404785156 seconds"
     ]
    },
    {
     "name": "stdout",
     "output_type": "stream",
     "text": [
      "\n",
      "Processed /Users/ischluesche/Documents/Grad_School/Research/Ronin/NOAA/TRAINING//cfrad.20230912_124535.130_to_20230912_124539.109_N43RF-TS_AIR.nc in 1.0329310894012451 seconds"
     ]
    },
    {
     "name": "stdout",
     "output_type": "stream",
     "text": [
      "\n",
      "Processed /Users/ischluesche/Documents/Grad_School/Research/Ronin/NOAA/TRAINING//cfrad.20230912_124535.530_to_20230912_124539.508_N43RF-TM_AIR.nc in 0.5015199184417725 seconds"
     ]
    },
    {
     "name": "stdout",
     "output_type": "stream",
     "text": [
      "\n",
      "Processed /Users/ischluesche/Documents/Grad_School/Research/Ronin/NOAA/TRAINING//cfrad.20230912_124548.180_to_20230912_124552.158_N43RF-TM_AIR.nc in 1.066075086593628 seconds"
     ]
    },
    {
     "name": "stdout",
     "output_type": "stream",
     "text": [
      "\n",
      "Processed /Users/ischluesche/Documents/Grad_School/Research/Ronin/NOAA/TRAINING//cfrad.20230912_124550.779_to_20230912_124554.757_N43RF-TS_AIR.nc in 0.5436348915100098 seconds"
     ]
    },
    {
     "name": "stdout",
     "output_type": "stream",
     "text": [
      "\n",
      "Processed /Users/ischluesche/Documents/Grad_School/Research/Ronin/NOAA/TRAINING//cfrad.20230912_124600.819_to_20230912_124604.791_N43RF-TM_AIR.nc in 1.380708932876587 seconds"
     ]
    },
    {
     "name": "stdout",
     "output_type": "stream",
     "text": [
      "\n",
      "Processed /Users/ischluesche/Documents/Grad_School/Research/Ronin/NOAA/TRAINING//cfrad.20230912_124606.404_to_20230912_124610.383_N43RF-TS_AIR.nc in 0.6684660911560059 seconds"
     ]
    },
    {
     "name": "stdout",
     "output_type": "stream",
     "text": [
      "\n",
      "Processed /Users/ischluesche/Documents/Grad_School/Research/Ronin/NOAA/TRAINING//cfrad.20230912_124613.457_to_20230912_124617.436_N43RF-TM_AIR.nc in 1.0420200824737549 seconds"
     ]
    },
    {
     "name": "stdout",
     "output_type": "stream",
     "text": [
      "\n",
      "Processed /Users/ischluesche/Documents/Grad_School/Research/Ronin/NOAA/TRAINING//cfrad.20230912_124626.096_to_20230912_124630.074_N43RF-TM_AIR.nc in 0.5126500129699707 seconds"
     ]
    },
    {
     "name": "stdout",
     "output_type": "stream",
     "text": [
      "\n",
      "Processed /Users/ischluesche/Documents/Grad_School/Research/Ronin/NOAA/TRAINING//cfrad.20230912_124637.718_to_20230912_124641.708_N43RF-TS_AIR.nc in 1.2043850421905518 seconds"
     ]
    },
    {
     "name": "stdout",
     "output_type": "stream",
     "text": [
      "\n",
      "Processed /Users/ischluesche/Documents/Grad_School/Research/Ronin/NOAA/TRAINING//cfrad.20230912_124638.735_to_20230912_124642.707_N43RF-TM_AIR.nc in 0.6561999320983887 seconds"
     ]
    },
    {
     "name": "stdout",
     "output_type": "stream",
     "text": [
      "\n",
      "Processed /Users/ischluesche/Documents/Grad_School/Research/Ronin/NOAA/TRAINING//cfrad.20230912_124651.385_to_20230912_124655.363_N43RF-TM_AIR.nc in 1.156480073928833 seconds"
     ]
    },
    {
     "name": "stdout",
     "output_type": "stream",
     "text": [
      "\n",
      "Processed /Users/ischluesche/Documents/Grad_School/Research/Ronin/NOAA/TRAINING//cfrad.20230912_124653.349_to_20230912_124657.322_N43RF-TS_AIR.nc in 0.6130218505859375 seconds"
     ]
    },
    {
     "name": "stdout",
     "output_type": "stream",
     "text": [
      "\n",
      "Processed /Users/ischluesche/Documents/Grad_School/Research/Ronin/NOAA/TRAINING//cfrad.20230912_124704.023_to_20230912_124707.996_N43RF-TM_AIR.nc in 1.1086819171905518 seconds"
     ]
    },
    {
     "name": "stdout",
     "output_type": "stream",
     "text": [
      "\n",
      "Processed /Users/ischluesche/Documents/Grad_School/Research/Ronin/NOAA/TRAINING//cfrad.20230912_124708.975_to_20230912_124712.953_N43RF-TS_AIR.nc in 0.8965771198272705 seconds"
     ]
    },
    {
     "name": "stdout",
     "output_type": "stream",
     "text": [
      "\n",
      "Processed /Users/ischluesche/Documents/Grad_School/Research/Ronin/NOAA/TRAINING//cfrad.20230912_124716.662_to_20230912_124720.652_N43RF-TM_AIR.nc in 1.0531229972839355 seconds"
     ]
    },
    {
     "name": "stdout",
     "output_type": "stream",
     "text": [
      "\n",
      "Processed /Users/ischluesche/Documents/Grad_School/Research/Ronin/NOAA/TRAINING//cfrad.20230912_124724.560_to_20230912_124728.532_N43RF-TS_AIR.nc in 0.7028720378875732 seconds"
     ]
    },
    {
     "name": "stdout",
     "output_type": "stream",
     "text": [
      "\n",
      "Processed /Users/ischluesche/Documents/Grad_School/Research/Ronin/NOAA/TRAINING//cfrad.20230912_124740.335_to_20230912_124744.319_N43RF-TS_AIR.nc in 1.083296775817871 seconds"
     ]
    },
    {
     "name": "stdout",
     "output_type": "stream",
     "text": [
      "\n",
      "Processed /Users/ischluesche/Documents/Grad_School/Research/Ronin/NOAA/TRAINING//cfrad.20230912_124741.951_to_20230912_124745.929_N43RF-TM_AIR.nc in 0.6970310211181641 seconds"
     ]
    },
    {
     "name": "stdout",
     "output_type": "stream",
     "text": [
      "\n",
      "Processed /Users/ischluesche/Documents/Grad_School/Research/Ronin/NOAA/TRAINING//cfrad.20230912_124754.590_to_20230912_124758.562_N43RF-TM_AIR.nc in 0.7024400234222412 seconds"
     ]
    },
    {
     "name": "stdout",
     "output_type": "stream",
     "text": [
      "\n",
      "Processed /Users/ischluesche/Documents/Grad_School/Research/Ronin/NOAA/TRAINING//cfrad.20230912_124755.920_to_20230912_124759.893_N43RF-TS_AIR.nc in 0.7741320133209229 seconds"
     ]
    },
    {
     "name": "stdout",
     "output_type": "stream",
     "text": [
      "\n",
      "Processed /Users/ischluesche/Documents/Grad_School/Research/Ronin/NOAA/TRAINING//cfrad.20230912_124807.228_to_20230912_124811.207_N43RF-TM_AIR.nc in 0.735720157623291 seconds"
     ]
    },
    {
     "name": "stdout",
     "output_type": "stream",
     "text": [
      "\n",
      "Processed /Users/ischluesche/Documents/Grad_School/Research/Ronin/NOAA/TRAINING//cfrad.20230912_124811.540_to_20230912_124815.518_N43RF-TS_AIR.nc in 0.7422211170196533 seconds"
     ]
    },
    {
     "name": "stdout",
     "output_type": "stream",
     "text": [
      "\n",
      "Processed /Users/ischluesche/Documents/Grad_School/Research/Ronin/NOAA/TRAINING//cfrad.20230912_124819.861_to_20230912_124823.845_N43RF-TM_AIR.nc in 0.7524569034576416 seconds"
     ]
    },
    {
     "name": "stdout",
     "output_type": "stream",
     "text": [
      "\n",
      "Processed /Users/ischluesche/Documents/Grad_School/Research/Ronin/NOAA/TRAINING//cfrad.20230912_124827.142_to_20230912_124831.114_N43RF-TS_AIR.nc in 0.7356438636779785 seconds"
     ]
    },
    {
     "name": "stdout",
     "output_type": "stream",
     "text": [
      "\n",
      "Processed /Users/ischluesche/Documents/Grad_School/Research/Ronin/NOAA/TRAINING//cfrad.20230912_124832.506_to_20230912_124836.484_N43RF-TM_AIR.nc in 1.0123710632324219 seconds"
     ]
    },
    {
     "name": "stdout",
     "output_type": "stream",
     "text": [
      "\n",
      "Processed /Users/ischluesche/Documents/Grad_School/Research/Ronin/NOAA/TRAINING//cfrad.20230912_124845.144_to_20230912_124849.123_N43RF-TM_AIR.nc in 0.7665591239929199 seconds"
     ]
    },
    {
     "name": "stdout",
     "output_type": "stream",
     "text": [
      "\n",
      "Processed /Users/ischluesche/Documents/Grad_School/Research/Ronin/NOAA/TRAINING//cfrad.20230912_124857.783_to_20230912_124901.761_N43RF-TM_AIR.nc in 0.7587528228759766 seconds"
     ]
    },
    {
     "name": "stdout",
     "output_type": "stream",
     "text": [
      "\n",
      "Processed /Users/ischluesche/Documents/Grad_School/Research/Ronin/NOAA/TRAINING//cfrad.20230912_124858.439_to_20230912_124902.411_N43RF-TS_AIR.nc in 1.129115104675293 seconds"
     ]
    },
    {
     "name": "stdout",
     "output_type": "stream",
     "text": [
      "\n",
      "Processed /Users/ischluesche/Documents/Grad_School/Research/Ronin/NOAA/TRAINING//cfrad.20230912_124910.422_to_20230912_124914.400_N43RF-TM_AIR.nc in 0.956928014755249 seconds"
     ]
    },
    {
     "name": "stdout",
     "output_type": "stream",
     "text": [
      "\n",
      "Processed /Users/ischluesche/Documents/Grad_School/Research/Ronin/NOAA/TRAINING//cfrad.20230912_124914.041_to_20230912_124918.019_N43RF-TS_AIR.nc in 0.9956741333007812 seconds"
     ]
    },
    {
     "name": "stdout",
     "output_type": "stream",
     "text": [
      "\n",
      "Processed /Users/ischluesche/Documents/Grad_School/Research/Ronin/NOAA/TRAINING//cfrad.20230912_124923.060_to_20230912_124927.039_N43RF-TM_AIR.nc in 1.0546281337738037 seconds"
     ]
    },
    {
     "name": "stdout",
     "output_type": "stream",
     "text": [
      "\n",
      "Processed /Users/ischluesche/Documents/Grad_School/Research/Ronin/NOAA/TRAINING//cfrad.20230912_124929.689_to_20230912_124933.668_N43RF-TS_AIR.nc in 0.9920239448547363 seconds"
     ]
    },
    {
     "name": "stdout",
     "output_type": "stream",
     "text": [
      "\n",
      "Processed /Users/ischluesche/Documents/Grad_School/Research/Ronin/NOAA/TRAINING//cfrad.20230912_124935.699_to_20230912_124939.671_N43RF-TM_AIR.nc in 1.702605962753296 seconds"
     ]
    },
    {
     "name": "stdout",
     "output_type": "stream",
     "text": [
      "\n",
      "Processed /Users/ischluesche/Documents/Grad_School/Research/Ronin/NOAA/TRAINING//cfrad.20230912_124945.274_to_20230912_124949.253_N43RF-TS_AIR.nc in 1.327052116394043 seconds"
     ]
    },
    {
     "name": "stdout",
     "output_type": "stream",
     "text": [
      "\n",
      "Processed /Users/ischluesche/Documents/Grad_School/Research/Ronin/NOAA/TRAINING//cfrad.20230912_125000.976_to_20230912_125004.955_N43RF-TM_AIR.nc in 0.9818160533905029 seconds"
     ]
    },
    {
     "name": "stdout",
     "output_type": "stream",
     "text": [
      "\n",
      "Processed /Users/ischluesche/Documents/Grad_School/Research/Ronin/NOAA/TRAINING//cfrad.20230912_125000.980_to_20230912_125004.953_N43RF-TS_AIR.nc in 0.9616119861602783 seconds"
     ]
    },
    {
     "name": "stdout",
     "output_type": "stream",
     "text": [
      "\n",
      "Processed /Users/ischluesche/Documents/Grad_School/Research/Ronin/NOAA/TRAINING//cfrad.20230912_125013.615_to_20230912_125017.593_N43RF-TM_AIR.nc in 0.9462969303131104 seconds"
     ]
    },
    {
     "name": "stdout",
     "output_type": "stream",
     "text": [
      "\n",
      "Processed /Users/ischluesche/Documents/Grad_School/Research/Ronin/NOAA/TRAINING//cfrad.20230912_125016.640_to_20230912_125020.619_N43RF-TS_AIR.nc in 0.9030680656433105 seconds"
     ]
    },
    {
     "name": "stdout",
     "output_type": "stream",
     "text": [
      "\n",
      "Processed /Users/ischluesche/Documents/Grad_School/Research/Ronin/NOAA/TRAINING//cfrad.20230912_125026.253_to_20230912_125030.232_N43RF-TM_AIR.nc in 1.1301870346069336 seconds"
     ]
    },
    {
     "name": "stdout",
     "output_type": "stream",
     "text": [
      "\n",
      "Processed /Users/ischluesche/Documents/Grad_School/Research/Ronin/NOAA/TRAINING//cfrad.20230912_125032.294_to_20230912_125036.273_N43RF-TS_AIR.nc in 1.194950819015503 seconds"
     ]
    },
    {
     "name": "stdout",
     "output_type": "stream",
     "text": [
      "\n",
      "Processed /Users/ischluesche/Documents/Grad_School/Research/Ronin/NOAA/TRAINING//cfrad.20230912_125038.898_to_20230912_125042.870_N43RF-TM_AIR.nc in 0.948681116104126 seconds"
     ]
    },
    {
     "name": "stdout",
     "output_type": "stream",
     "text": [
      "\n",
      "Processed /Users/ischluesche/Documents/Grad_School/Research/Ronin/NOAA/TRAINING//cfrad.20230912_125047.972_to_20230912_125051.950_N43RF-TS_AIR.nc in 0.8591861724853516 seconds"
     ]
    },
    {
     "name": "stdout",
     "output_type": "stream",
     "text": [
      "\n",
      "Processed /Users/ischluesche/Documents/Grad_School/Research/Ronin/NOAA/TRAINING//cfrad.20230912_125051.531_to_20230912_125055.509_N43RF-TM_AIR.nc in 1.1677041053771973 seconds"
     ]
    },
    {
     "name": "stdout",
     "output_type": "stream",
     "text": [
      "\n",
      "Processed /Users/ischluesche/Documents/Grad_School/Research/Ronin/NOAA/TRAINING//cfrad.20230912_125104.158_to_20230912_125108.136_N43RF-TM_AIR.nc in 1.002018928527832 seconds"
     ]
    },
    {
     "name": "stdout",
     "output_type": "stream",
     "text": [
      "\n",
      "Processed /Users/ischluesche/Documents/Grad_School/Research/Ronin/NOAA/TRAINING//cfrad.20230912_125116.802_to_20230912_125120.775_N43RF-TM_AIR.nc in 0.7210128307342529 seconds"
     ]
    },
    {
     "name": "stdout",
     "output_type": "stream",
     "text": [
      "\n",
      "Processed /Users/ischluesche/Documents/Grad_School/Research/Ronin/NOAA/TRAINING//cfrad.20230912_125119.176_to_20230912_125123.155_N43RF-TS_AIR.nc in 0.9213449954986572 seconds"
     ]
    },
    {
     "name": "stdout",
     "output_type": "stream",
     "text": [
      "\n",
      "Processed /Users/ischluesche/Documents/Grad_School/Research/Ronin/NOAA/TRAINING//cfrad.20230912_125129.435_to_20230912_125133.414_N43RF-TM_AIR.nc in 0.9002141952514648 seconds"
     ]
    },
    {
     "name": "stdout",
     "output_type": "stream",
     "text": [
      "\n",
      "Processed /Users/ischluesche/Documents/Grad_School/Research/Ronin/NOAA/TRAINING//cfrad.20230912_125134.767_to_20230912_125138.745_N43RF-TS_AIR.nc in 0.9633450508117676 seconds"
     ]
    },
    {
     "name": "stdout",
     "output_type": "stream",
     "text": [
      "\n",
      "Processed /Users/ischluesche/Documents/Grad_School/Research/Ronin/NOAA/TRAINING//cfrad.20230912_125142.074_to_20230912_125146.052_N43RF-TM_AIR.nc in 1.1909410953521729 seconds"
     ]
    },
    {
     "name": "stdout",
     "output_type": "stream",
     "text": [
      "\n",
      "Processed /Users/ischluesche/Documents/Grad_School/Research/Ronin/NOAA/TRAINING//cfrad.20230912_125150.364_to_20230912_125154.342_N43RF-TS_AIR.nc in 0.8074359893798828 seconds"
     ]
    },
    {
     "name": "stdout",
     "output_type": "stream",
     "text": [
      "\n",
      "Processed /Users/ischluesche/Documents/Grad_School/Research/Ronin/NOAA/TRAINING//cfrad.20230912_125154.713_to_20230912_125158.685_N43RF-TM_AIR.nc in 0.7863731384277344 seconds"
     ]
    },
    {
     "name": "stdout",
     "output_type": "stream",
     "text": [
      "\n",
      "Processed /Users/ischluesche/Documents/Grad_School/Research/Ronin/NOAA/TRAINING//cfrad.20230912_125206.075_to_20230912_125210.054_N43RF-TS_AIR.nc in 0.7957601547241211 seconds"
     ]
    },
    {
     "name": "stdout",
     "output_type": "stream",
     "text": [
      "\n",
      "Processed /Users/ischluesche/Documents/Grad_School/Research/Ronin/NOAA/TRAINING//cfrad.20230912_125219.978_to_20230912_125223.957_N43RF-TM_AIR.nc in 1.139357089996338 seconds"
     ]
    },
    {
     "name": "stdout",
     "output_type": "stream",
     "text": [
      "\n",
      "Processed /Users/ischluesche/Documents/Grad_School/Research/Ronin/NOAA/TRAINING//cfrad.20230912_125221.758_to_20230912_125225.743_N43RF-TS_AIR.nc in 1.0512909889221191 seconds"
     ]
    },
    {
     "name": "stdout",
     "output_type": "stream",
     "text": [
      "\n",
      "Processed /Users/ischluesche/Documents/Grad_School/Research/Ronin/NOAA/TRAINING//cfrad.20230912_125232.623_to_20230912_125236.595_N43RF-TM_AIR.nc in 0.982274055480957 seconds"
     ]
    },
    {
     "name": "stdout",
     "output_type": "stream",
     "text": [
      "\n",
      "Processed /Users/ischluesche/Documents/Grad_School/Research/Ronin/NOAA/TRAINING//cfrad.20230912_125237.407_to_20230912_125241.385_N43RF-TS_AIR.nc in 0.9482519626617432 seconds"
     ]
    },
    {
     "name": "stdout",
     "output_type": "stream",
     "text": [
      "\n",
      "Processed /Users/ischluesche/Documents/Grad_School/Research/Ronin/NOAA/TRAINING//cfrad.20230912_125245.256_to_20230912_125249.234_N43RF-TM_AIR.nc in 1.510758876800537 seconds"
     ]
    },
    {
     "name": "stdout",
     "output_type": "stream",
     "text": [
      "\n",
      "Processed /Users/ischluesche/Documents/Grad_School/Research/Ronin/NOAA/TRAINING//cfrad.20230912_125253.026_to_20230912_125257.005_N43RF-TS_AIR.nc in 0.8241069316864014 seconds"
     ]
    },
    {
     "name": "stdout",
     "output_type": "stream",
     "text": [
      "\n",
      "Processed /Users/ischluesche/Documents/Grad_School/Research/Ronin/NOAA/TRAINING//cfrad.20230912_125257.894_to_20230912_125301.873_N43RF-TM_AIR.nc in 0.7615938186645508 seconds"
     ]
    },
    {
     "name": "stdout",
     "output_type": "stream",
     "text": [
      "\n",
      "Processed /Users/ischluesche/Documents/Grad_School/Research/Ronin/NOAA/TRAINING//cfrad.20230912_125308.744_to_20230912_125312.728_N43RF-TS_AIR.nc in 0.8684988021850586 seconds"
     ]
    },
    {
     "name": "stdout",
     "output_type": "stream",
     "text": [
      "\n",
      "Processed /Users/ischluesche/Documents/Grad_School/Research/Ronin/NOAA/TRAINING//cfrad.20230912_125310.533_to_20230912_125314.511_N43RF-TM_AIR.nc in 1.0380089282989502 seconds"
     ]
    },
    {
     "name": "stdout",
     "output_type": "stream",
     "text": [
      "\n",
      "Processed /Users/ischluesche/Documents/Grad_School/Research/Ronin/NOAA/TRAINING//cfrad.20230912_125324.364_to_20230912_125328.336_N43RF-TS_AIR.nc in 0.8806469440460205 seconds"
     ]
    },
    {
     "name": "stdout",
     "output_type": "stream",
     "text": [
      "\n",
      "Processed /Users/ischluesche/Documents/Grad_School/Research/Ronin/NOAA/TRAINING//cfrad.20230912_125335.816_to_20230912_125339.789_N43RF-TM_AIR.nc in 0.9267439842224121 seconds"
     ]
    },
    {
     "name": "stdout",
     "output_type": "stream",
     "text": [
      "\n",
      "Processed /Users/ischluesche/Documents/Grad_School/Research/Ronin/NOAA/TRAINING//cfrad.20230912_125339.989_to_20230912_125343.967_N43RF-TS_AIR.nc in 0.8385450839996338 seconds"
     ]
    },
    {
     "name": "stdout",
     "output_type": "stream",
     "text": [
      "\n",
      "Processed /Users/ischluesche/Documents/Grad_School/Research/Ronin/NOAA/TRAINING//cfrad.20230912_125348.455_to_20230912_125352.427_N43RF-TM_AIR.nc in 0.8766582012176514 seconds"
     ]
    },
    {
     "name": "stdout",
     "output_type": "stream",
     "text": [
      "\n",
      "Processed /Users/ischluesche/Documents/Grad_School/Research/Ronin/NOAA/TRAINING//cfrad.20230912_125355.689_to_20230912_125359.668_N43RF-TS_AIR.nc in 0.9896268844604492 seconds"
     ]
    },
    {
     "name": "stdout",
     "output_type": "stream",
     "text": [
      "\n",
      "Processed /Users/ischluesche/Documents/Grad_School/Research/Ronin/NOAA/TRAINING//cfrad.20230912_125401.088_to_20230912_125405.066_N43RF-TM_AIR.nc in 0.9530057907104492 seconds"
     ]
    },
    {
     "name": "stdout",
     "output_type": "stream",
     "text": [
      "\n",
      "Processed /Users/ischluesche/Documents/Grad_School/Research/Ronin/NOAA/TRAINING//cfrad.20230912_125411.332_to_20230912_125415.310_N43RF-TS_AIR.nc in 0.9032468795776367 seconds"
     ]
    },
    {
     "name": "stdout",
     "output_type": "stream",
     "text": [
      "\n",
      "Processed /Users/ischluesche/Documents/Grad_School/Research/Ronin/NOAA/TRAINING//cfrad.20230912_125413.726_to_20230912_125417.710_N43RF-TM_AIR.nc in 0.9127528667449951 seconds"
     ]
    },
    {
     "name": "stdout",
     "output_type": "stream",
     "text": [
      "\n",
      "Processed /Users/ischluesche/Documents/Grad_School/Research/Ronin/NOAA/TRAINING//cfrad.20230912_125426.371_to_20230912_125430.343_N43RF-TM_AIR.nc in 1.2352299690246582 seconds"
     ]
    },
    {
     "name": "stdout",
     "output_type": "stream",
     "text": [
      "\n",
      "Processed /Users/ischluesche/Documents/Grad_School/Research/Ronin/NOAA/TRAINING//cfrad.20230912_125439.009_to_20230912_125442.982_N43RF-TM_AIR.nc in 0.9780669212341309 seconds"
     ]
    },
    {
     "name": "stdout",
     "output_type": "stream",
     "text": [
      "\n",
      "Processed /Users/ischluesche/Documents/Grad_School/Research/Ronin/NOAA/TRAINING//cfrad.20230912_125442.663_to_20230912_125446.647_N43RF-TS_AIR.nc in 0.9884951114654541 seconds"
     ]
    },
    {
     "name": "stdout",
     "output_type": "stream",
     "text": [
      "\n",
      "Processed /Users/ischluesche/Documents/Grad_School/Research/Ronin/NOAA/TRAINING//cfrad.20230912_125451.648_to_20230912_125455.621_N43RF-TM_AIR.nc in 1.0862739086151123 seconds"
     ]
    },
    {
     "name": "stdout",
     "output_type": "stream",
     "text": [
      "\n",
      "Processed /Users/ischluesche/Documents/Grad_School/Research/Ronin/NOAA/TRAINING//cfrad.20230912_125458.352_to_20230912_125502.330_N43RF-TS_AIR.nc in 0.9386811256408691 seconds"
     ]
    },
    {
     "name": "stdout",
     "output_type": "stream",
     "text": [
      "\n",
      "Processed /Users/ischluesche/Documents/Grad_School/Research/Ronin/NOAA/TRAINING//cfrad.20230912_125504.287_to_20230912_125508.265_N43RF-TM_AIR.nc in 1.723891019821167 seconds"
     ]
    },
    {
     "name": "stdout",
     "output_type": "stream",
     "text": [
      "\n",
      "Processed /Users/ischluesche/Documents/Grad_School/Research/Ronin/NOAA/TRAINING//cfrad.20230912_125514.029_to_20230912_125518.008_N43RF-TS_AIR.nc in 1.0823290348052979 seconds"
     ]
    },
    {
     "name": "stdout",
     "output_type": "stream",
     "text": [
      "\n",
      "Processed /Users/ischluesche/Documents/Grad_School/Research/Ronin/NOAA/TRAINING//cfrad.20230912_125516.925_to_20230912_125520.898_N43RF-TM_AIR.nc in 0.9679670333862305 seconds"
     ]
    },
    {
     "name": "stdout",
     "output_type": "stream",
     "text": [
      "\n",
      "Processed /Users/ischluesche/Documents/Grad_School/Research/Ronin/NOAA/TRAINING//cfrad.20230912_125529.564_to_20230912_125533.537_N43RF-TM_AIR.nc in 1.2777349948883057 seconds"
     ]
    },
    {
     "name": "stdout",
     "output_type": "stream",
     "text": [
      "\n",
      "Processed /Users/ischluesche/Documents/Grad_School/Research/Ronin/NOAA/TRAINING//cfrad.20230912_125529.631_to_20230912_125533.604_N43RF-TS_AIR.nc in 0.9220070838928223 seconds"
     ]
    },
    {
     "name": "stdout",
     "output_type": "stream",
     "text": [
      "\n",
      "Processed /Users/ischluesche/Documents/Grad_School/Research/Ronin/NOAA/TRAINING//cfrad.20230912_125545.228_to_20230912_125549.201_N43RF-TS_AIR.nc in 0.9639360904693604 seconds"
     ]
    },
    {
     "name": "stdout",
     "output_type": "stream",
     "text": [
      "\n",
      "Processed /Users/ischluesche/Documents/Grad_School/Research/Ronin/NOAA/TRAINING//cfrad.20230912_125554.841_to_20230912_125558.814_N43RF-TM_AIR.nc in 0.9254610538482666 seconds"
     ]
    },
    {
     "name": "stdout",
     "output_type": "stream",
     "text": [
      "\n",
      "Processed /Users/ischluesche/Documents/Grad_School/Research/Ronin/NOAA/TRAINING//cfrad.20230912_125600.790_to_20230912_125604.768_N43RF-TS_AIR.nc in 0.9765238761901855 seconds"
     ]
    },
    {
     "name": "stdout",
     "output_type": "stream",
     "text": [
      "\n",
      "Processed /Users/ischluesche/Documents/Grad_School/Research/Ronin/NOAA/TRAINING//cfrad.20230912_125607.480_to_20230912_125611.453_N43RF-TM_AIR.nc in 0.917935848236084 seconds"
     ]
    },
    {
     "name": "stdout",
     "output_type": "stream",
     "text": [
      "\n",
      "Processed /Users/ischluesche/Documents/Grad_School/Research/Ronin/NOAA/TRAINING//cfrad.20230912_125616.398_to_20230912_125620.382_N43RF-TS_AIR.nc in 0.7291028499603271 seconds"
     ]
    },
    {
     "name": "stdout",
     "output_type": "stream",
     "text": [
      "\n",
      "Processed /Users/ischluesche/Documents/Grad_School/Research/Ronin/NOAA/TRAINING//cfrad.20230912_125620.119_to_20230912_125624.097_N43RF-TM_AIR.nc in 0.9147570133209229 seconds"
     ]
    },
    {
     "name": "stdout",
     "output_type": "stream",
     "text": [
      "\n",
      "Processed /Users/ischluesche/Documents/Grad_School/Research/Ronin/NOAA/TRAINING//cfrad.20230912_125632.000_to_20230912_125635.979_N43RF-TS_AIR.nc in 0.9430820941925049 seconds"
     ]
    },
    {
     "name": "stdout",
     "output_type": "stream",
     "text": [
      "\n",
      "Processed /Users/ischluesche/Documents/Grad_School/Research/Ronin/NOAA/TRAINING//cfrad.20230912_125632.757_to_20230912_125636.730_N43RF-TM_AIR.nc in 1.060426950454712 seconds"
     ]
    },
    {
     "name": "stdout",
     "output_type": "stream",
     "text": [
      "\n",
      "Processed /Users/ischluesche/Documents/Grad_School/Research/Ronin/NOAA/TRAINING//cfrad.20230912_125645.396_to_20230912_125649.374_N43RF-TM_AIR.nc in 1.2290310859680176 seconds"
     ]
    },
    {
     "name": "stdout",
     "output_type": "stream",
     "text": [
      "\n",
      "Processed /Users/ischluesche/Documents/Grad_School/Research/Ronin/NOAA/TRAINING//cfrad.20230912_125658.034_to_20230912_125702.013_N43RF-TM_AIR.nc in 1.0517940521240234 seconds"
     ]
    },
    {
     "name": "stdout",
     "output_type": "stream",
     "text": [
      "\n",
      "Processed /Users/ischluesche/Documents/Grad_School/Research/Ronin/NOAA/TRAINING//cfrad.20230912_125703.320_to_20230912_125707.299_N43RF-TS_AIR.nc in 0.9846289157867432 seconds"
     ]
    },
    {
     "name": "stdout",
     "output_type": "stream",
     "text": [
      "\n",
      "Processed /Users/ischluesche/Documents/Grad_School/Research/Ronin/NOAA/TRAINING//cfrad.20230912_125710.673_to_20230912_125714.652_N43RF-TM_AIR.nc in 0.9013791084289551 seconds"
     ]
    },
    {
     "name": "stdout",
     "output_type": "stream",
     "text": [
      "\n",
      "Processed /Users/ischluesche/Documents/Grad_School/Research/Ronin/NOAA/TRAINING//cfrad.20230912_125718.940_to_20230912_125722.918_N43RF-TS_AIR.nc in 1.1051571369171143 seconds"
     ]
    },
    {
     "name": "stdout",
     "output_type": "stream",
     "text": [
      "\n",
      "Processed /Users/ischluesche/Documents/Grad_School/Research/Ronin/NOAA/TRAINING//cfrad.20230912_125723.312_to_20230912_125727.284_N43RF-TM_AIR.nc in 0.9375171661376953 seconds"
     ]
    },
    {
     "name": "stdout",
     "output_type": "stream",
     "text": [
      "\n",
      "Processed /Users/ischluesche/Documents/Grad_School/Research/Ronin/NOAA/TRAINING//cfrad.20230912_125734.628_to_20230912_125738.607_N43RF-TS_AIR.nc in 0.9174840450286865 seconds"
     ]
    },
    {
     "name": "stdout",
     "output_type": "stream",
     "text": [
      "\n",
      "Processed /Users/ischluesche/Documents/Grad_School/Research/Ronin/NOAA/TRAINING//cfrad.20230912_125735.945_to_20230912_125739.929_N43RF-TM_AIR.nc in 0.9968600273132324 seconds"
     ]
    },
    {
     "name": "stdout",
     "output_type": "stream",
     "text": [
      "\n",
      "Processed /Users/ischluesche/Documents/Grad_School/Research/Ronin/NOAA/TRAINING//cfrad.20230912_125748.589_to_20230912_125752.562_N43RF-TM_AIR.nc in 1.1490280628204346 seconds"
     ]
    },
    {
     "name": "stdout",
     "output_type": "stream",
     "text": [
      "\n",
      "Processed /Users/ischluesche/Documents/Grad_School/Research/Ronin/NOAA/TRAINING//cfrad.20230912_125750.231_to_20230912_125754.209_N43RF-TS_AIR.nc in 1.0108449459075928 seconds"
     ]
    },
    {
     "name": "stdout",
     "output_type": "stream",
     "text": [
      "\n",
      "Processed /Users/ischluesche/Documents/Grad_School/Research/Ronin/NOAA/TRAINING//cfrad.20230912_125805.891_to_20230912_125809.869_N43RF-TS_AIR.nc in 0.9121410846710205 seconds"
     ]
    },
    {
     "name": "stdout",
     "output_type": "stream",
     "text": [
      "\n",
      "Processed /Users/ischluesche/Documents/Grad_School/Research/Ronin/NOAA/TRAINING//cfrad.20230912_125813.866_to_20230912_125817.845_N43RF-TM_AIR.nc in 1.0487110614776611 seconds"
     ]
    },
    {
     "name": "stdout",
     "output_type": "stream",
     "text": [
      "\n",
      "Processed /Users/ischluesche/Documents/Grad_School/Research/Ronin/NOAA/TRAINING//cfrad.20230912_125821.493_to_20230912_125825.471_N43RF-TS_AIR.nc in 1.0358221530914307 seconds"
     ]
    },
    {
     "name": "stdout",
     "output_type": "stream",
     "text": [
      "\n",
      "Processed /Users/ischluesche/Documents/Grad_School/Research/Ronin/NOAA/TRAINING//cfrad.20230912_125826.505_to_20230912_125830.483_N43RF-TM_AIR.nc in 1.0795588493347168 seconds"
     ]
    },
    {
     "name": "stdout",
     "output_type": "stream",
     "text": [
      "\n",
      "Processed /Users/ischluesche/Documents/Grad_School/Research/Ronin/NOAA/TRAINING//cfrad.20230912_125837.084_to_20230912_125841.056_N43RF-TS_AIR.nc in 1.4449868202209473 seconds"
     ]
    },
    {
     "name": "stdout",
     "output_type": "stream",
     "text": [
      "\n",
      "Processed /Users/ischluesche/Documents/Grad_School/Research/Ronin/NOAA/TRAINING//cfrad.20230912_125839.155_to_20230912_125843.134_N43RF-TM_AIR.nc in 0.9662461280822754 seconds"
     ]
    },
    {
     "name": "stdout",
     "output_type": "stream",
     "text": [
      "\n",
      "Processed /Users/ischluesche/Documents/Grad_School/Research/Ronin/NOAA/TRAINING//cfrad.20230912_125851.794_to_20230912_125855.772_N43RF-TM_AIR.nc in 1.0938808917999268 seconds"
     ]
    },
    {
     "name": "stdout",
     "output_type": "stream",
     "text": [
      "\n",
      "Processed /Users/ischluesche/Documents/Grad_School/Research/Ronin/NOAA/TRAINING//cfrad.20230912_125852.680_to_20230912_125856.659_N43RF-TS_AIR.nc in 1.1667969226837158 seconds"
     ]
    },
    {
     "name": "stdout",
     "output_type": "stream",
     "text": [
      "\n",
      "Processed /Users/ischluesche/Documents/Grad_School/Research/Ronin/NOAA/TRAINING//cfrad.20230912_125904.444_to_20230912_125908.423_N43RF-TM_AIR.nc in 1.2406260967254639 seconds"
     ]
    },
    {
     "name": "stdout",
     "output_type": "stream",
     "text": [
      "\n",
      "Processed /Users/ischluesche/Documents/Grad_School/Research/Ronin/NOAA/TRAINING//cfrad.20230912_125917.083_to_20230912_125921.055_N43RF-TM_AIR.nc in 1.3284380435943604 seconds"
     ]
    },
    {
     "name": "stdout",
     "output_type": "stream",
     "text": [
      "\n",
      "Processed /Users/ischluesche/Documents/Grad_School/Research/Ronin/NOAA/TRAINING//cfrad.20230912_125924.006_to_20230912_125927.984_N43RF-TS_AIR.nc in 1.16361403465271 seconds"
     ]
    },
    {
     "name": "stdout",
     "output_type": "stream",
     "text": [
      "\n",
      "Processed /Users/ischluesche/Documents/Grad_School/Research/Ronin/NOAA/TRAINING//cfrad.20230912_125929.733_to_20230912_125933.711_N43RF-TM_AIR.nc in 1.4415781497955322 seconds"
     ]
    },
    {
     "name": "stdout",
     "output_type": "stream",
     "text": [
      "\n",
      "Processed /Users/ischluesche/Documents/Grad_School/Research/Ronin/NOAA/TRAINING//cfrad.20230912_125939.660_to_20230912_125943.644_N43RF-TS_AIR.nc in 1.1701931953430176 seconds"
     ]
    },
    {
     "name": "stdout",
     "output_type": "stream",
     "text": [
      "\n",
      "Processed /Users/ischluesche/Documents/Grad_School/Research/Ronin/NOAA/TRAINING//cfrad.20230912_125942.372_to_20230912_125946.350_N43RF-TM_AIR.nc in 1.8620970249176025 seconds"
     ]
    },
    {
     "name": "stdout",
     "output_type": "stream",
     "text": [
      "\n",
      "Processed /Users/ischluesche/Documents/Grad_School/Research/Ronin/NOAA/TRAINING//cfrad.20230912_125955.010_to_20230912_125958.989_N43RF-TM_AIR.nc in 1.0861358642578125 seconds"
     ]
    },
    {
     "name": "stdout",
     "output_type": "stream",
     "text": [
      "\n",
      "Processed /Users/ischluesche/Documents/Grad_School/Research/Ronin/NOAA/TRAINING//cfrad.20230912_125955.262_to_20230912_125959.241_N43RF-TS_AIR.nc in 0.9920201301574707 seconds"
     ]
    },
    {
     "name": "stdout",
     "output_type": "stream",
     "text": [
      "\n",
      "Processed /Users/ischluesche/Documents/Grad_School/Research/Ronin/NOAA/TRAINING//cfrad.20230912_130007.649_to_20230912_130011.627_N43RF-TM_AIR.nc in 1.104895830154419 seconds"
     ]
    },
    {
     "name": "stdout",
     "output_type": "stream",
     "text": [
      "\n",
      "Processed /Users/ischluesche/Documents/Grad_School/Research/Ronin/NOAA/TRAINING//cfrad.20230912_130010.905_to_20230912_130014.883_N43RF-TS_AIR.nc in 1.2454488277435303 seconds"
     ]
    },
    {
     "name": "stdout",
     "output_type": "stream",
     "text": [
      "\n",
      "Processed /Users/ischluesche/Documents/Grad_School/Research/Ronin/NOAA/TRAINING//cfrad.20230912_130026.525_to_20230912_130030.509_N43RF-TS_AIR.nc in 0.9983420372009277 seconds"
     ]
    },
    {
     "name": "stdout",
     "output_type": "stream",
     "text": [
      "\n",
      "Processed /Users/ischluesche/Documents/Grad_School/Research/Ronin/NOAA/TRAINING//cfrad.20230912_130032.926_to_20230912_130036.899_N43RF-TM_AIR.nc in 0.9004769325256348 seconds"
     ]
    },
    {
     "name": "stdout",
     "output_type": "stream",
     "text": [
      "\n",
      "Processed /Users/ischluesche/Documents/Grad_School/Research/Ronin/NOAA/TRAINING//cfrad.20230912_130042.179_to_20230912_130046.157_N43RF-TS_AIR.nc in 1.1404409408569336 seconds"
     ]
    },
    {
     "name": "stdout",
     "output_type": "stream",
     "text": [
      "\n",
      "Processed /Users/ischluesche/Documents/Grad_School/Research/Ronin/NOAA/TRAINING//cfrad.20230912_130045.565_to_20230912_130049.543_N43RF-TM_AIR.nc in 1.4272258281707764 seconds"
     ]
    },
    {
     "name": "stdout",
     "output_type": "stream",
     "text": [
      "\n",
      "Processed /Users/ischluesche/Documents/Grad_School/Research/Ronin/NOAA/TRAINING//cfrad.20230912_130057.752_to_20230912_130101.736_N43RF-TS_AIR.nc in 1.2766039371490479 seconds"
     ]
    },
    {
     "name": "stdout",
     "output_type": "stream",
     "text": [
      "\n",
      "Processed /Users/ischluesche/Documents/Grad_School/Research/Ronin/NOAA/TRAINING//cfrad.20230912_130058.204_to_20230912_130102.176_N43RF-TM_AIR.nc in 1.3607618808746338 seconds"
     ]
    },
    {
     "name": "stdout",
     "output_type": "stream",
     "text": [
      "\n",
      "Processed /Users/ischluesche/Documents/Grad_School/Research/Ronin/NOAA/TRAINING//cfrad.20230912_130110.842_to_20230912_130114.821_N43RF-TM_AIR.nc in 0.933953046798706 seconds"
     ]
    },
    {
     "name": "stdout",
     "output_type": "stream",
     "text": [
      "\n",
      "Processed /Users/ischluesche/Documents/Grad_School/Research/Ronin/NOAA/TRAINING//cfrad.20230912_130113.331_to_20230912_130117.316_N43RF-TS_AIR.nc in 0.8876469135284424 seconds"
     ]
    }
   ],
   "source": [
    "###Train composite model! \n",
    "train_multi_model(config)  "
   ]
  },
  {
   "attachments": {},
   "cell_type": "markdown",
   "metadata": {},
   "source": [
    "# 4) Verify the efficacy of the model on the testing dataset \n",
    "___\n",
    "We'll begin by setting up another `ModelConfig` struct, but this time substituting the path to the testing data for `input_path` "
   ]
  },
  {
   "cell_type": "code",
   "execution_count": 5,
   "metadata": {},
   "outputs": [
    {
     "data": {
      "text/plain": [
       "ModelConfig(2, [\"raw_model_0.jld2\", \"raw_model_1.jld2\"], [0.1, 0.3], [\"output_features_0.h5\", \"output_features_1.h5\"], \"/Users/ischluesche/Documents/Grad_School/Research/Ronin/NOAA/TESTING/\", \"./NOAA_all_params.txt\", Bool[0, 0], true, true, true, true, \"VG\", \"VEL\", false, true, false, \"VEL_QC\", [\"VEL\"], \"_QC\", \"balanced\", 21, 14)"
      ]
     },
     "execution_count": 5,
     "metadata": {},
     "output_type": "execute_result"
    }
   ],
   "source": [
    "###Switch input data to testing set \n",
    "config.input_path = TESTING_PATH\n",
    "###Let's also dial up the final met probs a bit to ensure the greatest amount of NMD removal possible \n",
    "config.met_probs = [inital_met_prob, (.1, .95)]\n"
   ]
  },
  {
   "attachments": {},
   "cell_type": "markdown",
   "metadata": {},
   "source": [
    "## Now, call the `composite_prediction` function"
   ]
  },
  {
   "cell_type": "code",
   "execution_count": 32,
   "metadata": {},
   "outputs": [
    {
     "name": "stdout",
     "output_type": "stream",
     "text": [
      "ERROR: POTENTIALLY INVALID FILE FORMAT FOR FILE: .tmp_hawkedit\n",
      "\u001b[32mLOADING MODELS....\u001b[39m\n",
      "INPUT_SET NCDatasets.NCDataset{Nothing, Missing}, VAR: StringAlready exists... overwriting\n",
      "\n",
      "Completed in 1.0272529125213623 seconds\n",
      "\n",
      "\u001b[32mREMOVED 6845 PRESUMED NON-METEORLOGICAL DATAPOINTS\u001b[39m\n",
      "FINAL COUNT OF DATAPOINTS IN VEL: 61392\n",
      "INPUT_SET NCDatasets.NCDataset{Nothing, Missing}, VAR: StringAlready exists... overwriting\n",
      "\n",
      "Completed in 0.6780979633331299 seconds\n",
      "\n",
      "\u001b[32mREMOVED 4018 PRESUMED NON-METEORLOGICAL DATAPOINTS\u001b[39m\n",
      "FINAL COUNT OF DATAPOINTS IN VEL: 57374\n",
      "INPUT_SET NCDatasets.NCDataset{Nothing, Missing}, VAR: StringAlready exists... overwriting\n",
      "\n",
      "Completed in 0.6792428493499756 seconds\n",
      "\n",
      "\u001b[32mREMOVED 7325 PRESUMED NON-METEORLOGICAL DATAPOINTS\u001b[39m\n",
      "FINAL COUNT OF DATAPOINTS IN VEL: 63586\n",
      "INPUT_SET NCDatasets.NCDataset{Nothing, Missing}, VAR: StringAlready exists... overwriting\n",
      "\n",
      "Completed in 0.6735668182373047 seconds\n",
      "\n",
      "\u001b[32mREMOVED 3384 PRESUMED NON-METEORLOGICAL DATAPOINTS\u001b[39m\n",
      "FINAL COUNT OF DATAPOINTS IN VEL: 60202\n",
      "INPUT_SET NCDatasets.NCDataset{Nothing, Missing}, VAR: StringAlready exists... overwriting\n",
      "\n",
      "Completed in 0.6608099937438965 seconds\n",
      "\n",
      "\u001b[32mREMOVED 6808 PRESUMED NON-METEORLOGICAL DATAPOINTS\u001b[39m\n",
      "FINAL COUNT OF DATAPOINTS IN VEL: 61631\n",
      "INPUT_SET NCDatasets.NCDataset{Nothing, Missing}, VAR: StringAlready exists... overwriting\n",
      "\n",
      "Completed in 0.6579568386077881 seconds\n",
      "\n",
      "\u001b[32mREMOVED 4106 PRESUMED NON-METEORLOGICAL DATAPOINTS\u001b[39m\n",
      "FINAL COUNT OF DATAPOINTS IN VEL: 57525\n",
      "INPUT_SET NCDatasets.NCDataset{Nothing, Missing}, VAR: StringAlready exists... overwriting\n",
      "\n",
      "Completed in 0.6730659008026123 seconds\n",
      "\n",
      "\u001b[32mREMOVED 7183 PRESUMED NON-METEORLOGICAL DATAPOINTS\u001b[39m\n",
      "FINAL COUNT OF DATAPOINTS IN VEL: 63897\n",
      "INPUT_SET NCDatasets.NCDataset{Nothing, Missing}, VAR: StringAlready exists... overwriting\n",
      "\n",
      "Completed in 0.6667580604553223 seconds\n",
      "\n",
      "\u001b[32mREMOVED 3227 PRESUMED NON-METEORLOGICAL DATAPOINTS\u001b[39m\n",
      "FINAL COUNT OF DATAPOINTS IN VEL: 60670\n",
      "INPUT_SET NCDatasets.NCDataset{Nothing, Missing}, VAR: StringAlready exists... overwriting\n",
      "\n",
      "Completed in 0.6466341018676758 seconds\n",
      "\n",
      "\u001b[32mREMOVED 6676 PRESUMED NON-METEORLOGICAL DATAPOINTS\u001b[39m\n",
      "FINAL COUNT OF DATAPOINTS IN VEL: 61990\n",
      "INPUT_SET NCDatasets.NCDataset{Nothing, Missing}, VAR: StringAlready exists... overwriting\n",
      "\n",
      "Completed in 0.6892960071563721 seconds\n",
      "\n",
      "\u001b[32mREMOVED 3662 PRESUMED NON-METEORLOGICAL DATAPOINTS\u001b[39m\n",
      "FINAL COUNT OF DATAPOINTS IN VEL: 58328\n",
      "INPUT_SET NCDatasets.NCDataset{Nothing, Missing}, VAR: StringAlready exists... overwriting\n",
      "\n",
      "Completed in 0.7068920135498047 seconds\n",
      "\n",
      "\u001b[32mREMOVED 7164 PRESUMED NON-METEORLOGICAL DATAPOINTS\u001b[39m\n",
      "FINAL COUNT OF DATAPOINTS IN VEL: 64718\n",
      "INPUT_SET NCDatasets.NCDataset{Nothing, Missing}, VAR: StringAlready exists... overwriting\n",
      "\n",
      "Completed in 0.6501049995422363 seconds\n",
      "\n",
      "\u001b[32mREMOVED 3495 PRESUMED NON-METEORLOGICAL DATAPOINTS\u001b[39m\n",
      "FINAL COUNT OF DATAPOINTS IN VEL: 61223\n",
      "INPUT_SET NCDatasets.NCDataset{Nothing, Missing}, VAR: StringAlready exists... overwriting\n",
      "\n",
      "Completed in 0.65460205078125 seconds\n",
      "\n",
      "\u001b[32mREMOVED 6534 PRESUMED NON-METEORLOGICAL DATAPOINTS\u001b[39m\n",
      "FINAL COUNT OF DATAPOINTS IN VEL: 62288\n",
      "INPUT_SET NCDatasets.NCDataset{Nothing, Missing}, VAR: StringAlready exists... overwriting\n",
      "\n",
      "Completed in 0.6648271083831787 seconds\n",
      "\n",
      "\u001b[32mREMOVED 3170 PRESUMED NON-METEORLOGICAL DATAPOINTS\u001b[39m\n",
      "FINAL COUNT OF DATAPOINTS IN VEL: 59118\n",
      "INPUT_SET NCDatasets.NCDataset{Nothing, Missing}, VAR: StringAlready exists... overwriting\n",
      "\n",
      "Completed in 0.6582691669464111 seconds\n",
      "\n",
      "\u001b[32mREMOVED 7384 PRESUMED NON-METEORLOGICAL DATAPOINTS\u001b[39m\n",
      "FINAL COUNT OF DATAPOINTS IN VEL: 65001\n",
      "INPUT_SET NCDatasets.NCDataset{Nothing, Missing}, VAR: StringAlready exists... overwriting\n",
      "\n",
      "Completed in 0.6424961090087891 seconds\n",
      "\n",
      "\u001b[32mREMOVED 3670 PRESUMED NON-METEORLOGICAL DATAPOINTS\u001b[39m\n",
      "FINAL COUNT OF DATAPOINTS IN VEL: 61331\n",
      "INPUT_SET NCDatasets.NCDataset{Nothing, Missing}, VAR: StringAlready exists... overwriting\n",
      "\n",
      "Completed in 0.6812679767608643 seconds\n",
      "\n",
      "\u001b[32mREMOVED 6791 PRESUMED NON-METEORLOGICAL DATAPOINTS\u001b[39m\n",
      "FINAL COUNT OF DATAPOINTS IN VEL: 63150\n",
      "INPUT_SET NCDatasets.NCDataset{Nothing, Missing}, VAR: StringAlready exists... overwriting\n",
      "\n",
      "Completed in 0.6831088066101074 seconds\n",
      "\n",
      "\u001b[32mREMOVED 3628 PRESUMED NON-METEORLOGICAL DATAPOINTS\u001b[39m\n",
      "FINAL COUNT OF DATAPOINTS IN VEL: 59522\n",
      "INPUT_SET NCDatasets.NCDataset{Nothing, Missing}, VAR: StringAlready exists... overwriting\n",
      "\n",
      "Completed in 0.6584281921386719 seconds\n",
      "\n",
      "\u001b[32mREMOVED 7193 PRESUMED NON-METEORLOGICAL DATAPOINTS\u001b[39m\n",
      "FINAL COUNT OF DATAPOINTS IN VEL: 62827\n",
      "INPUT_SET NCDatasets.NCDataset{Nothing, Missing}, VAR: StringAlready exists... overwriting\n",
      "\n",
      "Completed in 0.6961350440979004 seconds\n",
      "\n",
      "\u001b[32mREMOVED 3254 PRESUMED NON-METEORLOGICAL DATAPOINTS\u001b[39m\n",
      "FINAL COUNT OF DATAPOINTS IN VEL: 59573\n",
      "INPUT_SET NCDatasets.NCDataset{Nothing, Missing}, VAR: StringAlready exists... overwriting\n",
      "\n",
      "Completed in 0.7045300006866455 seconds\n",
      "\n",
      "\u001b[32mREMOVED 6478 PRESUMED NON-METEORLOGICAL DATAPOINTS\u001b[39m\n",
      "FINAL COUNT OF DATAPOINTS IN VEL: 61881\n",
      "INPUT_SET NCDatasets.NCDataset{Nothing, Missing}, VAR: StringAlready exists... overwriting\n",
      "\n",
      "Completed in 0.6723589897155762 seconds\n",
      "\n",
      "\u001b[32mREMOVED 3514 PRESUMED NON-METEORLOGICAL DATAPOINTS\u001b[39m\n",
      "FINAL COUNT OF DATAPOINTS IN VEL: 58367\n",
      "INPUT_SET NCDatasets.NCDataset{Nothing, Missing}, VAR: StringAlready exists... overwriting\n",
      "\n",
      "Completed in 0.6702251434326172 seconds\n",
      "\n",
      "\u001b[32mREMOVED 7595 PRESUMED NON-METEORLOGICAL DATAPOINTS\u001b[39m\n",
      "FINAL COUNT OF DATAPOINTS IN VEL: 64161\n",
      "INPUT_SET NCDatasets.NCDataset{Nothing, Missing}, VAR: StringAlready exists... overwriting\n",
      "\n",
      "Completed in 0.6662919521331787 seconds\n",
      "\n",
      "\u001b[32mREMOVED 3921 PRESUMED NON-METEORLOGICAL DATAPOINTS\u001b[39m\n",
      "FINAL COUNT OF DATAPOINTS IN VEL: 60240\n",
      "INPUT_SET NCDatasets.NCDataset{Nothing, Missing}, VAR: StringAlready exists... overwriting\n",
      "\n",
      "Completed in 0.6860430240631104 seconds\n",
      "\n",
      "\u001b[32mREMOVED 6736 PRESUMED NON-METEORLOGICAL DATAPOINTS\u001b[39m\n",
      "FINAL COUNT OF DATAPOINTS IN VEL: 61953\n",
      "INPUT_SET NCDatasets.NCDataset{Nothing, Missing}, VAR: StringAlready exists... overwriting\n",
      "\n",
      "Completed in 0.6845319271087646 seconds\n",
      "\n",
      "\u001b[32mREMOVED 3789 PRESUMED NON-METEORLOGICAL DATAPOINTS\u001b[39m\n",
      "FINAL COUNT OF DATAPOINTS IN VEL: 58164\n",
      "INPUT_SET NCDatasets.NCDataset{Nothing, Missing}, VAR: StringAlready exists... overwriting\n",
      "\n",
      "Completed in 0.6537570953369141 seconds\n",
      "\n",
      "\u001b[32mREMOVED 7756 PRESUMED NON-METEORLOGICAL DATAPOINTS\u001b[39m\n",
      "FINAL COUNT OF DATAPOINTS IN VEL: 64151\n",
      "INPUT_SET NCDatasets.NCDataset{Nothing, Missing}, VAR: StringAlready exists... overwriting\n",
      "\n",
      "Completed in 0.6883981227874756 seconds\n",
      "\n",
      "\u001b[32mREMOVED 4433 PRESUMED NON-METEORLOGICAL DATAPOINTS\u001b[39m\n",
      "FINAL COUNT OF DATAPOINTS IN VEL: 59718\n",
      "INPUT_SET NCDatasets.NCDataset{Nothing, Missing}, VAR: StringAlready exists... overwriting\n",
      "\n",
      "Completed in 0.6770529747009277 seconds\n",
      "\n",
      "\u001b[32mREMOVED 6847 PRESUMED NON-METEORLOGICAL DATAPOINTS\u001b[39m\n",
      "FINAL COUNT OF DATAPOINTS IN VEL: 61399\n",
      "INPUT_SET NCDatasets.NCDataset{Nothing, Missing}, VAR: StringAlready exists... overwriting\n",
      "\n",
      "Completed in 0.7052850723266602 seconds\n",
      "\n",
      "\u001b[32mREMOVED 4660 PRESUMED NON-METEORLOGICAL DATAPOINTS\u001b[39m\n",
      "FINAL COUNT OF DATAPOINTS IN VEL: 56739\n",
      "INPUT_SET NCDatasets.NCDataset{Nothing, Missing}, VAR: StringAlready exists... overwriting\n",
      "\n",
      "Completed in 0.7216618061065674 seconds\n",
      "\n",
      "\u001b[32mREMOVED 7778 PRESUMED NON-METEORLOGICAL DATAPOINTS\u001b[39m\n",
      "FINAL COUNT OF DATAPOINTS IN VEL: 63371\n",
      "INPUT_SET NCDatasets.NCDataset{Nothing, Missing}, VAR: StringAlready exists... overwriting\n",
      "\n",
      "Completed in 0.6859939098358154 seconds\n",
      "\n",
      "\u001b[32mREMOVED 3989 PRESUMED NON-METEORLOGICAL DATAPOINTS\u001b[39m\n",
      "FINAL COUNT OF DATAPOINTS IN VEL: 59382\n",
      "INPUT_SET NCDatasets.NCDataset{Nothing, Missing}, VAR: StringAlready exists... overwriting\n",
      "\n",
      "Completed in 0.6777479648590088 seconds\n",
      "\n",
      "\u001b[32mREMOVED 6829 PRESUMED NON-METEORLOGICAL DATAPOINTS\u001b[39m\n",
      "FINAL COUNT OF DATAPOINTS IN VEL: 61578\n",
      "INPUT_SET NCDatasets.NCDataset{Nothing, Missing}, VAR: StringAlready exists... overwriting\n",
      "\n",
      "Completed in 0.6693940162658691 seconds\n",
      "\n",
      "\u001b[32mREMOVED 4665 PRESUMED NON-METEORLOGICAL DATAPOINTS\u001b[39m\n",
      "FINAL COUNT OF DATAPOINTS IN VEL: 56913\n",
      "INPUT_SET NCDatasets.NCDataset{Nothing, Missing}, VAR: StringAlready exists... overwriting\n",
      "\n",
      "Completed in 0.699470043182373 seconds\n",
      "\n",
      "\u001b[32mREMOVED 7652 PRESUMED NON-METEORLOGICAL DATAPOINTS\u001b[39m\n",
      "FINAL COUNT OF DATAPOINTS IN VEL: 63480\n",
      "INPUT_SET NCDatasets.NCDataset{Nothing, Missing}, VAR: StringAlready exists... overwriting\n",
      "\n",
      "Completed in 0.7606871128082275 seconds\n",
      "\n",
      "\u001b[32mREMOVED 4062 PRESUMED NON-METEORLOGICAL DATAPOINTS\u001b[39m\n",
      "FINAL COUNT OF DATAPOINTS IN VEL: 59418\n",
      "INPUT_SET NCDatasets.NCDataset{Nothing, Missing}, VAR: StringAlready exists... overwriting\n",
      "\n",
      "Completed in 0.6685080528259277 seconds\n",
      "\n",
      "\u001b[32mREMOVED 11641 PRESUMED NON-METEORLOGICAL DATAPOINTS\u001b[39m\n",
      "FINAL COUNT OF DATAPOINTS IN VEL: 37172\n",
      "INPUT_SET NCDatasets.NCDataset{Nothing, Missing}, VAR: StringAlready exists... overwriting\n",
      "\n",
      "Completed in 0.4594237804412842 seconds\n",
      "\n",
      "\u001b[32mREMOVED 7760 PRESUMED NON-METEORLOGICAL DATAPOINTS\u001b[39m\n",
      "FINAL COUNT OF DATAPOINTS IN VEL: 29412\n",
      "INPUT_SET NCDatasets.NCDataset{Nothing, Missing}, VAR: StringAlready exists... overwriting\n",
      "\n",
      "Completed in 0.7107269763946533 seconds\n",
      "\n",
      "\u001b[32mREMOVED 10353 PRESUMED NON-METEORLOGICAL DATAPOINTS\u001b[39m\n",
      "FINAL COUNT OF DATAPOINTS IN VEL: 43719\n",
      "INPUT_SET NCDatasets.NCDataset{Nothing, Missing}, VAR: StringAlready exists... overwriting\n",
      "\n",
      "Completed in 0.7473480701446533 seconds\n",
      "\n",
      "\u001b[32mREMOVED 7934 PRESUMED NON-METEORLOGICAL DATAPOINTS\u001b[39m\n",
      "FINAL COUNT OF DATAPOINTS IN VEL: 35785\n",
      "INPUT_SET NCDatasets.NCDataset{Nothing, Missing}, VAR: StringAlready exists... overwriting\n",
      "\n",
      "Completed in 0.7553730010986328 seconds\n",
      "\n",
      "\u001b[32mREMOVED 11763 PRESUMED NON-METEORLOGICAL DATAPOINTS\u001b[39m\n",
      "FINAL COUNT OF DATAPOINTS IN VEL: 37063\n",
      "INPUT_SET NCDatasets.NCDataset{Nothing, Missing}, VAR: StringAlready exists... overwriting\n",
      "\n",
      "Completed in 0.6979708671569824 seconds\n",
      "\n",
      "\u001b[32mREMOVED 8056 PRESUMED NON-METEORLOGICAL DATAPOINTS\u001b[39m\n",
      "FINAL COUNT OF DATAPOINTS IN VEL: 29007\n",
      "INPUT_SET NCDatasets.NCDataset{Nothing, Missing}, VAR: StringAlready exists... overwriting\n",
      "\n",
      "Completed in 0.6600980758666992 seconds\n",
      "\n",
      "\u001b[32mREMOVED 10155 PRESUMED NON-METEORLOGICAL DATAPOINTS\u001b[39m\n",
      "FINAL COUNT OF DATAPOINTS IN VEL: 43998\n",
      "INPUT_SET NCDatasets.NCDataset{Nothing, Missing}, VAR: StringAlready exists... overwriting\n",
      "\n",
      "Completed in 0.6843118667602539 seconds\n",
      "\n",
      "\u001b[32mREMOVED 7995 PRESUMED NON-METEORLOGICAL DATAPOINTS\u001b[39m\n",
      "FINAL COUNT OF DATAPOINTS IN VEL: 36003\n",
      "INPUT_SET NCDatasets.NCDataset{Nothing, Missing}, VAR: StringAlready exists... overwriting\n",
      "\n",
      "Completed in 0.6401100158691406 seconds\n",
      "\n",
      "\u001b[32mREMOVED 11752 PRESUMED NON-METEORLOGICAL DATAPOINTS\u001b[39m\n",
      "FINAL COUNT OF DATAPOINTS IN VEL: 34456\n",
      "INPUT_SET NCDatasets.NCDataset{Nothing, Missing}, VAR: StringAlready exists... overwriting\n",
      "\n",
      "Completed in 0.6426808834075928 seconds\n",
      "\n",
      "\u001b[32mREMOVED 7297 PRESUMED NON-METEORLOGICAL DATAPOINTS\u001b[39m\n",
      "FINAL COUNT OF DATAPOINTS IN VEL: 27159\n",
      "INPUT_SET NCDatasets.NCDataset{Nothing, Missing}, VAR: StringAlready exists... overwriting\n",
      "\n",
      "Completed in 0.6852319240570068 seconds\n",
      "\n",
      "\u001b[32mREMOVED 10719 PRESUMED NON-METEORLOGICAL DATAPOINTS\u001b[39m\n",
      "FINAL COUNT OF DATAPOINTS IN VEL: 44089\n",
      "INPUT_SET NCDatasets.NCDataset{Nothing, Missing}, VAR: StringAlready exists... overwriting\n",
      "\n",
      "Completed in 0.6709980964660645 seconds\n",
      "\n",
      "\u001b[32mREMOVED 8747 PRESUMED NON-METEORLOGICAL DATAPOINTS\u001b[39m\n",
      "FINAL COUNT OF DATAPOINTS IN VEL: 35342\n",
      "INPUT_SET NCDatasets.NCDataset{Nothing, Missing}, VAR: StringAlready exists... overwriting\n",
      "\n",
      "Completed in 0.6465280055999756 seconds\n",
      "\n",
      "\u001b[32mREMOVED 11338 PRESUMED NON-METEORLOGICAL DATAPOINTS\u001b[39m\n",
      "FINAL COUNT OF DATAPOINTS IN VEL: 32195\n",
      "INPUT_SET NCDatasets.NCDataset{Nothing, Missing}, VAR: StringAlready exists... overwriting\n",
      "\n",
      "Completed in 0.6667509078979492 seconds\n",
      "\n",
      "\u001b[32mREMOVED 6859 PRESUMED NON-METEORLOGICAL DATAPOINTS\u001b[39m\n",
      "FINAL COUNT OF DATAPOINTS IN VEL: 25336\n",
      "INPUT_SET NCDatasets.NCDataset{Nothing, Missing}, VAR: StringAlready exists... overwriting\n",
      "\n",
      "Completed in 0.7220218181610107 seconds\n",
      "\n",
      "\u001b[32mREMOVED 11015 PRESUMED NON-METEORLOGICAL DATAPOINTS\u001b[39m\n",
      "FINAL COUNT OF DATAPOINTS IN VEL: 41469\n",
      "INPUT_SET NCDatasets.NCDataset{Nothing, Missing}, VAR: StringAlready exists... overwriting\n",
      "\n",
      "Completed in 0.6673111915588379 seconds\n",
      "\n",
      "\u001b[32mREMOVED 8558 PRESUMED NON-METEORLOGICAL DATAPOINTS\u001b[39m\n",
      "FINAL COUNT OF DATAPOINTS IN VEL: 32911\n",
      "INPUT_SET NCDatasets.NCDataset{Nothing, Missing}, VAR: StringAlready exists... overwriting\n",
      "\n",
      "Completed in 0.6683468818664551 seconds\n",
      "\n",
      "\u001b[32mREMOVED 10699 PRESUMED NON-METEORLOGICAL DATAPOINTS\u001b[39m\n",
      "FINAL COUNT OF DATAPOINTS IN VEL: 29953\n",
      "INPUT_SET NCDatasets.NCDataset{Nothing, Missing}, VAR: StringAlready exists... overwriting\n",
      "\n",
      "Completed in 0.6604118347167969 seconds\n",
      "\n",
      "\u001b[32mREMOVED 6726 PRESUMED NON-METEORLOGICAL DATAPOINTS\u001b[39m\n",
      "FINAL COUNT OF DATAPOINTS IN VEL: 23227\n",
      "INPUT_SET NCDatasets.NCDataset{Nothing, Missing}, VAR: StringAlready exists... overwriting\n",
      "\n",
      "Completed in 0.6754031181335449 seconds\n",
      "\n",
      "\u001b[32mREMOVED 11113 PRESUMED NON-METEORLOGICAL DATAPOINTS\u001b[39m\n",
      "FINAL COUNT OF DATAPOINTS IN VEL: 40716\n",
      "INPUT_SET NCDatasets.NCDataset{Nothing, Missing}, VAR: StringAlready exists... overwriting\n",
      "\n",
      "Completed in 0.6590099334716797 seconds\n",
      "\n",
      "\u001b[32mREMOVED 8443 PRESUMED NON-METEORLOGICAL DATAPOINTS\u001b[39m\n",
      "FINAL COUNT OF DATAPOINTS IN VEL: 32273\n",
      "INPUT_SET NCDatasets.NCDataset{Nothing, Missing}, VAR: StringAlready exists... overwriting\n",
      "\n",
      "Completed in 0.6503839492797852 seconds\n",
      "\n",
      "\u001b[32mREMOVED 10031 PRESUMED NON-METEORLOGICAL DATAPOINTS\u001b[39m\n",
      "FINAL COUNT OF DATAPOINTS IN VEL: 28448\n",
      "INPUT_SET NCDatasets.NCDataset{Nothing, Missing}, VAR: StringAlready exists... overwriting\n",
      "\n",
      "Completed in 0.6342291831970215 seconds\n",
      "\n",
      "\u001b[32mREMOVED 6906 PRESUMED NON-METEORLOGICAL DATAPOINTS\u001b[39m\n",
      "FINAL COUNT OF DATAPOINTS IN VEL: 21542\n",
      "INPUT_SET NCDatasets.NCDataset{Nothing, Missing}, VAR: StringAlready exists... overwriting\n",
      "\n",
      "Completed in 0.6671268939971924 seconds\n",
      "\n",
      "\u001b[32mREMOVED 10809 PRESUMED NON-METEORLOGICAL DATAPOINTS\u001b[39m\n",
      "FINAL COUNT OF DATAPOINTS IN VEL: 38963\n",
      "INPUT_SET NCDatasets.NCDataset{Nothing, Missing}, VAR: StringAlready exists... overwriting\n",
      "\n",
      "Completed in 0.6906089782714844 seconds\n",
      "\n",
      "\u001b[32mREMOVED 8451 PRESUMED NON-METEORLOGICAL DATAPOINTS\u001b[39m\n",
      "FINAL COUNT OF DATAPOINTS IN VEL: 30512\n",
      "INPUT_SET NCDatasets.NCDataset{Nothing, Missing}, VAR: StringAlready exists... overwriting\n",
      "\n",
      "Completed in 0.6990659236907959 seconds\n",
      "\n",
      "\u001b[32mREMOVED 10311 PRESUMED NON-METEORLOGICAL DATAPOINTS\u001b[39m\n",
      "FINAL COUNT OF DATAPOINTS IN VEL: 24940\n",
      "INPUT_SET NCDatasets.NCDataset{Nothing, Missing}, VAR: StringAlready exists... overwriting\n",
      "\n",
      "Completed in 0.701099157333374 seconds\n",
      "\n",
      "\u001b[32mREMOVED 6045 PRESUMED NON-METEORLOGICAL DATAPOINTS\u001b[39m\n",
      "FINAL COUNT OF DATAPOINTS IN VEL: 18895\n",
      "INPUT_SET NCDatasets.NCDataset{Nothing, Missing}, VAR: StringAlready exists... overwriting\n",
      "\n",
      "Completed in 0.7762479782104492 seconds\n",
      "\n",
      "\u001b[32mREMOVED 10212 PRESUMED NON-METEORLOGICAL DATAPOINTS\u001b[39m\n",
      "FINAL COUNT OF DATAPOINTS IN VEL: 36272\n",
      "INPUT_SET NCDatasets.NCDataset{Nothing, Missing}, VAR: StringAlready exists... overwriting\n",
      "\n",
      "Completed in 0.7132039070129395 seconds\n",
      "\n",
      "\u001b[32mREMOVED 8181 PRESUMED NON-METEORLOGICAL DATAPOINTS\u001b[39m\n",
      "FINAL COUNT OF DATAPOINTS IN VEL: 28091\n",
      "INPUT_SET NCDatasets.NCDataset{Nothing, Missing}, VAR: StringAlready exists... overwriting\n",
      "\n",
      "Completed in 0.6446797847747803 seconds\n",
      "\n",
      "\u001b[32mREMOVED 9900 PRESUMED NON-METEORLOGICAL DATAPOINTS\u001b[39m\n",
      "FINAL COUNT OF DATAPOINTS IN VEL: 24053\n",
      "INPUT_SET NCDatasets.NCDataset{Nothing, Missing}, VAR: StringAlready exists... overwriting\n",
      "\n",
      "Completed in 0.4039947986602783 seconds\n",
      "\n",
      "\u001b[32mREMOVED 5851 PRESUMED NON-METEORLOGICAL DATAPOINTS\u001b[39m\n",
      "FINAL COUNT OF DATAPOINTS IN VEL: 18202\n",
      "INPUT_SET NCDatasets.NCDataset{Nothing, Missing}, VAR: StringAlready exists... overwriting\n",
      "\n",
      "Completed in 0.6547410488128662 seconds\n",
      "\n",
      "\u001b[32mREMOVED 10260 PRESUMED NON-METEORLOGICAL DATAPOINTS\u001b[39m\n",
      "FINAL COUNT OF DATAPOINTS IN VEL: 34461\n",
      "INPUT_SET NCDatasets.NCDataset{Nothing, Missing}, VAR: StringAlready exists... overwriting\n",
      "\n",
      "Completed in 0.6455421447753906 seconds\n",
      "\n",
      "\u001b[32mREMOVED 8141 PRESUMED NON-METEORLOGICAL DATAPOINTS\u001b[39m\n",
      "FINAL COUNT OF DATAPOINTS IN VEL: 26320\n",
      "INPUT_SET NCDatasets.NCDataset{Nothing, Missing}, VAR: StringAlready exists... overwriting\n",
      "\n",
      "Completed in 0.6245830059051514 seconds\n",
      "\n",
      "\u001b[32mREMOVED 9676 PRESUMED NON-METEORLOGICAL DATAPOINTS\u001b[39m\n",
      "FINAL COUNT OF DATAPOINTS IN VEL: 22573\n",
      "INPUT_SET NCDatasets.NCDataset{Nothing, Missing}, VAR: StringAlready exists... overwriting\n",
      "\n",
      "Completed in 0.40747594833374023 seconds\n",
      "\n",
      "\u001b[32mREMOVED 5583 PRESUMED NON-METEORLOGICAL DATAPOINTS\u001b[39m\n",
      "FINAL COUNT OF DATAPOINTS IN VEL: 16990\n",
      "INPUT_SET NCDatasets.NCDataset{Nothing, Missing}, VAR: StringAlready exists... overwriting\n",
      "\n",
      "Completed in 0.7987868785858154 seconds\n",
      "\n",
      "\u001b[32mREMOVED 10748 PRESUMED NON-METEORLOGICAL DATAPOINTS\u001b[39m\n",
      "FINAL COUNT OF DATAPOINTS IN VEL: 31995\n",
      "INPUT_SET NCDatasets.NCDataset{Nothing, Missing}, VAR: StringAlready exists... overwriting\n",
      "\n",
      "Completed in 0.8417649269104004 seconds\n",
      "\n",
      "\u001b[32mREMOVED 7465 PRESUMED NON-METEORLOGICAL DATAPOINTS\u001b[39m\n",
      "FINAL COUNT OF DATAPOINTS IN VEL: 24530\n",
      "INPUT_SET NCDatasets.NCDataset{Nothing, Missing}, VAR: StringAlready exists... overwriting\n",
      "\n",
      "Completed in 0.6194350719451904 seconds\n",
      "\n",
      "\u001b[32mREMOVED 10324 PRESUMED NON-METEORLOGICAL DATAPOINTS\u001b[39m\n",
      "FINAL COUNT OF DATAPOINTS IN VEL: 12097\n",
      "INPUT_SET NCDatasets.NCDataset{Nothing, Missing}, VAR: StringAlready exists... overwriting\n",
      "\n",
      "Completed in 0.41998291015625 seconds\n",
      "\n",
      "\u001b[32mREMOVED 4069 PRESUMED NON-METEORLOGICAL DATAPOINTS\u001b[39m\n",
      "FINAL COUNT OF DATAPOINTS IN VEL: 8028\n",
      "INPUT_SET NCDatasets.NCDataset{Nothing, Missing}, VAR: StringAlready exists... overwriting\n",
      "\n",
      "Completed in 0.7147347927093506 seconds\n",
      "\n",
      "\u001b[32mREMOVED 11884 PRESUMED NON-METEORLOGICAL DATAPOINTS\u001b[39m\n",
      "FINAL COUNT OF DATAPOINTS IN VEL: 14847\n",
      "INPUT_SET NCDatasets.NCDataset{Nothing, Missing}, VAR: StringAlready exists... overwriting\n",
      "\n",
      "Completed in 0.6926639080047607 seconds\n",
      "\n",
      "\u001b[32mREMOVED 5916 PRESUMED NON-METEORLOGICAL DATAPOINTS\u001b[39m\n",
      "FINAL COUNT OF DATAPOINTS IN VEL: 8931\n",
      "INPUT_SET NCDatasets.NCDataset{Nothing, Missing}, VAR: StringAlready exists... overwriting\n",
      "\n",
      "Completed in 0.8645431995391846 seconds\n",
      "\n",
      "\u001b[32mREMOVED 10383 PRESUMED NON-METEORLOGICAL DATAPOINTS\u001b[39m\n",
      "FINAL COUNT OF DATAPOINTS IN VEL: 11577\n",
      "INPUT_SET NCDatasets.NCDataset{Nothing, Missing}, VAR: StringAlready exists... overwriting\n",
      "\n",
      "Completed in 0.7035751342773438 seconds\n",
      "\n",
      "\u001b[32mREMOVED 4129 PRESUMED NON-METEORLOGICAL DATAPOINTS\u001b[39m\n",
      "FINAL COUNT OF DATAPOINTS IN VEL: 7448\n",
      "INPUT_SET NCDatasets.NCDataset{Nothing, Missing}, VAR: StringAlready exists... overwriting\n",
      "\n",
      "Completed in 0.6543560028076172 seconds\n",
      "\n",
      "\u001b[32mREMOVED 11913 PRESUMED NON-METEORLOGICAL DATAPOINTS\u001b[39m\n",
      "FINAL COUNT OF DATAPOINTS IN VEL: 14145\n",
      "INPUT_SET NCDatasets.NCDataset{Nothing, Missing}, VAR: StringAlready exists... overwriting\n",
      "\n",
      "Completed in 0.624567985534668 seconds\n",
      "\n",
      "\u001b[32mREMOVED 5784 PRESUMED NON-METEORLOGICAL DATAPOINTS\u001b[39m\n",
      "FINAL COUNT OF DATAPOINTS IN VEL: 8361\n",
      "INPUT_SET NCDatasets.NCDataset{Nothing, Missing}, VAR: StringAlready exists... overwriting\n",
      "\n",
      "Completed in 0.6254711151123047 seconds\n",
      "\n",
      "\u001b[32mREMOVED 10588 PRESUMED NON-METEORLOGICAL DATAPOINTS\u001b[39m\n",
      "FINAL COUNT OF DATAPOINTS IN VEL: 10460\n",
      "INPUT_SET NCDatasets.NCDataset{Nothing, Missing}, VAR: StringAlready exists... overwriting\n",
      "\n",
      "Completed in 0.6104428768157959 seconds\n",
      "\n",
      "\u001b[32mREMOVED 3727 PRESUMED NON-METEORLOGICAL DATAPOINTS\u001b[39m\n",
      "FINAL COUNT OF DATAPOINTS IN VEL: 6733\n",
      "INPUT_SET NCDatasets.NCDataset{Nothing, Missing}, VAR: StringAlready exists... overwriting\n",
      "\n",
      "Completed in 0.6787300109863281 seconds\n",
      "\n",
      "\u001b[32mREMOVED 11738 PRESUMED NON-METEORLOGICAL DATAPOINTS\u001b[39m\n",
      "FINAL COUNT OF DATAPOINTS IN VEL: 14052\n",
      "INPUT_SET NCDatasets.NCDataset{Nothing, Missing}, VAR: StringAlready exists... overwriting\n",
      "\n",
      "Completed in 0.6888930797576904 seconds\n",
      "\n",
      "\u001b[32mREMOVED 5848 PRESUMED NON-METEORLOGICAL DATAPOINTS\u001b[39m\n",
      "FINAL COUNT OF DATAPOINTS IN VEL: 8204\n",
      "INPUT_SET NCDatasets.NCDataset{Nothing, Missing}, VAR: StringAlready exists... overwriting\n",
      "\n",
      "Completed in 0.6502218246459961 seconds\n",
      "\n",
      "\u001b[32mREMOVED 10787 PRESUMED NON-METEORLOGICAL DATAPOINTS\u001b[39m\n",
      "FINAL COUNT OF DATAPOINTS IN VEL: 10100\n",
      "INPUT_SET NCDatasets.NCDataset{Nothing, Missing}, VAR: StringAlready exists... overwriting\n",
      "\n",
      "Completed in 0.39951419830322266 seconds\n",
      "\n",
      "\u001b[32mREMOVED 3563 PRESUMED NON-METEORLOGICAL DATAPOINTS\u001b[39m\n",
      "FINAL COUNT OF DATAPOINTS IN VEL: 6537\n",
      "INPUT_SET NCDatasets.NCDataset{Nothing, Missing}, VAR: StringAlready exists... overwriting\n",
      "\n",
      "Completed in 0.6560618877410889 seconds\n",
      "\n",
      "\u001b[32mREMOVED 11764 PRESUMED NON-METEORLOGICAL DATAPOINTS\u001b[39m\n",
      "FINAL COUNT OF DATAPOINTS IN VEL: 13707\n",
      "INPUT_SET NCDatasets.NCDataset{Nothing, Missing}, VAR: StringAlready exists... overwriting\n",
      "\n",
      "Completed in 0.6773970127105713 seconds\n",
      "\n",
      "\u001b[32mREMOVED 5726 PRESUMED NON-METEORLOGICAL DATAPOINTS\u001b[39m\n",
      "FINAL COUNT OF DATAPOINTS IN VEL: 7981\n",
      "INPUT_SET NCDatasets.NCDataset{Nothing, Missing}, VAR: StringAlready exists... overwriting\n",
      "\n",
      "Completed in 0.6583249568939209 seconds\n",
      "\n",
      "\u001b[32mREMOVED 10489 PRESUMED NON-METEORLOGICAL DATAPOINTS\u001b[39m\n",
      "FINAL COUNT OF DATAPOINTS IN VEL: 10243\n",
      "INPUT_SET NCDatasets.NCDataset{Nothing, Missing}, VAR: StringAlready exists... overwriting\n",
      "\n",
      "Completed in 0.3979320526123047 seconds\n",
      "\n",
      "\u001b[32mREMOVED 3787 PRESUMED NON-METEORLOGICAL DATAPOINTS\u001b[39m\n",
      "FINAL COUNT OF DATAPOINTS IN VEL: 6456\n",
      "INPUT_SET NCDatasets.NCDataset{Nothing, Missing}, VAR: StringAlready exists... overwriting\n",
      "\n",
      "Completed in 0.6722209453582764 seconds\n",
      "\n",
      "\u001b[32mREMOVED 11981 PRESUMED NON-METEORLOGICAL DATAPOINTS\u001b[39m\n",
      "FINAL COUNT OF DATAPOINTS IN VEL: 13485\n",
      "INPUT_SET NCDatasets.NCDataset{Nothing, Missing}, VAR: StringAlready exists... overwriting\n",
      "\n",
      "Completed in 0.4076850414276123 seconds\n",
      "\n",
      "\u001b[32mREMOVED 5668 PRESUMED NON-METEORLOGICAL DATAPOINTS\u001b[39m\n",
      "FINAL COUNT OF DATAPOINTS IN VEL: 7817\n",
      "INPUT_SET NCDatasets.NCDataset{Nothing, Missing}, VAR: StringAlready exists... overwriting\n",
      "\n",
      "Completed in 0.6215000152587891 seconds\n",
      "\n",
      "\u001b[32mREMOVED 10670 PRESUMED NON-METEORLOGICAL DATAPOINTS\u001b[39m\n",
      "FINAL COUNT OF DATAPOINTS IN VEL: 10069\n",
      "INPUT_SET NCDatasets.NCDataset{Nothing, Missing}, VAR: StringAlready exists... overwriting\n",
      "\n",
      "Completed in 0.4031851291656494 seconds\n",
      "\n",
      "\u001b[32mREMOVED 3705 PRESUMED NON-METEORLOGICAL DATAPOINTS\u001b[39m\n",
      "FINAL COUNT OF DATAPOINTS IN VEL: 6364\n",
      "INPUT_SET NCDatasets.NCDataset{Nothing, Missing}, VAR: StringAlready exists... overwriting\n",
      "\n",
      "Completed in 0.671483039855957 seconds\n",
      "\n",
      "\u001b[32mREMOVED 11976 PRESUMED NON-METEORLOGICAL DATAPOINTS\u001b[39m\n",
      "FINAL COUNT OF DATAPOINTS IN VEL: 13199\n",
      "INPUT_SET NCDatasets.NCDataset{Nothing, Missing}, VAR: StringAlready exists... overwriting\n",
      "\n",
      "Completed in 0.4528930187225342 seconds\n",
      "\n",
      "\u001b[32mREMOVED 5600 PRESUMED NON-METEORLOGICAL DATAPOINTS\u001b[39m\n",
      "FINAL COUNT OF DATAPOINTS IN VEL: 7599\n",
      "INPUT_SET NCDatasets.NCDataset{Nothing, Missing}, VAR: StringAlready exists... overwriting\n",
      "\n",
      "Completed in 0.8041048049926758 seconds\n",
      "\n",
      "\u001b[32mREMOVED 10355 PRESUMED NON-METEORLOGICAL DATAPOINTS\u001b[39m\n",
      "FINAL COUNT OF DATAPOINTS IN VEL: 10211\n",
      "INPUT_SET NCDatasets.NCDataset{Nothing, Missing}, VAR: StringAlready exists... overwriting\n",
      "\n",
      "Completed in 0.7089290618896484 seconds\n",
      "\n",
      "\u001b[32mREMOVED 3649 PRESUMED NON-METEORLOGICAL DATAPOINTS\u001b[39m\n",
      "FINAL COUNT OF DATAPOINTS IN VEL: 6562\n",
      "INPUT_SET NCDatasets.NCDataset{Nothing, Missing}, VAR: StringAlready exists... overwriting\n",
      "\n",
      "Completed in 0.6616239547729492 seconds\n",
      "\n",
      "\u001b[32mREMOVED 12043 PRESUMED NON-METEORLOGICAL DATAPOINTS\u001b[39m\n",
      "FINAL COUNT OF DATAPOINTS IN VEL: 12638\n",
      "INPUT_SET NCDatasets.NCDataset{Nothing, Missing}, VAR: StringAlready exists... overwriting\n",
      "\n",
      "Completed in 0.6464340686798096 seconds\n",
      "\n",
      "\u001b[32mREMOVED 5476 PRESUMED NON-METEORLOGICAL DATAPOINTS\u001b[39m\n",
      "FINAL COUNT OF DATAPOINTS IN VEL: 7162\n",
      "INPUT_SET NCDatasets.NCDataset{Nothing, Missing}, VAR: StringAlready exists... overwriting\n",
      "\n",
      "Completed in 0.6664431095123291 seconds\n",
      "\n",
      "\u001b[32mREMOVED 10123 PRESUMED NON-METEORLOGICAL DATAPOINTS\u001b[39m\n",
      "FINAL COUNT OF DATAPOINTS IN VEL: 9398\n",
      "INPUT_SET NCDatasets.NCDataset{Nothing, Missing}, VAR: StringAlready exists... overwriting\n",
      "\n",
      "Completed in 0.729698896408081 seconds\n",
      "\n",
      "\u001b[32mREMOVED 3349 PRESUMED NON-METEORLOGICAL DATAPOINTS\u001b[39m\n",
      "FINAL COUNT OF DATAPOINTS IN VEL: 6049\n",
      "INPUT_SET NCDatasets.NCDataset{Nothing, Missing}, VAR: StringAlready exists... overwriting\n",
      "\n",
      "Completed in 0.6437289714813232 seconds\n",
      "\n",
      "\u001b[32mREMOVED 11931 PRESUMED NON-METEORLOGICAL DATAPOINTS\u001b[39m\n",
      "FINAL COUNT OF DATAPOINTS IN VEL: 11989\n",
      "INPUT_SET NCDatasets.NCDataset{Nothing, Missing}, VAR: StringAlready exists... overwriting\n",
      "\n",
      "Completed in 0.637624979019165 seconds\n",
      "\n",
      "\u001b[32mREMOVED 5310 PRESUMED NON-METEORLOGICAL DATAPOINTS\u001b[39m\n",
      "FINAL COUNT OF DATAPOINTS IN VEL: 6679\n",
      "INPUT_SET NCDatasets.NCDataset{Nothing, Missing}, VAR: StringAlready exists... overwriting\n",
      "\n",
      "Completed in 0.6335058212280273 seconds\n",
      "\n",
      "\u001b[32mREMOVED 10062 PRESUMED NON-METEORLOGICAL DATAPOINTS\u001b[39m\n",
      "FINAL COUNT OF DATAPOINTS IN VEL: 9714\n",
      "INPUT_SET NCDatasets.NCDataset{Nothing, Missing}, VAR: StringAlready exists... overwriting\n",
      "\n",
      "Completed in 0.6470341682434082 seconds\n",
      "\n",
      "\u001b[32mREMOVED 3636 PRESUMED NON-METEORLOGICAL DATAPOINTS\u001b[39m\n",
      "FINAL COUNT OF DATAPOINTS IN VEL: 6078\n",
      "INPUT_SET NCDatasets.NCDataset{Nothing, Missing}, VAR: StringAlready exists... overwriting\n",
      "\n",
      "Completed in 0.6696829795837402 seconds\n",
      "\n",
      "\u001b[32mREMOVED 11667 PRESUMED NON-METEORLOGICAL DATAPOINTS\u001b[39m\n",
      "FINAL COUNT OF DATAPOINTS IN VEL: 11567\n",
      "INPUT_SET NCDatasets.NCDataset{Nothing, Missing}, VAR: StringAlready exists... overwriting\n",
      "\n",
      "Completed in 0.6468610763549805 seconds\n",
      "\n",
      "\u001b[32mREMOVED 5163 PRESUMED NON-METEORLOGICAL DATAPOINTS\u001b[39m\n",
      "FINAL COUNT OF DATAPOINTS IN VEL: 6404\n",
      "INPUT_SET NCDatasets.NCDataset{Nothing, Missing}, VAR: StringAlready exists... overwriting\n",
      "\n",
      "Completed in 0.6619729995727539 seconds\n",
      "\n",
      "\u001b[32mREMOVED 9945 PRESUMED NON-METEORLOGICAL DATAPOINTS\u001b[39m\n",
      "FINAL COUNT OF DATAPOINTS IN VEL: 10219\n",
      "INPUT_SET NCDatasets.NCDataset{Nothing, Missing}, VAR: StringAlready exists... overwriting\n",
      "\n",
      "Completed in 0.6451289653778076 seconds\n",
      "\n",
      "\u001b[32mREMOVED 3812 PRESUMED NON-METEORLOGICAL DATAPOINTS\u001b[39m\n",
      "FINAL COUNT OF DATAPOINTS IN VEL: 6407\n",
      "INPUT_SET NCDatasets.NCDataset{Nothing, Missing}, VAR: StringAlready exists... overwriting\n",
      "\n",
      "Completed in 0.6692318916320801 seconds\n",
      "\n",
      "\u001b[32mREMOVED 11727 PRESUMED NON-METEORLOGICAL DATAPOINTS\u001b[39m\n",
      "FINAL COUNT OF DATAPOINTS IN VEL: 11023\n",
      "INPUT_SET NCDatasets.NCDataset{Nothing, Missing}, VAR: StringAlready exists... overwriting\n",
      "\n",
      "Completed in 0.39040207862854004 seconds\n",
      "\n",
      "\u001b[32mREMOVED 5061 PRESUMED NON-METEORLOGICAL DATAPOINTS\u001b[39m\n",
      "FINAL COUNT OF DATAPOINTS IN VEL: 5962\n",
      "INPUT_SET NCDatasets.NCDataset{Nothing, Missing}, VAR: StringAlready exists... overwriting\n",
      "\n",
      "Completed in 0.6185760498046875 seconds\n",
      "\n",
      "\u001b[32mREMOVED 10364 PRESUMED NON-METEORLOGICAL DATAPOINTS\u001b[39m\n",
      "FINAL COUNT OF DATAPOINTS IN VEL: 9405\n",
      "INPUT_SET NCDatasets.NCDataset{Nothing, Missing}, VAR: StringAlready exists... overwriting\n",
      "\n",
      "Completed in 0.7589290142059326 seconds\n",
      "\n",
      "\u001b[32mREMOVED 3577 PRESUMED NON-METEORLOGICAL DATAPOINTS\u001b[39m\n",
      "FINAL COUNT OF DATAPOINTS IN VEL: 5828\n",
      "INPUT_SET NCDatasets.NCDataset{Nothing, Missing}, VAR: StringAlready exists... overwriting\n",
      "\n",
      "Completed in 0.6551029682159424 seconds\n",
      "\n",
      "\u001b[32mREMOVED 11659 PRESUMED NON-METEORLOGICAL DATAPOINTS\u001b[39m\n",
      "FINAL COUNT OF DATAPOINTS IN VEL: 10974\n",
      "INPUT_SET NCDatasets.NCDataset{Nothing, Missing}, VAR: StringAlready exists... overwriting\n",
      "\n",
      "Completed in 0.40658092498779297 seconds\n",
      "\n",
      "\u001b[32mREMOVED 4988 PRESUMED NON-METEORLOGICAL DATAPOINTS\u001b[39m\n",
      "FINAL COUNT OF DATAPOINTS IN VEL: 5986\n",
      "INPUT_SET NCDatasets.NCDataset{Nothing, Missing}, VAR: StringAlready exists... overwriting\n",
      "\n",
      "Completed in 0.7277379035949707 seconds\n",
      "\n",
      "\u001b[32mREMOVED 8773 PRESUMED NON-METEORLOGICAL DATAPOINTS\u001b[39m\n",
      "FINAL COUNT OF DATAPOINTS IN VEL: 23255\n",
      "INPUT_SET NCDatasets.NCDataset{Nothing, Missing}, VAR: StringAlready exists... overwriting\n",
      "\n",
      "Completed in 0.4505031108856201 seconds\n",
      "\n",
      "\u001b[32mREMOVED 4106 PRESUMED NON-METEORLOGICAL DATAPOINTS\u001b[39m\n",
      "FINAL COUNT OF DATAPOINTS IN VEL: 19149\n",
      "INPUT_SET NCDatasets.NCDataset{Nothing, Missing}, VAR: StringAlready exists... overwriting\n",
      "\n",
      "Completed in 0.6516141891479492 seconds\n",
      "\n",
      "\u001b[32mREMOVED 9938 PRESUMED NON-METEORLOGICAL DATAPOINTS\u001b[39m\n",
      "FINAL COUNT OF DATAPOINTS IN VEL: 25447\n",
      "INPUT_SET NCDatasets.NCDataset{Nothing, Missing}, VAR: StringAlready exists... overwriting\n",
      "\n",
      "Completed in 0.7137079238891602 seconds\n",
      "\n",
      "\u001b[32mREMOVED 5578 PRESUMED NON-METEORLOGICAL DATAPOINTS\u001b[39m\n",
      "FINAL COUNT OF DATAPOINTS IN VEL: 19869\n",
      "INPUT_SET NCDatasets.NCDataset{Nothing, Missing}, VAR: StringAlready exists... overwriting\n",
      "\n",
      "Completed in 0.7519621849060059 seconds\n",
      "\n",
      "\u001b[32mREMOVED 8651 PRESUMED NON-METEORLOGICAL DATAPOINTS\u001b[39m\n",
      "FINAL COUNT OF DATAPOINTS IN VEL: 24028\n",
      "INPUT_SET NCDatasets.NCDataset{Nothing, Missing}, VAR: StringAlready exists... overwriting\n",
      "\n",
      "Completed in 0.7277159690856934 seconds\n",
      "\n",
      "\u001b[32mREMOVED 4317 PRESUMED NON-METEORLOGICAL DATAPOINTS\u001b[39m\n",
      "FINAL COUNT OF DATAPOINTS IN VEL: 19711\n",
      "INPUT_SET NCDatasets.NCDataset{Nothing, Missing}, VAR: StringAlready exists... overwriting\n",
      "\n",
      "Completed in 0.740833044052124 seconds\n",
      "\n",
      "\u001b[32mREMOVED 9648 PRESUMED NON-METEORLOGICAL DATAPOINTS\u001b[39m\n",
      "FINAL COUNT OF DATAPOINTS IN VEL: 30291\n",
      "INPUT_SET NCDatasets.NCDataset{Nothing, Missing}, VAR: StringAlready exists... overwriting\n",
      "\n",
      "Completed in 0.6924810409545898 seconds\n",
      "\n",
      "\u001b[32mREMOVED 5609 PRESUMED NON-METEORLOGICAL DATAPOINTS\u001b[39m\n",
      "FINAL COUNT OF DATAPOINTS IN VEL: 24682\n",
      "INPUT_SET NCDatasets.NCDataset{Nothing, Missing}, VAR: StringAlready exists... overwriting\n",
      "\n",
      "Completed in 0.6621110439300537 seconds\n",
      "\n",
      "\u001b[32mREMOVED 8613 PRESUMED NON-METEORLOGICAL DATAPOINTS\u001b[39m\n",
      "FINAL COUNT OF DATAPOINTS IN VEL: 24425\n",
      "INPUT_SET NCDatasets.NCDataset{Nothing, Missing}, VAR: StringAlready exists... overwriting\n",
      "\n",
      "Completed in 0.7021918296813965 seconds\n",
      "\n",
      "\u001b[32mREMOVED 4457 PRESUMED NON-METEORLOGICAL DATAPOINTS\u001b[39m\n",
      "FINAL COUNT OF DATAPOINTS IN VEL: 19968\n",
      "INPUT_SET NCDatasets.NCDataset{Nothing, Missing}, VAR: StringAlready exists... overwriting\n",
      "\n",
      "Completed in 0.7170169353485107 seconds\n",
      "\n",
      "\u001b[32mREMOVED 9545 PRESUMED NON-METEORLOGICAL DATAPOINTS\u001b[39m\n",
      "FINAL COUNT OF DATAPOINTS IN VEL: 28678\n",
      "INPUT_SET NCDatasets.NCDataset{Nothing, Missing}, VAR: StringAlready exists... overwriting\n",
      "\n",
      "Completed in 0.6553099155426025 seconds\n",
      "\n",
      "\u001b[32mREMOVED 4891 PRESUMED NON-METEORLOGICAL DATAPOINTS\u001b[39m\n",
      "FINAL COUNT OF DATAPOINTS IN VEL: 23787\n",
      "INPUT_SET NCDatasets.NCDataset{Nothing, Missing}, VAR: StringAlready exists... overwriting\n",
      "\n",
      "Completed in 0.6328029632568359 seconds\n",
      "\n",
      "\u001b[32mREMOVED 8577 PRESUMED NON-METEORLOGICAL DATAPOINTS\u001b[39m\n",
      "FINAL COUNT OF DATAPOINTS IN VEL: 25138\n",
      "INPUT_SET NCDatasets.NCDataset{Nothing, Missing}, VAR: StringAlready exists... overwriting\n",
      "\n",
      "Completed in 0.6373200416564941 seconds\n",
      "\n",
      "\u001b[32mREMOVED 4449 PRESUMED NON-METEORLOGICAL DATAPOINTS\u001b[39m\n",
      "FINAL COUNT OF DATAPOINTS IN VEL: 20689\n",
      "INPUT_SET NCDatasets.NCDataset{Nothing, Missing}, VAR: StringAlready exists... overwriting\n",
      "\n",
      "Completed in 0.6601309776306152 seconds\n",
      "\n",
      "\u001b[32mREMOVED 9559 PRESUMED NON-METEORLOGICAL DATAPOINTS\u001b[39m\n",
      "FINAL COUNT OF DATAPOINTS IN VEL: 27985\n",
      "INPUT_SET NCDatasets.NCDataset{Nothing, Missing}, VAR: StringAlready exists... overwriting\n",
      "\n",
      "Completed in 0.6436991691589355 seconds\n",
      "\n",
      "\u001b[32mREMOVED 5079 PRESUMED NON-METEORLOGICAL DATAPOINTS\u001b[39m\n",
      "FINAL COUNT OF DATAPOINTS IN VEL: 22906\n",
      "INPUT_SET NCDatasets.NCDataset{Nothing, Missing}, VAR: StringAlready exists... overwriting\n",
      "\n",
      "Completed in 0.6483049392700195 seconds\n",
      "\n",
      "\u001b[32mREMOVED 9173 PRESUMED NON-METEORLOGICAL DATAPOINTS\u001b[39m\n",
      "FINAL COUNT OF DATAPOINTS IN VEL: 24151\n",
      "INPUT_SET NCDatasets.NCDataset{Nothing, Missing}, VAR: StringAlready exists... overwriting\n",
      "\n",
      "Completed in 0.6427469253540039 seconds\n",
      "\n",
      "\u001b[32mREMOVED 4871 PRESUMED NON-METEORLOGICAL DATAPOINTS\u001b[39m\n",
      "FINAL COUNT OF DATAPOINTS IN VEL: 19280\n",
      "INPUT_SET NCDatasets.NCDataset{Nothing, Missing}, VAR: StringAlready exists... overwriting\n",
      "\n",
      "Completed in 0.6751649379730225 seconds\n",
      "\n",
      "\u001b[32mREMOVED 10060 PRESUMED NON-METEORLOGICAL DATAPOINTS\u001b[39m\n",
      "FINAL COUNT OF DATAPOINTS IN VEL: 26211\n",
      "INPUT_SET NCDatasets.NCDataset{Nothing, Missing}, VAR: StringAlready exists... overwriting\n",
      "\n",
      "Completed in 0.6437339782714844 seconds\n",
      "\n",
      "\u001b[32mREMOVED 5792 PRESUMED NON-METEORLOGICAL DATAPOINTS\u001b[39m\n",
      "FINAL COUNT OF DATAPOINTS IN VEL: 20419\n",
      "INPUT_SET NCDatasets.NCDataset{Nothing, Missing}, VAR: StringAlready exists... overwriting\n",
      "\n",
      "Completed in 0.6490819454193115 seconds\n",
      "\n",
      "\u001b[32mREMOVED 9438 PRESUMED NON-METEORLOGICAL DATAPOINTS\u001b[39m\n",
      "FINAL COUNT OF DATAPOINTS IN VEL: 27097\n",
      "INPUT_SET NCDatasets.NCDataset{Nothing, Missing}, VAR: StringAlready exists... overwriting\n",
      "\n",
      "Completed in 0.648453950881958 seconds\n",
      "\n",
      "\u001b[32mREMOVED 5529 PRESUMED NON-METEORLOGICAL DATAPOINTS\u001b[39m\n",
      "FINAL COUNT OF DATAPOINTS IN VEL: 21568\n",
      "INPUT_SET NCDatasets.NCDataset{Nothing, Missing}, VAR: StringAlready exists... overwriting\n",
      "\n",
      "Completed in 0.6904909610748291 seconds\n",
      "\n",
      "\u001b[32mREMOVED 9603 PRESUMED NON-METEORLOGICAL DATAPOINTS\u001b[39m\n",
      "FINAL COUNT OF DATAPOINTS IN VEL: 26709\n",
      "INPUT_SET NCDatasets.NCDataset{Nothing, Missing}, VAR: StringAlready exists... overwriting\n",
      "\n",
      "Completed in 0.7152478694915771 seconds\n",
      "\n",
      "\u001b[32mREMOVED 5847 PRESUMED NON-METEORLOGICAL DATAPOINTS\u001b[39m\n",
      "FINAL COUNT OF DATAPOINTS IN VEL: 20862\n",
      "INPUT_SET NCDatasets.NCDataset{Nothing, Missing}, VAR: StringAlready exists... overwriting\n",
      "\n",
      "Completed in 0.6459040641784668 seconds\n",
      "\n",
      "\u001b[32mREMOVED 9498 PRESUMED NON-METEORLOGICAL DATAPOINTS\u001b[39m\n",
      "FINAL COUNT OF DATAPOINTS IN VEL: 25915\n",
      "INPUT_SET NCDatasets.NCDataset{Nothing, Missing}, VAR: StringAlready exists... overwriting\n",
      "\n",
      "Completed in 0.6439590454101562 seconds\n",
      "\n",
      "\u001b[32mREMOVED 5396 PRESUMED NON-METEORLOGICAL DATAPOINTS\u001b[39m\n",
      "FINAL COUNT OF DATAPOINTS IN VEL: 20519\n",
      "INPUT_SET NCDatasets.NCDataset{Nothing, Missing}, VAR: StringAlready exists... overwriting\n",
      "\n",
      "Completed in 0.6647350788116455 seconds\n",
      "\n",
      "\u001b[32mREMOVED 10539 PRESUMED NON-METEORLOGICAL DATAPOINTS\u001b[39m\n",
      "FINAL COUNT OF DATAPOINTS IN VEL: 27814\n",
      "INPUT_SET NCDatasets.NCDataset{Nothing, Missing}, VAR: StringAlready exists... overwriting\n",
      "\n",
      "Completed in 0.6618568897247314 seconds\n",
      "\n",
      "\u001b[32mREMOVED 5990 PRESUMED NON-METEORLOGICAL DATAPOINTS\u001b[39m\n",
      "FINAL COUNT OF DATAPOINTS IN VEL: 21824\n",
      "INPUT_SET NCDatasets.NCDataset{Nothing, Missing}, VAR: StringAlready exists... overwriting\n",
      "\n",
      "Completed in 0.7020230293273926 seconds\n",
      "\n",
      "\u001b[32mREMOVED 8539 PRESUMED NON-METEORLOGICAL DATAPOINTS\u001b[39m\n",
      "FINAL COUNT OF DATAPOINTS IN VEL: 54209\n",
      "INPUT_SET NCDatasets.NCDataset{Nothing, Missing}, VAR: StringAlready exists... overwriting\n",
      "\n",
      "Completed in 0.6876940727233887 seconds\n",
      "\n",
      "\u001b[32mREMOVED 5962 PRESUMED NON-METEORLOGICAL DATAPOINTS\u001b[39m\n",
      "FINAL COUNT OF DATAPOINTS IN VEL: 48247\n",
      "INPUT_SET NCDatasets.NCDataset{Nothing, Missing}, VAR: StringAlready exists... overwriting\n",
      "\n",
      "Completed in 0.6822490692138672 seconds\n",
      "\n",
      "\u001b[32mREMOVED 7090 PRESUMED NON-METEORLOGICAL DATAPOINTS\u001b[39m\n",
      "FINAL COUNT OF DATAPOINTS IN VEL: 61496\n",
      "INPUT_SET NCDatasets.NCDataset{Nothing, Missing}, VAR: StringAlready exists... overwriting\n",
      "\n",
      "Completed in 0.6970510482788086 seconds\n",
      "\n",
      "\u001b[32mREMOVED 4936 PRESUMED NON-METEORLOGICAL DATAPOINTS\u001b[39m\n",
      "FINAL COUNT OF DATAPOINTS IN VEL: 56560\n",
      "INPUT_SET NCDatasets.NCDataset{Nothing, Missing}, VAR: StringAlready exists... overwriting\n",
      "\n",
      "Completed in 0.7170658111572266 seconds\n",
      "\n",
      "\u001b[32mREMOVED 8352 PRESUMED NON-METEORLOGICAL DATAPOINTS\u001b[39m\n",
      "FINAL COUNT OF DATAPOINTS IN VEL: 53336\n",
      "INPUT_SET NCDatasets.NCDataset{Nothing, Missing}, VAR: StringAlready exists... overwriting\n",
      "\n",
      "Completed in 0.6726751327514648 seconds\n",
      "\n",
      "\u001b[32mREMOVED 5359 PRESUMED NON-METEORLOGICAL DATAPOINTS\u001b[39m\n",
      "FINAL COUNT OF DATAPOINTS IN VEL: 47977\n",
      "INPUT_SET NCDatasets.NCDataset{Nothing, Missing}, VAR: StringAlready exists... overwriting\n",
      "\n",
      "Completed in 0.7217941284179688 seconds\n",
      "\n",
      "\u001b[32mREMOVED 7352 PRESUMED NON-METEORLOGICAL DATAPOINTS\u001b[39m\n",
      "FINAL COUNT OF DATAPOINTS IN VEL: 59377\n",
      "INPUT_SET NCDatasets.NCDataset{Nothing, Missing}, VAR: StringAlready exists... overwriting\n",
      "\n",
      "Completed in 0.7098429203033447 seconds\n",
      "\n",
      "\u001b[32mREMOVED 5705 PRESUMED NON-METEORLOGICAL DATAPOINTS\u001b[39m\n",
      "FINAL COUNT OF DATAPOINTS IN VEL: 53672\n",
      "INPUT_SET NCDatasets.NCDataset{Nothing, Missing}, VAR: StringAlready exists... overwriting\n",
      "\n",
      "Completed in 0.6860241889953613 seconds\n",
      "\n",
      "\u001b[32mREMOVED 8535 PRESUMED NON-METEORLOGICAL DATAPOINTS\u001b[39m\n",
      "FINAL COUNT OF DATAPOINTS IN VEL: 52371\n",
      "INPUT_SET NCDatasets.NCDataset{Nothing, Missing}, VAR: StringAlready exists... overwriting\n",
      "\n",
      "Completed in 0.7151539325714111 seconds\n",
      "\n",
      "\u001b[32mREMOVED 5152 PRESUMED NON-METEORLOGICAL DATAPOINTS\u001b[39m\n",
      "FINAL COUNT OF DATAPOINTS IN VEL: 47219\n",
      "INPUT_SET NCDatasets.NCDataset{Nothing, Missing}, VAR: StringAlready exists... overwriting\n",
      "\n",
      "Completed in 0.7254350185394287 seconds\n",
      "\n",
      "\u001b[32mREMOVED 7755 PRESUMED NON-METEORLOGICAL DATAPOINTS\u001b[39m\n",
      "FINAL COUNT OF DATAPOINTS IN VEL: 59193\n",
      "INPUT_SET NCDatasets.NCDataset{Nothing, Missing}, VAR: StringAlready exists... overwriting\n",
      "\n",
      "Completed in 0.7044410705566406 seconds\n",
      "\n",
      "\u001b[32mREMOVED 5703 PRESUMED NON-METEORLOGICAL DATAPOINTS\u001b[39m\n",
      "FINAL COUNT OF DATAPOINTS IN VEL: 53490\n",
      "INPUT_SET NCDatasets.NCDataset{Nothing, Missing}, VAR: StringAlready exists... overwriting\n",
      "\n",
      "Completed in 0.6900429725646973 seconds\n",
      "\n",
      "\u001b[32mREMOVED 8877 PRESUMED NON-METEORLOGICAL DATAPOINTS\u001b[39m\n",
      "FINAL COUNT OF DATAPOINTS IN VEL: 52327\n",
      "INPUT_SET NCDatasets.NCDataset{Nothing, Missing}, VAR: StringAlready exists... overwriting\n",
      "\n",
      "Completed in 0.7292380332946777 seconds\n",
      "\n",
      "\u001b[32mREMOVED 5572 PRESUMED NON-METEORLOGICAL DATAPOINTS\u001b[39m\n",
      "FINAL COUNT OF DATAPOINTS IN VEL: 46755\n",
      "INPUT_SET NCDatasets.NCDataset{Nothing, Missing}, VAR: StringAlready exists... overwriting\n",
      "\n",
      "Completed in 0.7348659038543701 seconds\n",
      "\n",
      "\u001b[32mREMOVED 7797 PRESUMED NON-METEORLOGICAL DATAPOINTS\u001b[39m\n",
      "FINAL COUNT OF DATAPOINTS IN VEL: 58550\n",
      "INPUT_SET NCDatasets.NCDataset{Nothing, Missing}, VAR: StringAlready exists... overwriting\n",
      "\n",
      "Completed in 0.6629869937896729 seconds\n",
      "\n",
      "\u001b[32mREMOVED 5657 PRESUMED NON-METEORLOGICAL DATAPOINTS\u001b[39m\n",
      "FINAL COUNT OF DATAPOINTS IN VEL: 52893\n",
      "INPUT_SET NCDatasets.NCDataset{Nothing, Missing}, VAR: StringAlready exists... overwriting\n",
      "\n",
      "Completed in 0.70524001121521 seconds\n",
      "\n",
      "\u001b[32mREMOVED 8044 PRESUMED NON-METEORLOGICAL DATAPOINTS\u001b[39m\n",
      "FINAL COUNT OF DATAPOINTS IN VEL: 54144\n",
      "INPUT_SET NCDatasets.NCDataset{Nothing, Missing}, VAR: StringAlready exists... overwriting\n",
      "\n",
      "Completed in 0.6642038822174072 seconds\n",
      "\n",
      "\u001b[32mREMOVED 5564 PRESUMED NON-METEORLOGICAL DATAPOINTS\u001b[39m\n",
      "FINAL COUNT OF DATAPOINTS IN VEL: 48580\n",
      "INPUT_SET NCDatasets.NCDataset{Nothing, Missing}, VAR: StringAlready exists... overwriting\n",
      "\n",
      "Completed in 0.6828110218048096 seconds\n",
      "\n",
      "\u001b[32mREMOVED 8368 PRESUMED NON-METEORLOGICAL DATAPOINTS\u001b[39m\n",
      "FINAL COUNT OF DATAPOINTS IN VEL: 56644\n",
      "INPUT_SET NCDatasets.NCDataset{Nothing, Missing}, VAR: StringAlready exists... overwriting\n",
      "\n",
      "Completed in 0.665848970413208 seconds\n",
      "\n",
      "\u001b[32mREMOVED 6077 PRESUMED NON-METEORLOGICAL DATAPOINTS\u001b[39m\n",
      "FINAL COUNT OF DATAPOINTS IN VEL: 50567\n",
      "INPUT_SET NCDatasets.NCDataset{Nothing, Missing}, VAR: StringAlready exists... overwriting\n",
      "\n",
      "Completed in 0.6761519908905029 seconds\n",
      "\n",
      "\u001b[32mREMOVED 6546 PRESUMED NON-METEORLOGICAL DATAPOINTS\u001b[39m\n",
      "FINAL COUNT OF DATAPOINTS IN VEL: 59763\n",
      "INPUT_SET NCDatasets.NCDataset{Nothing, Missing}, VAR: StringAlready exists... overwriting\n",
      "\n",
      "Completed in 0.6505889892578125 seconds\n",
      "\n",
      "\u001b[32mREMOVED 3886 PRESUMED NON-METEORLOGICAL DATAPOINTS\u001b[39m\n",
      "FINAL COUNT OF DATAPOINTS IN VEL: 55877\n",
      "INPUT_SET NCDatasets.NCDataset{Nothing, Missing}, VAR: StringAlready exists... overwriting\n",
      "\n",
      "Completed in 0.6469738483428955 seconds\n",
      "\n",
      "\u001b[32mREMOVED 7197 PRESUMED NON-METEORLOGICAL DATAPOINTS\u001b[39m\n",
      "FINAL COUNT OF DATAPOINTS IN VEL: 55950\n",
      "INPUT_SET NCDatasets.NCDataset{Nothing, Missing}, VAR: StringAlready exists... overwriting\n",
      "\n",
      "Completed in 0.6734678745269775 seconds\n",
      "\n",
      "\u001b[32mREMOVED 4522 PRESUMED NON-METEORLOGICAL DATAPOINTS\u001b[39m\n",
      "FINAL COUNT OF DATAPOINTS IN VEL: 51428\n",
      "INPUT_SET NCDatasets.NCDataset{Nothing, Missing}, VAR: StringAlready exists... overwriting\n",
      "\n",
      "Completed in 0.7159039974212646 seconds\n",
      "\n",
      "\u001b[32mREMOVED 6216 PRESUMED NON-METEORLOGICAL DATAPOINTS\u001b[39m\n",
      "FINAL COUNT OF DATAPOINTS IN VEL: 60723\n",
      "INPUT_SET NCDatasets.NCDataset{Nothing, Missing}, VAR: StringAlready exists... overwriting\n",
      "\n",
      "Completed in 0.6905090808868408 seconds\n",
      "\n",
      "\u001b[32mREMOVED 3369 PRESUMED NON-METEORLOGICAL DATAPOINTS\u001b[39m\n",
      "FINAL COUNT OF DATAPOINTS IN VEL: 57354\n",
      "INPUT_SET NCDatasets.NCDataset{Nothing, Missing}, VAR: StringAlready exists... overwriting\n",
      "\n",
      "Completed in 0.6823320388793945 seconds\n",
      "\n",
      "\u001b[32mREMOVED 6916 PRESUMED NON-METEORLOGICAL DATAPOINTS\u001b[39m\n",
      "FINAL COUNT OF DATAPOINTS IN VEL: 57275\n",
      "INPUT_SET NCDatasets.NCDataset{Nothing, Missing}, VAR: StringAlready exists... overwriting\n",
      "\n",
      "Completed in 0.679020881652832 seconds\n",
      "\n",
      "\u001b[32mREMOVED 4740 PRESUMED NON-METEORLOGICAL DATAPOINTS\u001b[39m\n",
      "FINAL COUNT OF DATAPOINTS IN VEL: 52535\n",
      "INPUT_SET NCDatasets.NCDataset{Nothing, Missing}, VAR: StringAlready exists... overwriting\n",
      "\n",
      "Completed in 0.7131810188293457 seconds\n",
      "\n",
      "\u001b[32mREMOVED 6271 PRESUMED NON-METEORLOGICAL DATAPOINTS\u001b[39m\n",
      "FINAL COUNT OF DATAPOINTS IN VEL: 60739\n",
      "INPUT_SET NCDatasets.NCDataset{Nothing, Missing}, VAR: StringAlready exists... overwriting\n",
      "\n",
      "Completed in 0.7743861675262451 seconds\n",
      "\n",
      "\u001b[32mREMOVED 3349 PRESUMED NON-METEORLOGICAL DATAPOINTS\u001b[39m\n",
      "FINAL COUNT OF DATAPOINTS IN VEL: 57390\n",
      "INPUT_SET NCDatasets.NCDataset{Nothing, Missing}, VAR: StringAlready exists... overwriting\n",
      "\n",
      "Completed in 0.6966919898986816 seconds\n",
      "\n",
      "\u001b[32mREMOVED 6716 PRESUMED NON-METEORLOGICAL DATAPOINTS\u001b[39m\n",
      "FINAL COUNT OF DATAPOINTS IN VEL: 57981\n",
      "INPUT_SET NCDatasets.NCDataset{Nothing, Missing}, VAR: StringAlready exists... overwriting\n",
      "\n",
      "Completed in 0.6904392242431641 seconds\n",
      "\n",
      "\u001b[32mREMOVED 4192 PRESUMED NON-METEORLOGICAL DATAPOINTS\u001b[39m\n",
      "FINAL COUNT OF DATAPOINTS IN VEL: 53789\n",
      "INPUT_SET NCDatasets.NCDataset{Nothing, Missing}, VAR: StringAlready exists... overwriting\n",
      "\n",
      "Completed in 0.7064659595489502 seconds\n",
      "\n",
      "\u001b[32mREMOVED 5936 PRESUMED NON-METEORLOGICAL DATAPOINTS\u001b[39m\n",
      "FINAL COUNT OF DATAPOINTS IN VEL: 61903\n",
      "INPUT_SET NCDatasets.NCDataset{Nothing, Missing}, VAR: StringAlready exists... overwriting\n",
      "\n",
      "Completed in 0.7035260200500488 seconds\n",
      "\n",
      "\u001b[32mREMOVED 3750 PRESUMED NON-METEORLOGICAL DATAPOINTS\u001b[39m\n",
      "FINAL COUNT OF DATAPOINTS IN VEL: 58153\n",
      "INPUT_SET NCDatasets.NCDataset{Nothing, Missing}, VAR: StringAlready exists... overwriting\n",
      "\n",
      "Completed in 0.7221400737762451 seconds\n",
      "\n",
      "\u001b[32mREMOVED 6617 PRESUMED NON-METEORLOGICAL DATAPOINTS\u001b[39m\n",
      "FINAL COUNT OF DATAPOINTS IN VEL: 58805\n",
      "INPUT_SET NCDatasets.NCDataset{Nothing, Missing}, VAR: StringAlready exists... overwriting\n",
      "\n",
      "Completed in 0.6866350173950195 seconds\n",
      "\n",
      "\u001b[32mREMOVED 4487 PRESUMED NON-METEORLOGICAL DATAPOINTS\u001b[39m\n",
      "FINAL COUNT OF DATAPOINTS IN VEL: 54318\n",
      "INPUT_SET NCDatasets.NCDataset{Nothing, Missing}, VAR: StringAlready exists... overwriting\n",
      "\n",
      "Completed in 0.6894030570983887 seconds\n",
      "\n",
      "\u001b[32mREMOVED 5756 PRESUMED NON-METEORLOGICAL DATAPOINTS\u001b[39m\n",
      "FINAL COUNT OF DATAPOINTS IN VEL: 62596\n",
      "INPUT_SET NCDatasets.NCDataset{Nothing, Missing}, VAR: StringAlready exists... overwriting\n",
      "\n",
      "Completed in 0.6893529891967773 seconds\n",
      "\n",
      "\u001b[32mREMOVED 3383 PRESUMED NON-METEORLOGICAL DATAPOINTS\u001b[39m\n",
      "FINAL COUNT OF DATAPOINTS IN VEL: 59213\n",
      "INPUT_SET NCDatasets.NCDataset{Nothing, Missing}, VAR: StringAlready exists... overwriting\n",
      "\n",
      "Completed in 0.6929070949554443 seconds\n",
      "\n",
      "\u001b[32mREMOVED 6561 PRESUMED NON-METEORLOGICAL DATAPOINTS\u001b[39m\n",
      "FINAL COUNT OF DATAPOINTS IN VEL: 59286\n",
      "INPUT_SET NCDatasets.NCDataset{Nothing, Missing}, VAR: StringAlready exists... overwriting\n",
      "\n",
      "Completed in 0.6636350154876709 seconds\n",
      "\n",
      "\u001b[32mREMOVED 4059 PRESUMED NON-METEORLOGICAL DATAPOINTS\u001b[39m\n",
      "FINAL COUNT OF DATAPOINTS IN VEL: 55227\n",
      "INPUT_SET NCDatasets.NCDataset{Nothing, Missing}, VAR: StringAlready exists... overwriting\n",
      "\n",
      "Completed in 0.7087278366088867 seconds\n",
      "\n",
      "\u001b[32mREMOVED 5742 PRESUMED NON-METEORLOGICAL DATAPOINTS\u001b[39m\n",
      "FINAL COUNT OF DATAPOINTS IN VEL: 62934\n",
      "INPUT_SET NCDatasets.NCDataset{Nothing, Missing}, VAR: StringAlready exists... overwriting\n",
      "\n",
      "Completed in 0.6803550720214844 seconds\n",
      "\n",
      "\u001b[32mREMOVED 3010 PRESUMED NON-METEORLOGICAL DATAPOINTS\u001b[39m\n",
      "FINAL COUNT OF DATAPOINTS IN VEL: 59924\n",
      "INPUT_SET NCDatasets.NCDataset{Nothing, Missing}, VAR: StringAlready exists... overwriting\n",
      "\n",
      "Completed in 0.6928310394287109 seconds\n",
      "\n",
      "\u001b[32mREMOVED 6534 PRESUMED NON-METEORLOGICAL DATAPOINTS\u001b[39m\n",
      "FINAL COUNT OF DATAPOINTS IN VEL: 59921\n",
      "INPUT_SET NCDatasets.NCDataset{Nothing, Missing}, VAR: StringAlready exists... overwriting\n",
      "\n",
      "Completed in 0.6929080486297607 seconds\n",
      "\n",
      "\u001b[32mREMOVED 3935 PRESUMED NON-METEORLOGICAL DATAPOINTS\u001b[39m\n",
      "FINAL COUNT OF DATAPOINTS IN VEL: 55986\n",
      "INPUT_SET NCDatasets.NCDataset{Nothing, Missing}, VAR: StringAlready exists... overwriting\n",
      "\n",
      "Completed in 0.7348370552062988 seconds\n",
      "\n",
      "\u001b[32mREMOVED 5980 PRESUMED NON-METEORLOGICAL DATAPOINTS\u001b[39m\n",
      "FINAL COUNT OF DATAPOINTS IN VEL: 62653\n",
      "INPUT_SET NCDatasets.NCDataset{Nothing, Missing}, VAR: StringAlready exists... overwriting\n",
      "\n",
      "Completed in 0.6623859405517578 seconds\n",
      "\n",
      "\u001b[32mREMOVED 3072 PRESUMED NON-METEORLOGICAL DATAPOINTS\u001b[39m\n",
      "FINAL COUNT OF DATAPOINTS IN VEL: 59581\n",
      "INPUT_SET NCDatasets.NCDataset{Nothing, Missing}, VAR: StringAlready exists... overwriting\n",
      "\n",
      "Completed in 0.648892879486084 seconds\n",
      "\n",
      "\u001b[32mREMOVED 6326 PRESUMED NON-METEORLOGICAL DATAPOINTS\u001b[39m\n",
      "FINAL COUNT OF DATAPOINTS IN VEL: 61536\n",
      "INPUT_SET NCDatasets.NCDataset{Nothing, Missing}, VAR: StringAlready exists... overwriting\n",
      "\n",
      "Completed in 0.7789711952209473 seconds\n",
      "\n",
      "\u001b[32mREMOVED 4232 PRESUMED NON-METEORLOGICAL DATAPOINTS\u001b[39m\n",
      "FINAL COUNT OF DATAPOINTS IN VEL: 57304\n"
     ]
    },
    {
     "data": {
      "text/plain": [
       "(Bool[0, 0, 0, 0, 0, 1, 1, 1, 1, 1  …  0, 0, 0, 0, 0, 0, 0, 0, 0, 0], [0; 0; … ; 0; 0;;], [[1.0, 1.0, 1.0, 1.0, 1.0, 1.0, 1.0, 1.0, 1.0, 1.0  …  0.0, 0.0, 0.0, 0.0, 0.0, 0.0, 0.0, 0.0, 0.0, 0.0], [1.0, 1.0, 1.0, 1.0, 1.0, 1.0, 1.0, 1.0, 1.0, 1.0  …  0.0, 0.0, 0.0, 0.0, 0.0, 0.0, 0.0, 0.0, 0.0, 0.0], [1.0, 1.0, 1.0, 1.0, 1.0, 1.0, 1.0, 1.0, 1.0, 1.0  …  0.0, 0.0, 0.0, 0.0, 0.0, 0.0, 0.0, 0.0, 0.0, 0.0], [1.0, 1.0, 1.0, 1.0, 1.0, 1.0, 1.0, 1.0, 1.0, 1.0  …  0.0, 0.0, 0.0, 0.0, 0.0, 0.0, 0.0, 0.0, 0.0, 0.0], [1.0, 1.0, 1.0, 1.0, 1.0, 1.0, 1.0, 1.0, 1.0, 1.0  …  0.0, 0.0, 0.0, 0.0, 0.0, 0.0, 0.0, 0.0, 0.0, 0.0], [1.0, 1.0, 1.0, 1.0, 1.0, 1.0, 1.0, 1.0, 1.0, 1.0  …  0.0, 0.0, 0.0, 0.0, 0.0, 0.0, 0.0, 0.0, 0.0, 0.0], [1.0, 1.0, 1.0, 1.0, 1.0, 1.0, 1.0, 1.0, 1.0, 1.0  …  0.0, 0.0, 0.0, 0.0, 0.0, 0.0, 0.0, 0.0, 0.0, 0.0], [1.0, 1.0, 1.0, 1.0, 1.0, 1.0, 1.0, 1.0, 1.0, 1.0  …  0.0, 0.0, 0.0, 0.0, 0.0, 0.0, 0.0, 0.0, 0.0, 0.0], [1.0, 1.0, 1.0, 1.0, 1.0, 1.0, 1.0, 1.0, 1.0, 1.0  …  0.0, 0.0, 0.0, 0.0, 0.0, 0.0, 0.0, 0.0, 0.0, 0.0], [1.0, 1.0, 1.0, 1.0, 1.0, 1.0, 1.0, 1.0, 1.0, 1.0  …  0.0, 0.0, 0.0, 0.0, 0.0, 0.0, 0.0, 0.0, 0.0, 0.0]  …  [1.0, 1.0, 1.0, 1.0, 1.0, 1.0, 1.0, 1.0, 1.0, 1.0  …  0.0, 0.0, 0.0, 0.0, 0.0, 0.0, 0.0, 0.0, 0.0, 0.0], [1.0, 1.0, 1.0, 1.0, 1.0, 1.0, 1.0, 1.0, 1.0, 1.0  …  0.0, 0.0, 0.0, 0.0, 0.0, 0.0, 0.0, 0.0, 0.0, 0.0], [1.0, 1.0, 1.0, 1.0, 1.0, 1.0, 1.0, 1.0, 1.0, 1.0  …  0.0, 0.0, 0.0, 0.0, 0.0, 0.0, 0.0, 0.0, 0.0, 0.0], [1.0, 1.0, 1.0, 1.0, 1.0, 1.0, 1.0, 1.0, 1.0, 1.0  …  0.0, 0.0, 0.0, 0.0, 0.0, 0.0, 0.0, 0.0, 0.0, 0.0], [1.0, 1.0, 1.0, 1.0, 1.0, 1.0, 1.0, 1.0, 1.0, 1.0  …  0.0, 0.0, 0.0, 0.0, 0.0, 0.0, 0.0, 0.0, 0.0, 0.0], [1.0, 1.0, 1.0, 1.0, 1.0, 1.0, 1.0, 1.0, 1.0, 1.0  …  0.0, 0.0, 0.0, 0.0, 0.0, 0.0, 0.0, 0.0, 0.0, 0.0], [1.0, 1.0, 1.0, 1.0, 1.0, 1.0, 1.0, 1.0, 1.0, 1.0  …  0.0, 0.0, 0.0, 0.0, 0.0, 0.0, 0.0, 0.0, 0.0, 0.0], [1.0, 1.0, 1.0, 1.0, 1.0, 1.0, 1.0, 1.0, 1.0, 1.0  …  0.0, 0.0, 0.0, 0.0, 0.0, 0.0, 0.0, 0.0, 0.0, 0.0], [1.0, 1.0, 1.0, 1.0, 1.0, 1.0, 1.0, 1.0, 1.0, 1.0  …  0.0, 0.0, 0.0, 0.0, 0.0, 0.0, 0.0, 0.0, 0.0, 0.0], [1.0, 1.0, 1.0, 1.0, 1.0, 1.0, 1.0, 1.0, 1.0, 1.0  …  0.0, 0.0, 0.0, 0.0, 0.0, 0.0, 0.0, 0.0, 0.0, 0.0]])"
      ]
     },
     "execution_count": 32,
     "metadata": {},
     "output_type": "execute_result"
    }
   ],
   "source": [
    "###I recommend setting `writ_features_out` to `true` so that predictions\n",
    "###can be retained for later usage \n",
    "predictions, verification, indexers = composite_prediction(test_config, write_features_out=true, feature_outfile=\"NEW_MODEL_PREDICTIONS_OUT.h5\")"
   ]
  },
  {
   "attachments": {},
   "cell_type": "markdown",
   "metadata": {},
   "source": [
    "## Now, let's see how the model did using the `get_contingency` function"
   ]
  },
  {
   "cell_type": "code",
   "execution_count": null,
   "metadata": {},
   "outputs": [
    {
     "data": {
      "text/html": [
       "<div><div style = \"float: left;\"><span>2×3 DataFrame</span></div><div style = \"clear: both;\"></div></div><div class = \"data-frame\" style = \"overflow-x: scroll;\"><table class = \"data-frame\" style = \"margin-bottom: 6px;\"><thead><tr class = \"header\"><th class = \"rowNumber\" style = \"font-weight: bold; text-align: right;\">Row</th><th style = \"text-align: left;\"></th><th style = \"text-align: left;\">True Meteorological</th><th style = \"text-align: left;\">True Non-Meteorological</th></tr><tr class = \"subheader headerLastRow\"><th class = \"rowNumber\" style = \"font-weight: bold; text-align: right;\"></th><th title = \"String\" style = \"text-align: left;\">String</th><th title = \"Float64\" style = \"text-align: left;\">Float64</th><th title = \"Float64\" style = \"text-align: left;\">Float64</th></tr></thead><tbody><tr><td class = \"rowNumber\" style = \"font-weight: bold; text-align: right;\">1</td><td style = \"text-align: left;\">Predicted Meteorological</td><td style = \"text-align: right;\">0.856</td><td style = \"text-align: right;\">0.006</td></tr><tr><td class = \"rowNumber\" style = \"font-weight: bold; text-align: right;\">2</td><td style = \"text-align: left;\">Predicted Non-Meteorological</td><td style = \"text-align: right;\">0.144</td><td style = \"text-align: right;\">0.994</td></tr></tbody></table></div>"
      ],
      "text/latex": [
       "\\begin{tabular}{r|ccc}\n",
       "\t&  & True Meteorological & True Non-Meteorological\\\\\n",
       "\t\\hline\n",
       "\t& String & Float64 & Float64\\\\\n",
       "\t\\hline\n",
       "\t1 & Predicted Meteorological & 0.856 & 0.006 \\\\\n",
       "\t2 & Predicted Non-Meteorological & 0.144 & 0.994 \\\\\n",
       "\\end{tabular}\n"
      ],
      "text/plain": [
       "\u001b[1m2×3 DataFrame\u001b[0m\n",
       "\u001b[1m Row \u001b[0m│\u001b[1m                              \u001b[0m\u001b[1m True Meteorological \u001b[0m\u001b[1m True Non-Meteorologi\u001b[0m ⋯\n",
       "     │\u001b[90m String                       \u001b[0m\u001b[90m Float64             \u001b[0m\u001b[90m Float64             \u001b[0m ⋯\n",
       "─────┼──────────────────────────────────────────────────────────────────────────\n",
       "   1 │ Predicted Meteorological                    0.856                    0. ⋯\n",
       "   2 │ Predicted Non-Meteorological                0.144                    0.\n",
       "\u001b[36m                                                                1 column omitted\u001b[0m"
      ]
     },
     "execution_count": 63,
     "metadata": {},
     "output_type": "execute_result"
    }
   ],
   "source": [
    "###If `normalize` is set to `true`, will return a contingency matrix where \n",
    "###Each column contains the predictions as a fraction of the total number of true values (each column will add to 1)\n",
    "get_contingency(predictions, Vector{Bool}(verification[:]))"
   ]
  },
  {
   "attachments": {},
   "cell_type": "markdown",
   "metadata": {},
   "source": [
    "## Looks pretty good! Lets now use it to actually apply quality control to the testing scans. "
   ]
  },
  {
   "cell_type": "code",
   "execution_count": 6,
   "metadata": {},
   "outputs": [
    {
     "name": "stdout",
     "output_type": "stream",
     "text": [
      "ERROR: POTENTIALLY INVALID FILE FORMAT FOR FILE: .tmp_hawkedit\n",
      "\u001b[32mLOADING MODELS....\u001b[39m\n",
      "QC-ing /Users/ischluesche/Documents/Grad_School/Research/Ronin/NOAA/TESTING//cfrad.20220907_125306.219_to_20220907_125310.193_N42RF-TM_AIR.ncINPUT_SET NCDatasets.NCDataset{Nothing, Missing}, VAR: StringAlready exists... overwriting\n",
      "\n",
      "Completed in 4.16283392906189 seconds\n",
      "\n",
      "\u001b[32mREMOVED 6593 PRESUMED NON-METEORLOGICAL DATAPOINTS\u001b[39m\n",
      "FINAL COUNT OF DATAPOINTS IN VEL: 61644\n",
      "INPUT_SET NCDatasets.NCDataset{Nothing, Missing}, VAR: StringAlready exists... overwriting\n",
      "\n",
      "Completed in 1.6243870258331299 seconds\n",
      "\n",
      "\u001b[32mREMOVED 4163 PRESUMED NON-METEORLOGICAL DATAPOINTS\u001b[39m\n",
      "FINAL COUNT OF DATAPOINTS IN VEL: 57481\n",
      "FINISHED QC-ing/Users/ischluesche/Documents/Grad_School/Research/Ronin/NOAA/TESTING//cfrad.20220907_125306.219_to_20220907_125310.193_N42RF-TM_AIR.nc in 6.61QC-ing /Users/ischluesche/Documents/Grad_School/Research/Ronin/NOAA/TESTING//cfrad.20220907_125306.750_to_20220907_125310.729_N42RF-TS_AIR.ncINPUT_SET NCDatasets.NCDataset{Nothing, Missing}, VAR: StringAlready exists... overwriting\n",
      "\n",
      "Completed in 0.7043540477752686 seconds\n",
      "\n",
      "\u001b[32mREMOVED 7244 PRESUMED NON-METEORLOGICAL DATAPOINTS\u001b[39m\n",
      "FINAL COUNT OF DATAPOINTS IN VEL: 63667\n",
      "INPUT_SET NCDatasets.NCDataset{Nothing, Missing}, VAR: StringAlready exists... overwriting\n",
      "\n",
      "Completed in 1.2304890155792236 seconds\n",
      "\n",
      "\u001b[32mREMOVED 3439 PRESUMED NON-METEORLOGICAL DATAPOINTS\u001b[39m\n",
      "FINAL COUNT OF DATAPOINTS IN VEL: 60228\n",
      "FINISHED QC-ing/Users/ischluesche/Documents/Grad_School/Research/Ronin/NOAA/TESTING//cfrad.20220907_125306.750_to_20220907_125310.729_N42RF-TS_AIR.nc in 1.96QC-ing /Users/ischluesche/Documents/Grad_School/Research/Ronin/NOAA/TESTING//cfrad.20220907_125318.857_to_20220907_125322.837_N42RF-TM_AIR.ncINPUT_SET NCDatasets.NCDataset{Nothing, Missing}, VAR: StringAlready exists... overwriting\n",
      "\n",
      "Completed in 0.675724983215332 seconds\n",
      "\n",
      "\u001b[32mREMOVED 6561 PRESUMED NON-METEORLOGICAL DATAPOINTS\u001b[39m\n",
      "FINAL COUNT OF DATAPOINTS IN VEL: 61878\n",
      "INPUT_SET NCDatasets.NCDataset{Nothing, Missing}, VAR: StringAlready exists... overwriting\n",
      "\n",
      "Completed in 1.0764169692993164 seconds\n",
      "\n",
      "\u001b[32mREMOVED 4245 PRESUMED NON-METEORLOGICAL DATAPOINTS\u001b[39m\n",
      "FINAL COUNT OF DATAPOINTS IN VEL: 57633\n",
      "FINISHED QC-ing/Users/ischluesche/Documents/Grad_School/Research/Ronin/NOAA/TESTING//cfrad.20220907_125318.857_to_20220907_125322.837_N42RF-TM_AIR.nc in 1.8QC-ing /Users/ischluesche/Documents/Grad_School/Research/Ronin/NOAA/TESTING//cfrad.20220907_125319.388_to_20220907_125323.368_N42RF-TS_AIR.ncINPUT_SET NCDatasets.NCDataset{Nothing, Missing}, VAR: StringAlready exists... overwriting\n",
      "\n",
      "Completed in 0.6715691089630127 seconds\n",
      "\n",
      "\u001b[32mREMOVED 7008 PRESUMED NON-METEORLOGICAL DATAPOINTS\u001b[39m\n",
      "FINAL COUNT OF DATAPOINTS IN VEL: 64072\n",
      "INPUT_SET NCDatasets.NCDataset{Nothing, Missing}, VAR: StringAlready exists... overwriting\n",
      "\n",
      "Completed in 1.1389129161834717 seconds\n",
      "\n",
      "\u001b[32mREMOVED 3287 PRESUMED NON-METEORLOGICAL DATAPOINTS\u001b[39m\n",
      "FINAL COUNT OF DATAPOINTS IN VEL: 60785\n",
      "FINISHED QC-ing/Users/ischluesche/Documents/Grad_School/Research/Ronin/NOAA/TESTING//cfrad.20220907_125319.388_to_20220907_125323.368_N42RF-TS_AIR.nc in 1.84QC-ing /Users/ischluesche/Documents/Grad_School/Research/Ronin/NOAA/TESTING//cfrad.20220907_125331.495_to_20220907_125335.475_N42RF-TM_AIR.ncINPUT_SET NCDatasets.NCDataset{Nothing, Missing}, VAR: StringAlready exists... overwriting\n",
      "\n",
      "Completed in 0.674346923828125 seconds\n",
      "\n",
      "\u001b[32mREMOVED 6471 PRESUMED NON-METEORLOGICAL DATAPOINTS\u001b[39m\n",
      "FINAL COUNT OF DATAPOINTS IN VEL: 62195\n",
      "INPUT_SET NCDatasets.NCDataset{Nothing, Missing}, VAR: StringAlready exists... overwriting\n",
      "\n",
      "Completed in 1.0935349464416504 seconds\n",
      "\n",
      "\u001b[32mREMOVED 3791 PRESUMED NON-METEORLOGICAL DATAPOINTS\u001b[39m\n",
      "FINAL COUNT OF DATAPOINTS IN VEL: 58404\n",
      "FINISHED QC-ing/Users/ischluesche/Documents/Grad_School/Research/Ronin/NOAA/TESTING//cfrad.20220907_125331.495_to_20220907_125335.475_N42RF-TM_AIR.nc in 1.8QC-ing /Users/ischluesche/Documents/Grad_School/Research/Ronin/NOAA/TESTING//cfrad.20220907_125332.026_to_20220907_125336.006_N42RF-TS_AIR.ncINPUT_SET NCDatasets.NCDataset{Nothing, Missing}, VAR: StringAlready exists... overwriting\n",
      "\n",
      "Completed in 0.8800749778747559 seconds\n",
      "\n",
      "\u001b[32mREMOVED 7061 PRESUMED NON-METEORLOGICAL DATAPOINTS\u001b[39m\n",
      "FINAL COUNT OF DATAPOINTS IN VEL: 64821\n",
      "INPUT_SET NCDatasets.NCDataset{Nothing, Missing}, VAR: StringAlready exists... overwriting\n",
      "\n",
      "Completed in 1.2443609237670898 seconds\n",
      "\n",
      "\u001b[32mREMOVED 3566 PRESUMED NON-METEORLOGICAL DATAPOINTS\u001b[39m\n",
      "FINAL COUNT OF DATAPOINTS IN VEL: 61255\n",
      "FINISHED QC-ing/Users/ischluesche/Documents/Grad_School/Research/Ronin/NOAA/TESTING//cfrad.20220907_125332.026_to_20220907_125336.006_N42RF-TS_AIR.nc in 2.15QC-ing /Users/ischluesche/Documents/Grad_School/Research/Ronin/NOAA/TESTING//cfrad.20220907_125344.168_to_20220907_125348.142_N42RF-TM_AIR.nc"
     ]
    },
    {
     "ename": "LoadError",
     "evalue": "NetCDF error: \u001b[31mNetCDF: HDF error\u001b[39m (NetCDF error code: -101)",
     "output_type": "error",
     "traceback": [
      "NetCDF error: \u001b[31mNetCDF: HDF error\u001b[39m (NetCDF error code: -101)",
      "",
      "Stacktrace:",
      " [1] check",
      "   @ ~/.julia/packages/NCDatasets/ivzVX/src/errorhandling.jl:25 [inlined]",
      " [2] nc_close(ncid::Int32)",
      "   @ NCDatasets ~/.julia/packages/NCDatasets/ivzVX/src/netcdf_c.jl:1217",
      " [3] close(ds::NCDatasets.NCDataset{Nothing, Missing})",
      "   @ NCDatasets ~/.julia/packages/NCDatasets/ivzVX/src/dataset.jl:299",
      " [4] NCDatasets.NCDataset(::Ronin.var\"#122#123\"{Bool, String, ModelConfig, Vector{Any}, Int64}, ::String, ::Vararg{String}; kwargs::@Kwargs{})",
      "   @ NCDatasets ~/.julia/packages/NCDatasets/ivzVX/src/dataset.jl:254",
      " [5] NCDataset",
      "   @ ~/.julia/packages/NCDatasets/ivzVX/src/dataset.jl:248 [inlined]",
      " [6] QC_scan(config::ModelConfig; output_probs::Bool, prob_name::String)",
      "   @ Ronin ~/Documents/Grad_School/Research/Ronin/src/Ronin.jl:1906",
      " [7] top-level scope",
      "   @ In[6]:1"
     ]
    }
   ],
   "source": [
    "QC_scan(test_config, output_probs=true, prob_name=\"MET_GATE_PROB\")"
   ]
  },
  {
   "cell_type": "code",
   "execution_count": 9,
   "metadata": {},
   "outputs": [
    {
     "data": {
      "text/plain": [
       "false"
      ]
     },
     "execution_count": 9,
     "metadata": {},
     "output_type": "execute_result"
    }
   ],
   "source": [
    "test_config.QC_mask"
   ]
  },
  {
   "cell_type": "code",
   "execution_count": null,
   "metadata": {},
   "outputs": [],
   "source": []
  }
 ],
 "metadata": {
  "kernelspec": {
   "display_name": "Julia 1.10.6",
   "language": "julia",
   "name": "julia-1.10"
  },
  "language_info": {
   "file_extension": ".jl",
   "mimetype": "application/julia",
   "name": "julia",
   "version": "1.10.6"
  },
  "orig_nbformat": 4
 },
 "nbformat": 4,
 "nbformat_minor": 2
}
